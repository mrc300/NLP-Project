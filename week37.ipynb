{
 "cells": [
  {
   "cell_type": "markdown",
   "id": "b2a21598",
   "metadata": {},
   "source": [
    "# WEEK 37\n"
   ]
  },
  {
   "cell_type": "code",
   "execution_count": 2,
   "id": "50500cb8",
   "metadata": {},
   "outputs": [],
   "source": [
    "##IMPORTS\n",
    "import pandas as pd\n",
    "import polars as pl\n",
    "from collections import Counter\n",
    "from transformers import pipeline\n",
    "from googletrans import Translator\n",
    "import string\n",
    "import nltk\n",
    "from nltk.corpus import stopwords\n",
    "from nltk import word_tokenize\n",
    "import regex as re\n",
    "from collections import Counter\n",
    "from googletrans import Translator\n",
    "import pickle\n",
    "import numpy as np"
   ]
  },
  {
   "cell_type": "code",
   "execution_count": 3,
   "id": "d4cdd5a3",
   "metadata": {},
   "outputs": [],
   "source": [
    "## K = 3\n",
    "\n",
    "#DOWNLOAD DATASET\n",
    "\n",
    "splits = {'train': 'train.parquet', 'validation': 'validation.parquet'}\n",
    "df_train = pd.read_parquet(\"hf://datasets/coastalcph/tydi_xor_rc/\" + splits[\"train\"])\n",
    "df_val = pd.read_parquet(\"hf://datasets/coastalcph/tydi_xor_rc/\" + splits[\"validation\"])\n"
   ]
  },
  {
   "cell_type": "code",
   "execution_count": null,
   "id": "407e07b7",
   "metadata": {},
   "outputs": [],
   "source": []
  }
 ],
 "metadata": {
  "kernelspec": {
   "display_name": "env",
   "language": "python",
   "name": "python3"
  },
  "language_info": {
   "codemirror_mode": {
    "name": "ipython",
    "version": 3
   },
   "file_extension": ".py",
   "mimetype": "text/x-python",
   "name": "python",
   "nbconvert_exporter": "python",
   "pygments_lexer": "ipython3",
   "version": "3.12.7"
  }
 },
 "nbformat": 4,
 "nbformat_minor": 5
}
