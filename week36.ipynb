{
  "cells": [
    {
      "cell_type": "code",
      "source": [
        "!pip install googletrans==4.0.0-rc1 unidecode\n"
      ],
      "metadata": {
        "colab": {
          "base_uri": "https://localhost:8080/"
        },
        "id": "NXoha97qspln",
        "outputId": "f945e34c-399b-4efd-f890-991a82f5b467"
      },
      "id": "NXoha97qspln",
      "execution_count": 12,
      "outputs": [
        {
          "output_type": "stream",
          "name": "stdout",
          "text": [
            "Requirement already satisfied: googletrans==4.0.0-rc1 in /usr/local/lib/python3.12/dist-packages (4.0.0rc1)\n",
            "Requirement already satisfied: unidecode in /usr/local/lib/python3.12/dist-packages (1.4.0)\n",
            "Requirement already satisfied: httpx==0.13.3 in /usr/local/lib/python3.12/dist-packages (from googletrans==4.0.0-rc1) (0.13.3)\n",
            "Requirement already satisfied: certifi in /usr/local/lib/python3.12/dist-packages (from httpx==0.13.3->googletrans==4.0.0-rc1) (2025.10.5)\n",
            "Requirement already satisfied: hstspreload in /usr/local/lib/python3.12/dist-packages (from httpx==0.13.3->googletrans==4.0.0-rc1) (2025.1.1)\n",
            "Requirement already satisfied: sniffio in /usr/local/lib/python3.12/dist-packages (from httpx==0.13.3->googletrans==4.0.0-rc1) (1.3.1)\n",
            "Requirement already satisfied: chardet==3.* in /usr/local/lib/python3.12/dist-packages (from httpx==0.13.3->googletrans==4.0.0-rc1) (3.0.4)\n",
            "Requirement already satisfied: idna==2.* in /usr/local/lib/python3.12/dist-packages (from httpx==0.13.3->googletrans==4.0.0-rc1) (2.10)\n",
            "Requirement already satisfied: rfc3986<2,>=1.3 in /usr/local/lib/python3.12/dist-packages (from httpx==0.13.3->googletrans==4.0.0-rc1) (1.5.0)\n",
            "Requirement already satisfied: httpcore==0.9.* in /usr/local/lib/python3.12/dist-packages (from httpx==0.13.3->googletrans==4.0.0-rc1) (0.9.1)\n",
            "Requirement already satisfied: h11<0.10,>=0.8 in /usr/local/lib/python3.12/dist-packages (from httpcore==0.9.*->httpx==0.13.3->googletrans==4.0.0-rc1) (0.9.0)\n",
            "Requirement already satisfied: h2==3.* in /usr/local/lib/python3.12/dist-packages (from httpcore==0.9.*->httpx==0.13.3->googletrans==4.0.0-rc1) (3.2.0)\n",
            "Requirement already satisfied: hyperframe<6,>=5.2.0 in /usr/local/lib/python3.12/dist-packages (from h2==3.*->httpcore==0.9.*->httpx==0.13.3->googletrans==4.0.0-rc1) (5.2.0)\n",
            "Requirement already satisfied: hpack<4,>=3.0 in /usr/local/lib/python3.12/dist-packages (from h2==3.*->httpcore==0.9.*->httpx==0.13.3->googletrans==4.0.0-rc1) (3.0.0)\n"
          ]
        }
      ]
    },
    {
      "cell_type": "code",
      "execution_count": 2,
      "id": "cfc3380d",
      "metadata": {
        "id": "cfc3380d"
      },
      "outputs": [],
      "source": [
        "##IMPORTS\n",
        "import pandas as pd\n",
        "import polars as pl\n",
        "from collections import Counter\n",
        "from transformers import pipeline\n",
        "from googletrans import Translator\n",
        "import string\n",
        "import nltk\n",
        "from nltk.corpus import stopwords\n",
        "from nltk import word_tokenize\n",
        "import regex as re\n",
        "from collections import Counter\n",
        "from googletrans import Translator\n",
        "import pickle\n",
        "import numpy as np"
      ]
    },
    {
      "cell_type": "markdown",
      "id": "13178b08",
      "metadata": {
        "id": "13178b08"
      },
      "source": [
        "# WEEK 36"
      ]
    },
    {
      "cell_type": "code",
      "execution_count": 3,
      "id": "a67142ad",
      "metadata": {
        "colab": {
          "base_uri": "https://localhost:8080/"
        },
        "id": "a67142ad",
        "outputId": "60b6904f-5f73-44f3-a504-f8ef6d302493"
      },
      "outputs": [
        {
          "output_type": "stream",
          "name": "stderr",
          "text": [
            "/usr/local/lib/python3.12/dist-packages/huggingface_hub/utils/_auth.py:94: UserWarning: \n",
            "The secret `HF_TOKEN` does not exist in your Colab secrets.\n",
            "To authenticate with the Hugging Face Hub, create a token in your settings tab (https://huggingface.co/settings/tokens), set it as secret in your Google Colab and restart your session.\n",
            "You will be able to reuse this secret in all of your notebooks.\n",
            "Please note that authentication is recommended but still optional to access public models or datasets.\n",
            "  warnings.warn(\n"
          ]
        }
      ],
      "source": [
        "#DOWNLOAD DATASET\n",
        "\n",
        "splits = {'train': 'train.parquet', 'validation': 'validation.parquet'}\n",
        "df_train = pd.read_parquet(\"hf://datasets/coastalcph/tydi_xor_rc/\" + splits[\"train\"])\n",
        "df_val = pd.read_parquet(\"hf://datasets/coastalcph/tydi_xor_rc/\" + splits[\"validation\"])"
      ]
    },
    {
      "cell_type": "markdown",
      "id": "ec0aac73",
      "metadata": {
        "id": "ec0aac73"
      },
      "source": [
        "## Stats"
      ]
    },
    {
      "cell_type": "code",
      "execution_count": 4,
      "id": "316f9bba",
      "metadata": {
        "colab": {
          "base_uri": "https://localhost:8080/"
        },
        "id": "316f9bba",
        "outputId": "2b087dc4-3baf-4dd2-a382-c06a9c8d40d1"
      },
      "outputs": [
        {
          "output_type": "stream",
          "name": "stdout",
          "text": [
            "Dataset sizes for selected languages:\n",
            "      train_size  val_size\n",
            "lang                      \n",
            "ar          2558       415\n",
            "ko          2422       356\n",
            "te          1355       384\n"
          ]
        }
      ],
      "source": [
        "#STATS\n",
        "\n",
        "#SIZE\n",
        "\n",
        "langs = [\"ar\", \"ko\", \"te\"]\n",
        "\n",
        "\n",
        "train_counts = df_train[df_train[\"lang\"].isin(langs)].groupby(\"lang\").size()\n",
        "\n",
        "\n",
        "val_counts = df_val[df_val[\"lang\"].isin(langs)].groupby(\"lang\").size()\n",
        "\n",
        "size_df = pd.DataFrame({\n",
        "    \"train_size\": train_counts,\n",
        "    \"val_size\": val_counts\n",
        "}).fillna(0).astype(int)\n",
        "\n",
        "print(\"Dataset sizes for selected languages:\")\n",
        "print(size_df)\n",
        "\n"
      ]
    },
    {
      "cell_type": "code",
      "execution_count": 5,
      "id": "905939a2",
      "metadata": {
        "colab": {
          "base_uri": "https://localhost:8080/"
        },
        "id": "905939a2",
        "outputId": "c564347e-19db-495d-f5c9-eda07f509d34"
      },
      "outputs": [
        {
          "output_type": "stream",
          "name": "stdout",
          "text": [
            "Arabic — TRAIN punctuation (char -> count):\n",
            "[('؟', 2556), ('\"', 80), ('(', 25), (')', 25), ('-', 5), ('.', 2), ('/', 2), ('«', 2), ('»', 2), ('_', 2), ('\\\\', 1), ('—', 1), ('!', 1), ('،', 1)]\n",
            "Arabic — VAL punctuation (char -> count):\n",
            "[('؟', 413), ('\"', 4), ('(', 3), (')', 3), ('،', 1), ('-', 1)]\n",
            "Korean — TRAIN punctuation (char -> count):\n",
            "[('?', 2420), (',', 23), ('.', 16), (\"'\", 6), ('\"', 6), ('-', 5), (':', 2), ('/', 1), ('\\\\', 1), ('(', 1), (')', 1)]\n",
            "Korean — VAL punctuation (char -> count):\n",
            "[('?', 356), ('.', 9), (',', 3), ('-', 1)]\n",
            "Telugu — TRAIN punctuation (char -> count):\n",
            "[('?', 1355), ('.', 42), (',', 6), ('-', 3), ('%', 1), ('–', 1)]\n",
            "Telugu — VAL punctuation (char -> count):\n",
            "[('?', 384), ('.', 2), ('-', 1), ('%', 1)]\n"
          ]
        }
      ],
      "source": [
        "\n",
        "# Each language punctuation\n",
        "PUNCT_RE = re.compile(r\"\\p{P}\", re.UNICODE)\n",
        "\n",
        "# ARABIC\n",
        "ar_train_q = df_train[df_train[\"lang\"] == \"ar\"][\"question\"].astype(str)\n",
        "ar_val_q   = df_val[df_val[\"lang\"] == \"ar\"][\"question\"].astype(str)\n",
        "\n",
        "ar_train_punct = Counter(ch for q in ar_train_q for ch in PUNCT_RE.findall(q))\n",
        "ar_val_punct   = Counter(ch for q in ar_val_q for ch in PUNCT_RE.findall(q))\n",
        "\n",
        "print(\"Arabic — TRAIN punctuation (char -> count):\")\n",
        "print(ar_train_punct.most_common())\n",
        "print(\"Arabic — VAL punctuation (char -> count):\")\n",
        "print(ar_val_punct.most_common())\n",
        "\n",
        "# KOREAN\n",
        "ko_train_q = df_train[df_train[\"lang\"] == \"ko\"][\"question\"].astype(str)\n",
        "ko_val_q   = df_val[df_val[\"lang\"] == \"ko\"][\"question\"].astype(str)\n",
        "\n",
        "ko_train_punct = Counter(ch for q in ko_train_q for ch in PUNCT_RE.findall(q))\n",
        "ko_val_punct   = Counter(ch for q in ko_val_q for ch in PUNCT_RE.findall(q))\n",
        "\n",
        "print(\"Korean — TRAIN punctuation (char -> count):\")\n",
        "print(ko_train_punct.most_common())\n",
        "print(\"Korean — VAL punctuation (char -> count):\")\n",
        "print(ko_val_punct.most_common())\n",
        "\n",
        "# TELUGU\n",
        "te_train_q = df_train[df_train[\"lang\"] == \"te\"][\"question\"].astype(str)\n",
        "te_val_q   = df_val[df_val[\"lang\"] == \"te\"][\"question\"].astype(str)\n",
        "\n",
        "te_train_punct = Counter(ch for q in te_train_q for ch in PUNCT_RE.findall(q))\n",
        "te_val_punct   = Counter(ch for q in te_val_q for ch in PUNCT_RE.findall(q))\n",
        "\n",
        "print(\"Telugu — TRAIN punctuation (char -> count):\")\n",
        "print(te_train_punct.most_common())\n",
        "print(\"Telugu — VAL punctuation (char -> count):\")\n",
        "print(te_val_punct.most_common())\n"
      ]
    },
    {
      "cell_type": "code",
      "execution_count": 6,
      "id": "2b5d529a",
      "metadata": {
        "colab": {
          "base_uri": "https://localhost:8080/"
        },
        "id": "2b5d529a",
        "outputId": "af6f30df-301f-4817-b7fa-d4ce1550eafa"
      },
      "outputs": [
        {
          "output_type": "stream",
          "name": "stdout",
          "text": [
            "Arabic — TRAIN total words: 16199\n",
            "Arabic — VAL total words: 2617\n",
            "Korean — TRAIN total words: 11858\n",
            "Korean — VAL total words: 1736\n",
            "Telugu — TRAIN total words: 7690\n",
            "Telugu — VAL total words: 2302\n"
          ]
        }
      ],
      "source": [
        "\n",
        "## Each language total words (not counting punctuation)\n",
        "# tokenizer: split on \\W+ (non-word chars); protect hyphens between letters/digits\n",
        "# safeguard: build punctuation set from training+validation data, do not count these tokens as well\n",
        "\n",
        "SPLIT_RE = re.compile(r\"\\W+\", re.UNICODE)          # tokenizer\n",
        "HY = \"HYPHENJOIN\"                                  # placeholder for protected hyphens\n",
        "PROTECT_HYPHEN = re.compile(r\"(?<=[\\p{L}\\p{N}])-(?=[\\p{L}\\p{N}])\", re.UNICODE)  # hyphen between letters/digits\n",
        "\n",
        "# ARABIC\n",
        "ar_train_q = df_train[df_train[\"lang\"] == \"ar\"][\"question\"].astype(str)\n",
        "ar_val_q   = df_val[df_val[\"lang\"] == \"ar\"][\"question\"].astype(str)\n",
        "\n",
        "# build punctuation set (optional safeguard)\n",
        "ar_punct_set = set(ch for q in pd.concat([ar_train_q, ar_val_q]) for ch in PUNCT_RE.findall(q))\n",
        "\n",
        "# protect hyphens, split on \\W+, restore hyphens; slashes will split\n",
        "ar_train_tokens = []\n",
        "for q in ar_train_q:\n",
        "    q2 = PROTECT_HYPHEN.sub(HY, q)\n",
        "    toks = [t.replace(HY, \"-\") for t in SPLIT_RE.split(q2) if t and t not in ar_punct_set]\n",
        "    ar_train_tokens.extend(toks)\n",
        "\n",
        "ar_val_tokens = []\n",
        "for q in ar_val_q:\n",
        "    q2 = PROTECT_HYPHEN.sub(HY, q)\n",
        "    toks = [t.replace(HY, \"-\") for t in SPLIT_RE.split(q2) if t and t not in ar_punct_set]\n",
        "    ar_val_tokens.extend(toks)\n",
        "\n",
        "print(\"Arabic — TRAIN total words:\", len(ar_train_tokens))\n",
        "print(\"Arabic — VAL total words:\",   len(ar_val_tokens))\n",
        "\n",
        "# KOREAN\n",
        "ko_train_q = df_train[df_train[\"lang\"] == \"ko\"][\"question\"].astype(str)\n",
        "ko_val_q   = df_val[df_val[\"lang\"] == \"ko\"][\"question\"].astype(str)\n",
        "\n",
        "ko_punct_set = set(ch for q in pd.concat([ko_train_q, ko_val_q]) for ch in PUNCT_RE.findall(q))\n",
        "\n",
        "ko_train_tokens = []\n",
        "for q in ko_train_q:\n",
        "    q2 = PROTECT_HYPHEN.sub(HY, q)\n",
        "    toks = [t.replace(HY, \"-\") for t in SPLIT_RE.split(q2) if t and t not in ko_punct_set]\n",
        "    ko_train_tokens.extend(toks)\n",
        "\n",
        "ko_val_tokens = []\n",
        "for q in ko_val_q:\n",
        "    q2 = PROTECT_HYPHEN.sub(HY, q)\n",
        "    toks = [t.replace(HY, \"-\") for t in SPLIT_RE.split(q2) if t and t not in ko_punct_set]\n",
        "    ko_val_tokens.extend(toks)\n",
        "\n",
        "print(\"Korean — TRAIN total words:\", len(ko_train_tokens))\n",
        "print(\"Korean — VAL total words:\",   len(ko_val_tokens))\n",
        "\n",
        "# TELUGU\n",
        "te_train_q = df_train[df_train[\"lang\"] == \"te\"][\"question\"].astype(str)\n",
        "te_val_q   = df_val[df_val[\"lang\"] == \"te\"][\"question\"].astype(str)\n",
        "\n",
        "te_punct_set = set(ch for q in pd.concat([te_train_q, te_val_q]) for ch in PUNCT_RE.findall(q))\n",
        "\n",
        "te_train_tokens = []\n",
        "for q in te_train_q:\n",
        "    q2 = PROTECT_HYPHEN.sub(HY, q)\n",
        "    toks = [t.replace(HY, \"-\") for t in SPLIT_RE.split(q2) if t and t not in te_punct_set]\n",
        "    te_train_tokens.extend(toks)\n",
        "\n",
        "te_val_tokens = []\n",
        "for q in te_val_q:\n",
        "    q2 = PROTECT_HYPHEN.sub(HY, q)\n",
        "    toks = [t.replace(HY, \"-\") for t in SPLIT_RE.split(q2) if t and t not in te_punct_set]\n",
        "    te_val_tokens.extend(toks)\n",
        "\n",
        "print(\"Telugu — TRAIN total words:\", len(te_train_tokens))\n",
        "print(\"Telugu — VAL total words:\",   len(te_val_tokens))\n"
      ]
    },
    {
      "cell_type": "code",
      "execution_count": 7,
      "id": "4d5ef06c",
      "metadata": {
        "colab": {
          "base_uri": "https://localhost:8080/"
        },
        "id": "4d5ef06c",
        "outputId": "47dd6d80-c83e-43d9-95d0-733c1cbc4fb0"
      },
      "outputs": [
        {
          "output_type": "stream",
          "name": "stdout",
          "text": [
            "Arabic — numeric tokens (train): 78\n",
            "Arabic — numeric tokens (val): 11\n",
            "Arabic — hyphenated tokens (train): 3\n",
            "Arabic — hyphenated tokens (val): 0\n",
            "Korean — numeric tokens (train): 9\n",
            "Korean — numeric tokens (val): 1\n",
            "Korean — hyphenated tokens (train): 5\n",
            "Korean — hyphenated tokens (val): 1\n",
            "Telugu — numeric tokens (train): 107\n",
            "Telugu — numeric tokens (val): 39\n",
            "Telugu — hyphenated tokens (train): 0\n",
            "Telugu — hyphenated tokens (val): 0\n"
          ]
        }
      ],
      "source": [
        "#Stats on numeric and hyphenated tokens\n",
        "\n",
        "# Arabic\n",
        "ar_numbers_train = sum(1 for t in ar_train_tokens if t.isdigit())\n",
        "ar_numbers_val   = sum(1 for t in ar_val_tokens if t.isdigit())\n",
        "\n",
        "ar_hyphen_train = sum(1 for t in ar_train_tokens if \"-\" in t)\n",
        "ar_hyphen_val   = sum(1 for t in ar_val_tokens if \"-\" in t)\n",
        "\n",
        "print(\"Arabic — numeric tokens (train):\", ar_numbers_train)\n",
        "print(\"Arabic — numeric tokens (val):\",   ar_numbers_val)\n",
        "print(\"Arabic — hyphenated tokens (train):\", ar_hyphen_train)\n",
        "print(\"Arabic — hyphenated tokens (val):\",   ar_hyphen_val)\n",
        "\n",
        "# Korean\n",
        "ko_numbers_train = sum(1 for t in ko_train_tokens if t.isdigit())\n",
        "ko_numbers_val   = sum(1 for t in ko_val_tokens if t.isdigit())\n",
        "\n",
        "ko_hyphen_train = sum(1 for t in ko_train_tokens if \"-\" in t)\n",
        "ko_hyphen_val   = sum(1 for t in ko_val_tokens if \"-\" in t)\n",
        "\n",
        "print(\"Korean — numeric tokens (train):\", ko_numbers_train)\n",
        "print(\"Korean — numeric tokens (val):\",   ko_numbers_val)\n",
        "print(\"Korean — hyphenated tokens (train):\", ko_hyphen_train)\n",
        "print(\"Korean — hyphenated tokens (val):\",   ko_hyphen_val)\n",
        "\n",
        "# Telegu\n",
        "te_numbers_train = sum(1 for t in te_train_tokens if t.isdigit())\n",
        "te_numbers_val   = sum(1 for t in te_val_tokens if t.isdigit())\n",
        "\n",
        "te_hyphen_train = sum(1 for t in te_train_tokens if \"-\" in t)\n",
        "te_hyphen_val   = sum(1 for t in te_val_tokens if \"-\" in t)\n",
        "\n",
        "print(\"Telugu — numeric tokens (train):\", te_numbers_train)\n",
        "print(\"Telugu — numeric tokens (val):\",   te_numbers_val)\n",
        "print(\"Telugu — hyphenated tokens (train):\", te_hyphen_train)\n",
        "print(\"Telugu — hyphenated tokens (val):\",   te_hyphen_val)\n"
      ]
    },
    {
      "cell_type": "code",
      "execution_count": 8,
      "id": "0e346b64",
      "metadata": {
        "colab": {
          "base_uri": "https://localhost:8080/"
        },
        "id": "0e346b64",
        "outputId": "aa984f75-6f7d-4397-9d9e-ceab77c19607"
      },
      "outputs": [
        {
          "output_type": "stream",
          "name": "stdout",
          "text": [
            "Arabic — Top 5 most common words (TRAIN):\n",
            "في\tcount=593\t→ in\n",
            "من\tcount=587\t→ from\n",
            "متى\tcount=536\t→ when\n",
            "ما\tcount=443\t→ what\n",
            "هو\tcount=350\t→ he\n",
            "\n",
            "Korean — Top 5 most common words (TRAIN):\n",
            "가장\tcount=527\t→ most\n",
            "무엇인가\tcount=497\t→ something\n",
            "언제\tcount=336\t→ when\n",
            "몇\tcount=234\t→ some\n",
            "어디인가\tcount=228\t→ where is it\n",
            "\n",
            "Telugu — Top 5 most common words (TRAIN):\n",
            "ఎవరు\tcount=274\t→ who\n",
            "ఏది\tcount=192\t→ which is\n",
            "ఎన్ని\tcount=165\t→ how many\n",
            "ఎప్పుడు\tcount=154\t→ when\n",
            "ఏ\tcount=144\t→ A\n"
          ]
        }
      ],
      "source": [
        "#5 Most common words (not counting punctuation); with English translations and their count\n",
        "\n",
        "translator = Translator()\n",
        "\n",
        "# ARABIC\n",
        "# (skip pure numbers)\n",
        "ar_counts = Counter([t.lower() for t in ar_train_tokens if t ])\n",
        "ar_top5 = ar_counts.most_common(5)\n",
        "\n",
        "print(\"Arabic — Top 5 most common words (TRAIN):\")\n",
        "for w, c in ar_top5:\n",
        "    try:\n",
        "        en = translator.translate(w, src='ar', dest='en').text\n",
        "    except Exception as e:\n",
        "        en = f\"[translation error: {e}]\"\n",
        "    print(f\"{w}\\tcount={c}\\t→ {en}\")\n",
        "\n",
        "# KOREAN\n",
        "ko_counts = Counter([t.lower() for t in ko_train_tokens if t ])\n",
        "ko_top5 = ko_counts.most_common(5)\n",
        "\n",
        "print(\"\\nKorean — Top 5 most common words (TRAIN):\")\n",
        "for w, c in ko_top5:\n",
        "    try:\n",
        "        en = translator.translate(w, src='ko', dest='en').text\n",
        "    except Exception as e:\n",
        "        en = f\"[translation error: {e}]\"\n",
        "    print(f\"{w}\\tcount={c}\\t→ {en}\")\n",
        "\n",
        "#  TELUGU\n",
        "te_counts = Counter([t.lower() for t in te_train_tokens if t])\n",
        "te_top5 = te_counts.most_common(5)\n",
        "\n",
        "print(\"\\nTelugu — Top 5 most common words (TRAIN):\")\n",
        "for w, c in te_top5:\n",
        "    try:\n",
        "        en = translator.translate(w, src='te', dest='en').text\n",
        "    except Exception as e:\n",
        "        en = f\"[translation error: {e}]\"\n",
        "    print(f\"{w}\\tcount={c}\\t→ {en}\")\n"
      ]
    },
    {
      "cell_type": "markdown",
      "id": "287a0a3d",
      "metadata": {
        "id": "287a0a3d"
      },
      "source": [
        "### We conclude the words are \"stop words\" that we learned in the lecture"
      ]
    },
    {
      "cell_type": "code",
      "execution_count": 9,
      "id": "d4a95d97",
      "metadata": {
        "colab": {
          "base_uri": "https://localhost:8080/"
        },
        "id": "d4a95d97",
        "outputId": "cfa40996-5499-480b-b0e6-e1abecedb77b"
      },
      "outputs": [
        {
          "output_type": "stream",
          "name": "stdout",
          "text": [
            "Split Language  Total  Answerable  Unanswerable  Answerable Ratio\n",
            "train       ar   2558        2303           255          0.900313\n",
            "train       ko   2422        2359            63          0.973988\n",
            "train       te   1355        1310            45          0.966790\n",
            "  val       ar    415         363            52          0.874699\n",
            "  val       ko    356         337            19          0.946629\n",
            "  val       te    384         291            93          0.757812\n"
          ]
        }
      ],
      "source": [
        "# Stats about answerable vs unanswerable questions\n",
        "\n",
        "# Define languages and splits\n",
        "\n",
        "split_dfs = {\n",
        "    \"train\": df_train,\n",
        "    \"val\":   df_val\n",
        "}\n",
        "\n",
        "\n",
        "rows = []\n",
        "for split_name, df in split_dfs.items():\n",
        "    for lang in langs:\n",
        "        total = df[df[\"lang\"] == lang].shape[0]\n",
        "        ans   = df[(df[\"lang\"] == lang) & (df[\"answerable\"])].shape[0]\n",
        "        unans = total - ans\n",
        "        ratio = ans / total if total > 0 else 0\n",
        "        rows.append([split_name, lang, total, ans, unans, ratio])\n",
        "\n",
        "# Create summary DataFrame\n",
        "summary = pd.DataFrame(rows, columns=[\"Split\", \"Language\", \"Total\", \"Answerable\", \"Unanswerable\", \"Answerable Ratio\"])\n",
        "print(summary.to_string(index=False))\n"
      ]
    },
    {
      "cell_type": "markdown",
      "id": "bd5a706b",
      "metadata": {
        "id": "bd5a706b"
      },
      "source": [
        "# RULE BASE CLASSIFIER"
      ]
    },
    {
      "cell_type": "code",
      "execution_count": 32,
      "id": "b60KL8ViRNKn",
      "metadata": {
        "id": "b60KL8ViRNKn"
      },
      "outputs": [],
      "source": [
        "import os\n",
        "import numpy as np\n",
        "import pandas as pd\n",
        "import regex as re\n",
        "import string\n",
        "from unidecode import unidecode\n",
        "\n",
        "#stop words\n",
        "nltk.download('stopwords', quiet=True)\n",
        "try:\n",
        "    nltk.download('punkt', quiet=True)\n",
        "except Exception:\n",
        "    pass\n",
        "\n",
        "STOP_WORDS = set(stopwords.words('english')) | set(string.punctuation) #joining stop words with ponctuation\n",
        "\n",
        "\n",
        "LANGS = [\"ar\", \"ko\", \"te\"]\n"
      ]
    },
    {
      "cell_type": "markdown",
      "source": [
        "### Translation pipeline (translating questions and contexts to english for the rule base classifier)"
      ],
      "metadata": {
        "id": "cD4lWlQvzHch"
      },
      "id": "cD4lWlQvzHch"
    },
    {
      "cell_type": "code",
      "execution_count": 30,
      "id": "57dkoe5pRQId",
      "metadata": {
        "colab": {
          "base_uri": "https://localhost:8080/"
        },
        "id": "57dkoe5pRQId",
        "outputId": "dd2ab4ef-da9d-494b-c271-6784fadf302b"
      },
      "outputs": [
        {
          "output_type": "stream",
          "name": "stdout",
          "text": [
            "PyTorch: 2.8.0+cu126\n",
            "CUDA available: True\n",
            "Using device idx for HF pipeline: 0\n"
          ]
        },
        {
          "output_type": "stream",
          "name": "stderr",
          "text": [
            "Device set to use cuda:0\n"
          ]
        }
      ],
      "source": [
        "import torch\n",
        "from transformers import pipeline\n",
        "\n",
        "print(\"PyTorch:\", torch.__version__)\n",
        "print(\"CUDA available:\", torch.cuda.is_available())\n",
        "DEVICE = 0 if torch.cuda.is_available() else -1\n",
        "print(\"Using device idx for HF pipeline:\", DEVICE)\n",
        "\n",
        "MODEL_ID = \"facebook/nllb-200-distilled-600M\"  #traslation model being used\n",
        "SRC_CODES = {\"ar\": \"arb_Arab\", \"ko\": \"kor_Hang\", \"te\": \"tel_Telu\"}\n",
        "TGT_CODE = \"eng_Latn\"\n",
        "\n",
        "\n",
        "nllb = pipeline(\"translation\", model=MODEL_ID, tokenizer=MODEL_ID, device=DEVICE)\n"
      ]
    },
    {
      "cell_type": "code",
      "execution_count": 24,
      "id": "470eea80",
      "metadata": {
        "id": "470eea80"
      },
      "outputs": [],
      "source": [
        "from typing import List, Iterable, Dict, Optional\n",
        "from tqdm import tqdm\n",
        "\n",
        "#Function to translate a list of strings to English using NLLB\n",
        "#Assumes src_lang is one of LANGS and uses SRC_CODES mapping\n",
        "\n",
        "\n",
        "def translate_list_pipe(texts: List[str],\n",
        "                        src_lang: str,\n",
        "                        batch_size: int = 128,\n",
        "                        max_length: int = 320,\n",
        "                        show_progress: bool = True) -> List[str]:\n",
        "\n",
        "    if src_lang not in SRC_CODES:\n",
        "        raise ValueError(f\"Unknown lang code '{src_lang}'. Expected one of {list(SRC_CODES)}\")\n",
        "\n",
        "    outputs = []\n",
        "    iterator = range(0, len(texts), batch_size)\n",
        "    if show_progress:\n",
        "        iterator = tqdm(iterator, total=(len(texts) + batch_size - 1)//batch_size, desc=f\"Translating {src_lang}->EN\")\n",
        "\n",
        "    for i in iterator:\n",
        "        batch = [x if isinstance(x, str) else \"\" for x in texts[i:i+batch_size]]\n",
        "        try:\n",
        "            preds = nllb(\n",
        "                batch,\n",
        "                src_lang=SRC_CODES[src_lang],\n",
        "                tgt_lang=TGT_CODE,\n",
        "                truncation=True,\n",
        "                max_length=max_length\n",
        "            )\n",
        "            outputs.extend([p.get(\"translation_text\", \"\") for p in preds])\n",
        "        except Exception as e:\n",
        "            print(f\"[WARN] Batch {i}:{i+len(batch)} failed: {type(e).__name__}: {e}\")\n",
        "            outputs.extend([\"\"] * len(batch))\n",
        "    return outputs"
      ]
    },
    {
      "cell_type": "code",
      "execution_count": 18,
      "id": "d9577d0d",
      "metadata": {
        "colab": {
          "base_uri": "https://localhost:8080/"
        },
        "id": "d9577d0d",
        "outputId": "c1e9bb9e-227a-4844-9a23-d29b842b0bf1"
      },
      "outputs": [
        {
          "output_type": "stream",
          "name": "stdout",
          "text": [
            "[question] Translating 2558 rows for lang='ar'...\n"
          ]
        },
        {
          "output_type": "stream",
          "name": "stderr",
          "text": [
            "Translating ar->EN:  50%|█████     | 10/20 [06:39<06:40, 40.02s/it]You seem to be using the pipelines sequentially on GPU. In order to maximize efficiency please use a dataset\n",
            "Translating ar->EN: 100%|██████████| 20/20 [13:04<00:00, 39.22s/it]\n",
            "/tmp/ipython-input-3801645048.py:45: FutureWarning: Setting an item of incompatible dtype is deprecated and will raise an error in a future version of pandas. Value '['When did Russia intervene in the Syrian civil war?', 'When did Hungary gain its independence from Austria ?', 'When did France and Great Britain unite against Germany in war?', 'How many casualties in the first Israeli attack on Gaza City ?', 'Is the Harry Potter series against the laws of Christianity ?', 'How many were the victims of the Spanish occupation of South America ?', 'Is higher education free in the United States?', 'Is Islam forbidden to consider women as merchants?', 'What was the first U.S. state to legalize same-sex marriage ?', \"Why did the United States oppose Israel's declaration of Jerusalem as its capital in 1949?\", 'How long did it take to plan the Iraq war in the United States ?', 'Why did Russia interfere in the Syrian conflict ?', 'When did Russia intervene in the Syrian war?', 'Who was the first to convert from Islam after the death of the Prophet Muhammad ?', \"What 's the first U.S. state to legalize same-sex marriage ?\", 'Who is the president of the United States of America who intervened in the Gulf War?', 'When did Spain extend its control over Cuba?', 'Is Catalonia a separate territory from Spain ?', 'When did Russia intervene in the Syrian conflict ?', 'Is the conflict between Ukraine and the separatists still going on ?', 'Who is the originator of the capitalist system ?', 'Why did the United States occupy Afghanistan ?', 'What was the name of the first Iraqi region to be invaded by the United States?', 'When did the Roman Empire come into being?', 'Is it enough to just give women the right to drive in Saudi Arabia?', 'Do men and women have equal rights in Saudi Arabia ?', 'Who was leading the Axis forces in World War II?', \"Who launched the Spanish black legend to tarnish Spain's reputation?\", 'Who is the Syrian president who lost Golan to Israel?', 'What is the estimated number of victims of the ongoing conflict in Ukraine?', 'Who is the first UN envoy to Yemen after the 2011 Youth Revolution?', 'What are the largest cities in the U.S. state of Kentucky?', 'When was solar energy first used to generate electricity?', \"What is Spain's economic ranking among the countries of the European Union?\", 'Can Arabs and Jews live in peace ?', 'Did Turkey participate in the invasion of Iraq?', 'Who was the first president of the United States of America in 2009?', 'Where was the largest gathering of Christians in Africa during Byzantine rule ?', 'When did the French armies invade Portugal?', 'Who is the founder of Islam ?', 'Who was the president of the United States in 2000?', 'Is the Syrian government allied with Saudi Arabia to suppress the protests?', 'When did Israel launch its first missile attack on Syria?', 'Is there freedom of the press in Jordan ?', 'When did the Spanish occupy South America ?', 'When did the Egyptian Armed Forces start their first wars ?', 'When did Sweden and Norway separate from each other?', 'Who is the first woman to serve as prime minister in an Islamic state?', 'How can there be peace between Jews and Arabs in Palestine ?', 'In what year did Greece enter World War I?', \"What 's the best medical school in London ?\", 'In which U.S. state does NASA launch spacecraft?', 'Who is the president who ruled Pakistan?', 'What is the capital of Russia?', \"What's the difference between a gasoline-powered car and an electric motor in environmental pollution?\", 'In what year did Soviet forces attack Vilnius, the capital of Lithuania, to stop its independence?', 'How many denominations are there in Christianity?', 'Who freed Egypt from the French campaign?', 'When did ISIS move into Syria?', \"Who 's the 40th president of the United States ?\", 'What proportion of Protestants believed in the Christian faith in France until 2010?', 'In which year did Sweden declare some or all abortions legal?', 'When did the military raid against Islamic State begin?', 'When did the Turkish-French war start?', 'Who was the president of India when Pakistan separated from India?', 'When did you use my first steamboat ?', 'What is the capital of the province of Gipuzkoa in the Basque region of Spain?', 'Where did the Tunisian president who fled after the Tunisian revolution take refuge?', 'Will the Egyptian army take over after the establishment of the republic in the country?', 'Why did Germany invade the Soviet Union ?', 'Who is the head of government of Gibraltar?', 'What is the second largest city in Ukraine in terms of population?', 'Which company is credited with first using yellow for taxis?', 'Is Islam a hostile religion?', 'What is the relationship between Christianity and Judaism?', 'Who is the ninja squid commander?', \"Who was Egypt's first president after British independence?\", \"When was Australia's first constitution adopted?\", 'Does the law in Germany punish me for uploading films with a registered trademark ?', 'When did the first bio-terrorism attacks in the U.S. take place?', 'Who divided the Middle East under a treaty after World War I?', 'How many years did slavery last in southern Iraq?', 'Is there any statistics on the number of ground troops in the Egyptian army?', 'What does Christianity have in common with Islam ?', 'When did capitalism begin ?', 'Does Islam build its foundations on Christianity?', 'What is the name of the eagle used in the emblems of the United States of America?', \"What is the annual paper production rate of the People's Republic of China?\", 'How many Spanish territories?', 'How did Iran become a Muslim state ?', 'What is the economic term for an excessive rise in prices at the general level?', \"How much is Egypt's tourism revenue in 2012?\", 'Did the Greeks believe that the process of vision was caused by the emission of rays from the eye?', \"In what year was Sudan's independence from Egypt and the United Kingdom and the proclamation of the Republic?\", 'When was the Coptic Orthodox Church of Egypt founded?', 'What is the third largest city in the United States of America?', 'When did the Iraqi state become independent?', 'When did wrestler Hawk Hogan retire?', 'Who appointed Jesus Christ according to Christian belief?', 'Have any Qatari troops participated in the Arab coalition set up by Saudi Arabia?', 'When did the U.S. Navy come into being?', \"When was Apple's first desktop computer released?\", 'Who was the first to use the flow of water to generate energy ?', \"Who's currently number one in the women's tennis rankings?\", 'When did Google first launch an e-mail service?', 'In what year did the Vatican abolish the deprivation of the Italian world of Galileo?', 'Is ISIS backed by the Saudi government ?', 'How many casualties were there in the war in Afghanistan ?', 'Who is the third president of the United States of America?', \"What 's the lowlands ?\", 'Is there any official statistics on the number of Jews in Syria ?', 'How did Pharaoh, the warrior of Judaism, die?', 'When was Pope Francis born ?', 'How many years of primary education in Germany ?', 'In what year was Pope Francis born?', 'Who was the first African country to have a woman as president?', 'How long has it been since France colonized Somalia ?', 'When did Pope Francis die ?', 'When was the first war on the Gaza Strip ?', 'With whom did Turkey stand during World War II ?', 'In which year did the Republic of Serbia declare its secession from Bosnia and Herzegovina?', 'Who was the American military commander who decided to bomb Hiroshima and Nagasaki ?', \"Do I derive Africa's name from the old name of Tunisia?\", 'How big is Florida ?', 'What is the logo of the German company Audi?', 'How many victims of the Holocaust?', 'What is the percentage of oil production per BP of Egypt in 2018?', 'When was same-sex marriage recognized in Switzerland?', 'When was the decision made to turn Socotra Island into a prefecture ?', 'What is the capital of the Republic of Botswana?', 'Why the economic crisis in Libya in 2015?', 'Who is the leader of the pro-Russian separatist Ukrainian movement?', 'When did Nazi Germany occupy Belgium ?', 'Are Arabs considered Arabs or are they a different people?', 'What is the name of the party to which the British politician Jimmy Corbyn belongs?', 'In what year did Spain recover its land from the Muslims?', 'How many rapes in the U.S. in a year ?', 'Are you accusing Saudi Arabia of exporting terrorism ?', 'How much does Egypt spend on the army ?', 'Which club in the world has won the double?', 'Who was the first to explore astronomy in the Renaissance?', 'When was Jerusalem declared the capital of Israel ?', \"What 's the second largest Dutch city after Amsterdam ?\", 'Who founded the Salafi-Wahhabi Islamic Movement ?', 'What was the capital of Andalusia?', 'Do Jews consider Arabs to be relatives ?', 'Is the botus considered a migratory bird ?', 'How many people have been killed since the Syrian war ?', 'When did the civil war in Bahrain end?', \"Could the Renaissance dam contribute to reducing Egypt and Sudan's share of the Nile water?\", 'Who was the warden of Aden during the time of the Prophet Muhammad?', 'In what year did Rome adopt Christianity?', 'What is the oldest capital city in Europe?', 'Who was the first Palestinian liberation movement ?', 'Who was the first emperor of the Roman Empire?', 'When did Albert Einstein put forward the theory of relativity?', 'What is the number of Egyptian National Army infantry ?', 'How many matches has England played in the World Cup ?', 'Who first played Superman?', 'When did Chinese medicine emerge?', 'When did Russia start supplying Turkey with the first cargo of the S-400 air defense system?', 'What was the first wagon train?', 'Who fought the Ottoman Empire in World War I?', 'What was the name of the first president of Germany appointed after Adolf Hitler?', 'Who was the president of the Lebanese Republic between 1964 and 1970?', 'Who was the first king of Spain ?', 'Who is the second president of the United States of America?', 'Who was the first Lebanese president?', 'Who was the first president of UNESCO?', 'When was the Kuwaiti Liberal Movement founded ?', 'When was I first diagnosed with cancer ?', 'Who was the first Lebanese president ?', 'Does excessive use of lasers pose a risk to the body?', \"What 's the ratio of gays to lesbians in the United States of America ?\", \"When was the Women 's Rights Organization formed ?\", 'How many types of Jews are there in the world ?', 'What is the radioactive material used in the nuclear missile ?', 'What are the biggest cities in Austria ?', 'What is the mean gestation period in cats ?', 'What is the activity of the American Suffrage Organization?', 'Is Islam tolerant of homosexuals ?', \"How long did Harold Wilson 's ministry last ?\", 'Where is child sexual abuse most prevalent ?', 'Did the state of Yugoslavia break up into duels during World War II?', 'In what year did the Argentine Senate approve a bill granting same-sex couples the right to marry?', 'When did Newton publish his paper on special relativity?', \"What's the state?\", 'Who is the founder of the Republic of China?', \"Who's the president who took over after Richard Nixon?\", 'When did you invent the Internet?', 'When was our Lord Jesus Christ born?', 'Were the Arab revolutions an illusion and a plan by outside hands?', \"Could early bonding be the reason a man uses his partner 's violence ?\", 'When were chemical weapons first used?', 'When was solar energy first used ?', 'Who owns the book of Islam and the crisis of the West?', 'How many members of the modern Egyptian army were there when it was founded ?', 'What is the capital of Canada?', \"What's the capital of Canada?\", 'When did Christianity enter Europe?', 'Who was the first ruling dynasty in North Korea?', 'Who was the leader of al Qaeda?', 'What is the area of the Republic of Finland?', \"What's the biggest city in Kentucky?\", 'Where do the Greeks live ?', 'Under which French president was the Louvre pyramid built?', 'What is the average age of puberty for females in northern Europe?', 'When were the Ottomans driven out of Hungary ?', 'Is opium legal for use in the United States ?', 'Who developed modern biology ?', 'Who is the fifth president of the United States of America?', 'Who is the first Abbasid warden in Yemen?', \"Who is the world's first electrical researcher?\", 'When was Palestine occupied?', 'When was Palestine occupied ?', 'What is the date of death of the late Saudi activist Jamal Khashoggi?', 'What was the percentage of people agreeing to Brexit ?', 'To whom did the Sassanid name come from?', 'When did Italy become involved in World War I?', 'Does business automation increase unemployment?', 'Who is the architect credited with designing the Escorial Monastery in Spain?', 'Does the Spanish Navy have submarines?', 'When did the great famine in medieval Europe occur?', 'Who was the first British governor of Iraq?', 'What was the first university to offer a PhD?', 'What was the first country to manufacture a submarine?', 'Does the word \"Azerbaijan\" still mean anything?', 'How corrupt is the Saudi government?', 'Why is Holland called the Lowlands ?', \"What 's the remaining number of Red Indians ?\", 'When did Judaism go down ?', 'How old was the prophet Muhammad when he received the revelation?', 'What was the role of women in Europe during the Middle Ages ?', 'Where is the uranium in the modern periodic table ?', 'When did the Spanish Premier League start?', 'Is there a cure for homosexuality ?', 'What was the first club played by Dutchman Robin van Persie?', 'Does arsenic cause direct death?', 'Who flew the first helicopter?', 'Is there oxygen on the surface of any planet in our solar system?', 'Who used to live on the Arabian Peninsula?', 'Who was the first actor to play Joker in the Batman film series?', 'When did the Persian Empire take over?', 'What is the nationality of the mother of the tenth Ottoman Sultan?', 'Can the carpet industry be used?', \"What's the natural protein content of a human?\", 'What language is spoken in the noble city of Babylon ?', 'Who was the first Arab researcher in sociology?', 'What was the first country in the world to pass a law protecting homosexuals?', \"When was the world's first subway built?\", 'When did Facebook launch the store service ?', 'Where did the Prophet Jesus Christ, our Lord Jesus, live?', 'How did David Hume contribute to the development of Scottish philosophy ?', 'When did the French occupation leave Algeria ?', 'Who was the founder of the Soviet Union ?', 'Who is the Arab tourism capital in 2014?', 'Is White Russia still part of Russia ?', 'When did the Byzantine Roman Empire fall ?', 'Who was the first Arab doctor to recognize smallpox?', 'Who laid the foundations of modern English?', 'What is the rule of hijab in Islam ?', 'When was Crimea separated from Ukraine?', 'Who was the king of Morocco in 2008?', 'How can divers see underwater ?', 'Is Tunisia a developing country?', 'Is alcohol allowed in Judaism?', 'Who is the current Secretary of Higher Education in the United States?', 'When did the Assyrian civilization come into being ?', \"Who was Abbas's first governor of Egypt?\", 'How did the prophet Joseph become the king of Egypt ?', 'How can I prevent children from experiencing domestic violence ?', 'Who was the last person to be publicly executed in the United States?', 'When were the first democratic elections held in Libya?', 'Who is the current Prime Minister of Australia?', 'When were U.S. troops withdrawn from Iraq?', 'What was the first U.S. state where oil was discovered ?', \"What 's the maximum penalty for rape in American law ?\", 'Who fought the Prophet Isa in spreading his invitation?', 'How long did the Persian Empire last ?', 'What is the official currency in Albania?', 'What is the average age of girls in Africa ?', 'What are the largest cities in Syria?', \"What 's the biggest city in Syria ?\", 'Who destroyed the World Trade Tower ?', 'How long did the Persian Empire last?', 'Who was the first scientist to measure the speed of light?', 'Is fasting practiced in Hinduism?', 'Who was the first king of Germany?', 'How many types of Red Indian tribes are there ?', 'When did Christianity spread to Greece ?', 'When did the United States create the American missile shield?', 'Who is the voice of Tiana in the Arabic dubbing of The Princess and the Frog?', 'How many guns do two cities have in America?', 'What was the first country to join the European Union?', \"What is the unified religion 's view of homosexuality ?\", 'What is the punishment for sexual harassment in Tunisian law ?', 'When did Prince Ismail Pasha bin Ibrahim al-Hariri Al-Rawi live ?', 'Can psychological violence be prevented in its early stages ?', 'What are the most famous examples of immoral experiments in the Soviet Union ?', 'Is it possible for Russia to become the dominant power in the coming years?', 'What is the nationality of leader Joseph Stalin ?', 'Who discovered the genetic code in humans ?', 'Where was the Canaanite civilization ?', 'Does the infidel kill in Islam ?', 'What is the nationality of the late fighter Chi Guevara?', 'Who was the first Arab astronomer ?', 'Who was the first Arab astronomer ?', 'In what year did the British BBC start broadcasting television to the public?', 'What is the proportion of desert land in Syria ?', 'Can near-Earth clashes with planet Earth?', 'What are the biggest Tunisian cities ?', 'What are the risks of attention deficit hyperactivity in the elderly?', 'Who drafted the Libyan constitution ?', 'What was the first newspaper to rely on pictures?', 'What was the scientific record held by the late poet Nazar Kabani?', 'What club did he play for before he moved to Manchester City, England?', \"What 's the area of Kentucky ?\", 'Who invented the modern rules of management coordination ?', 'How many years did the Old Caliphate last ?', 'When did Islam arrive on the island of Sicily?', 'When did Syria gain its independence from France?', 'Does a decrease in red blood cells cause death?', 'How long did the Phoenician civilization last in Syria?', 'When did the Red Crescent Organization first emerge?', 'Can a woman become president of Lebanon?', 'Is Istanbul the capital of Turkey ?', 'Did the Austrian armed forces take part in the invasion of Iraq?', 'Can a woman rape a man ?', 'Who is the fourth president of the United States of America?', 'Has Mongolia ever been occupied by China?', 'When was the first gasoline-powered car invented?', 'Who was the first human?', 'What is the capital of Yugoslavia?', 'When was Simpson first shown to me ?', 'Why does modern Islam forbid the game of chess?', 'When was the Austrian army founded?', 'How many last verbs are missing in Arabic?', 'When was the U.S. Military Agency established ?', 'In what year was the air raid on the city of Budapest launched?', 'Who ruled Italy before the unification movement ?', 'Who was the first woman to lead an African country?', 'How many victims of the Chernobyl disaster ?', 'What is the religion of the Vikings ?', 'When did you start studying the philosophy of human rights in Britain ?', 'What is the most African country whose territory the Nile flows through?', 'Is Syria a fragile country right now ?', 'What is the annual income of the Israeli army ?', 'Who was the first Shah of Iran?', 'Is astronomy a science or just a belief about conditions?', 'When did the Ottomans enter Constantinople ?', 'Is the flag service in Syria mandatory ?', 'What was the first Kuwaiti city entered by the Iraqi army during the invasion of Kuwait?', \"How much is China's GDP according to the latest statistics?\", 'What is the total number of Canary Islands?', 'Has Drew studied genetics?', 'When did you produce the first batch of Russian SAM-6 missiles?', \"Are Boeing's planes used by Emirates?\", 'Who are the pirates ?', 'When did the civil war break out in Libya ?', \"When was the United People's Nasser Party founded in Yemen?\", 'When did Windows B start being used on computers?', 'When did cowboys live in North America ?', 'What is the capital and largest city of the Republic of Namibia?', 'What is the ideology of the Houthi movement in Yemen?', 'How many IoT devices are connected to the Internet ?', 'What is the mechanism of the RBMK nuclear reactor?', \"Who was Britain's first queen?\", 'How does a conventional flu happen ?', 'Can the human brain become infected?', \"Is the elder the source of man's thinking?\", 'Were biological weapons used in World War II?', 'How many official languages are there in Pakistan?', 'When did the prophet Joseph live ?', \"Who 's safe , the first prince of the Abbasid state ?\", 'When did Russia produce the first generation of the Katyusha weapon?', \"What 's the area of Puerto Rico ?\", \"When was the U.S. soccer team's first World Cup appearance?\", 'Has the Egyptian ever played against the Spanish club Barcelona?', 'What kind of soil is Hungary ?', \"Why are Muslims so concerned about the Prophet Muhammad 's painting and his companions ?\", 'What is the age of Judaism ?', 'What are the most important uses of gravel ?', 'Does a person get water germs once in a lifetime?', 'What religion forbids meat?', 'When did you discover the American continent?', \"What 's the difference between black tea and green tea ?\", 'How can we produce large quantities of wheat without overuse of pesticides and chemicals?', \"Who 's the Nobel Prize-winning Egyptian writer ?\", 'What is the unemployment rate in France ?', 'What other sports did Michael Jordan play?', 'What damage does cancer do to cells?', \"What is Titan's largest moon and largest particle in the solar system without a planetary split?\", \"When 's the acrobatics show ?\", 'What is the capital of New Spain?', 'Who is the 32nd President of the United States?', 'Is it necessary to analyze the detection of steroids before competitions?', 'When was same-sex marriage legalized in California ?', 'Can clean energy contribute to reducing global warming?', 'What is the percentage of Muslims in Portugal now?', 'How many African countries have hosted the World Cup finals?', 'What was the first Iranian film to discuss homosexuality?', 'When was the Second Zionist Congress held?', \"Where 's the biggest Buddhist temple ?\", \"What was Gandhi's sweat?\", 'What is the name of the water channel that Saudi Arabia wanted to dig to turn Qatar into an island?', \"What 's the diamond element for a punch in mathematics ?\", 'When was the international recognition of the state of South Sudan?', 'Has the Libyan army succeeded in taking control of Chad?', 'When did the Spanish occupation of South America end ?', \"Who was Lebanon's first president since independence?\", 'Who was the first money printer in the world ?', 'When did Finland come into being?', 'Does plastic dissolve in water ?', 'How many branches of Islam are agreed upon?', 'Who discovered the magnetic field?', 'When did the Portuguese explorers arrive in the east of the Arabian Peninsula ?', 'What are the largest countries in Eastern Europe?', 'When did Iran join OPEC?', 'Is procarbacin a medication to relieve melanoma?', 'What is the first Maronite church in Lebanon ?', 'What language is the word anthropology derived from?', 'Where did Father Jean-Jacques Rousseau die?', 'Who was the commander of the U.S. Army during Operation Desert Storm ?', 'When did John Cena join the wrestling union ?', 'What is the official language in Canada?', 'Who is the first president of South Korea ?', 'What university did philosopher Michel Foucault graduate from ?', 'In what year did the official unity between Egypt and Libya begin?', 'Is fasting practiced in Buddhism?', 'How many Jane Austen novelists?', \"What 's the capital of Illinois ?\", 'When did India produce the atomic bomb ?', 'Where is the oldest Arabic library?', 'What is the Spanish territory in which Barcelona is located?', 'What is the population of Ukraine ?', 'How much did Avengers make in America?', 'How many letters in Chinese?', 'How old was Napoleon Bonaparte when he died?', \"Who's the vice president who took over the presidency temporarily after Nasser Mubarak?\", 'When was a condom first used?', 'What is the native language of the people of Morocco?', 'When was David Ricardo born and put forward the theory of the law of relative advantage in economics?', 'How close was John the Baptizer to Jesus Christ?', \"How long was the reign of the fifth Abbasid caliph Abu Ja'far Harun bin Muhammad al-Mahdi bin Abu Ja'far al-Mansour?\", \"What 's the Armenian area ?\", 'When did you start using Windows 10 on computers?', 'When did the adult successors rule?', 'When was the British occupation of Egypt ?', \"Who's the third president of the United States?\", 'When did Jordan agree to participate in direct peace negotiations with Israel?', 'In what year did the Orange Free State end up in South Africa?', 'Does adolescence involve physiological changes?', 'When did compulsory education begin in Kuwait?', 'When was the first generation of the Russian T-80 produced?', \"What 's the function of the Red Cross ?\", 'Who approves the state budget in France?', 'Are there laws in America to impose equal pay?', 'Can a human be able to live with one kidney?', 'Who discovered the Bermuda Triangle ?', 'Is DNA a carrier of genetic information in living cells?', \"Is Syria one of the countries that recognized Abkhazia's independence?\", 'What are the most famous Saudi exports ?', 'What language do the Amazighs in North Africa speak?', 'Who was the king and founder of the Hashemite Kingdom of Jordan after the Great Arab Revolution?', 'What was the first country to export wine in 2015?', 'Do indigenous people in Australia have all citizenship rights ?', 'Who is the current head of the Palestinian Authority ?', 'Who was the successor to the city of Basra?', 'Who invented the centrifuge ?', 'Is the United States the number one source of weapons in the world ?', 'Who was the oldest child when he died ?', 'Who invented the electrical circuit ?', 'When did you start pop music ?', 'When was Aleppo destroyed?', 'What is the residence of the President of the United States of America called?', 'What are the risks of consuming cheap melamine ?', 'What is the population of Jerusalem ?', 'Who is the 43rd President of the United States?', 'What is the proportion of violence against women in Egypt ?', 'Is Japanese derived from Chinese ?', 'Can war slaves be raped ?', 'Who was the president of the Dominican Republic in 2016 ?', 'When did the Ottomans enter Syria ?', \"In the event of a divorce , does the wife get the husband 's property ?\", 'When was the Red Crescent Organization founded ?', 'Is there a particular philosophy that was influenced by Nazism ?', \"When was Al Gore's documentary on the effects of global warming released?\", \"Where was the world 's first college of pharmacy established ?\", \"When was Pat Man 's cartoon released ?\", 'Who committed the Armenian massacre ?', 'Which was the first country to ban the use of plastic bags in commercial spaces?', 'When was the British Sky Channel founded?', 'Who do family planning services include ?', 'How much tea does China produce annually?', 'Who was the last ruler of the Austro-Hungarian Empire?', 'When did Scotland qualify for the World Cup for the first time?', 'When does South Africa declare independence ?', \"Who was India 's first president after independence ?\", 'What does the term \"flash drive\" mean?', 'What was the first university in New York City?', 'Who is the spiritual father of the Ahmadiyya ?', 'What was the first civilization in ancient China?', 'Who was the first president of Uganda ?', \"What 's the tax rate in Germany ?\", \"Who was Lazio 's most famous player when it was founded ?\", 'Who was the first governor of the Kingdom of Tonga?', 'Who is the third Imam of the Shia?', \"What 's the probability of a third world war breaking out ?\", 'Is polygamy allowed in Britain?', 'When did Commodore International go bankrupt ?', 'Did the Omani protests result in human casualties?', 'Who is the current commander of the Yemeni Republican Guard?', \"What's the highest death toll from a hurricane?\", 'When was chocolate first exported to Africa ?', 'What are the parties to the Black September conflict ?', 'Is the UAE an oil exporter?', 'Who in the world has succeeded in detecting the 3D structure of hemoglobin?', 'How far is South Dakota from Texas?', 'When did the Malays take over Iraq?', 'Is the Saudi Arabian Space News Channel owned by Saudi King Salman?', 'Is the end of the Umayyad the beginning of the golden age of Islam ?', \"Who was Sudan's first president after independence?\", 'In what year was the British Empire founded?', 'What is the population of France in 2000?', 'Who was the commander of the Egyptian GIS in the October War?', 'What are the smallest states of Germany?', 'Who was the first to figure out how to unencrypt an astringent ?', \"What 's the Fribourg spot ?\", 'Is the story of Lawrence of Arabia real ?', 'How many parties have signed the Oslo Accords?', 'Who is the head of the U.S. Agency for International Development in Tunisia ?', \"What's the distance between Pluto and the Sun?\", 'What is the capital of the Akkadian Empire?', 'When was Columbia University founded in New York City?', 'How long did St. Stephen I rule Hungary?', \"What 's the largest Yemeni city by area ?\", 'Who is reviewing Wikipedia?', 'What is the primary method of infection control ?', 'How many religions are there in Egypt?', \"Who's the production company for the Ice Age cartoon?\", 'When did the Phoenician civilization fall ?', 'Who led the Japanese attack at the Battle of Midway?', 'When was the Arab RT channel launched?', 'When did the idea of selling wives become famous in England ?', 'What are the largest oil producing Arab countries in 2016?', 'When was renewable energy used to generate electricity?', 'How many languages are spoken in Estonia?', 'Who is the fifth guru of the Sikh religion founded by Nanak?', 'Where were the Kazakhs?', 'Who is the founder of the Republic of Panama ?', 'Is the neutron mass larger than the proton mass?', 'What is the legal definition of divorce in Christianity ?', \"Is wearing silver for men forbidden in Islam according to my Qur'an?\", 'Who developed the game Civilizations?', 'Who was the first American to receive the Nobel Prize in Science?', 'What was the first film produced by HBO in the United States?', 'What borders the Republic of Macedonia to the south?', 'What does the abbreviation \"WWW\" usually attached to websites mean?', 'When was the first private psychiatric hospital in America founded?', \"How long does it take for the sun's rays to reach the earth's surface?\", 'Who laid the foundations of modern psychology ?', \"Why do Jews believe they are God 's chosen people ?\", 'When was modern Yemen founded?', \"What's the frequency of Halley's guilty passage over the ground?\", 'When did Robert Bob Beasley play football?', 'When were the first episodes of the American horror film series Halloween released?', 'To which country belongs the Transnistrian Republic legally?', 'What is the name of the first female president of Indonesia?', \"Who's the second president of the United States?\", 'What language is spoken in Bulgaria ?', \"Does Alzheimer's affect a specific age group?\", 'When did the actor who played the wizard Severus Snape in the Harry Potter film series die?', 'Has the American singer Bob Dylan ever won the Nobel Prize for Literature?', 'Which Saudi cities are near the Yemeni border ?', 'How many straw hat pirates are there ?', 'Who built the Cathedral of Saint Michel in Paris?', \"What's the first newspaper in Lebanon?\", 'How many holidays a week are there in the United States of America?', 'When did Larry Page meet Sergei Brin ?', 'What is quantum physics , simply ?', \"Who was South Korea 's first elected president ?\", 'Can you learn to surf in Sharm el-Sheikh ?', 'How do greenhouses recover from global warming ?', 'How many Premier League titles has Alex Ferguson won with Manchester United?', 'How many countries on the Scandinavian Peninsula?', 'How did Princess Diana die?', 'When did the Persian Empire end ?', 'Can gays get married in Lebanon ?', 'What are the oldest universities in the Philippines?', 'Who is the 18th president of the United States?', 'Who was the commander of the Soviet army at the Battle of Stalingrad ?', 'Who was the first African country to host the World Cup?', 'Are drugs allowed in Islam?', 'How did the United States respond to the attack on Pearl Harbor ?', 'Why is the old American West called the Wild West ?', \"Who 's the singer who performed Rehab ?\", \"What 's the biggest continent ?\", 'Does it accept the euro in Bulgaria ?', 'Is there a branch of SBSE in any Arab country?', 'Is it legal to buy marijuana in Hungary ?', 'How many languages are spoken in India ?', 'How many stars in the Milky Way?', 'Who is the rightful heir to the throne?', \"Who's the founder of Coca-Cola?\", 'Is the bishop higher than the bishop?', 'What are the biggest cities in England?', 'When was the famine in Ethiopia?', 'When did Pope Urban VIII appoint Pope of the Catholic Church?', 'What are the largest Iranian cities?', 'Who first used oil to make engines?', 'Who brought Christianity to South Africa ?', 'When was Google Now launched?', 'When did the Iraq war start ?', \"What's the most dangerous snake in the world?\", 'What is the system of government in Saudi Arabia ?', \"What 's the most dangerous snake in the world ?\", 'How many German cities ?', \"Where did you find the world's first regular daily newspaper?\", 'Can homosexuals live safely in Turkey ?', 'How many IDF troops are there ?', 'What do you call a person who speaks multiple languages ?', 'Is Aleppo the economic capital of Syria?', 'How long did the Austro-Hungarian Empire last?', 'Does the Koran look like the Bible ?', 'Who is the President of the Republic of the Union of Myanmar ?', 'Who is the President of the Republic of the Union of Myanmar ?', 'What is the official language of the Republic of Kiribati ?', 'Was James the Elder the twelve disciples of Christ?', 'In what year was the House of Lords of the United Kingdom founded?', 'Who invented the Space Shuttle Hope?', 'How many times has England been crowned world champion of cricket?', 'Who else died aboard the Titanic?', \"What's the biggest prison in the world for 2019?\", 'When did the evangelical sect appear in America?', 'Who is the second president of the Republic of Yemen?', 'How many times have you won the Egyptian League ?', 'When was the first Batman movie released ?', 'Who is the founder of quantum theory in physics?', 'How many times has the Indian team been crowned world cricket champions?', 'When was the Carthaginian civilization founded?', 'When did C++ come out?', 'How many members of the German parliament?', 'Which country in the world extracts the most electricity from solar thermal energy?', \"What's Batman's name in the movie?\", \"How did the Turks' conversion to Islam affect the balance of power at that time?\", 'Is e-mail a nonverbal communication process?', \"Where did you mention God's good names?\", 'Which Egyptian scientist won the Nobel Prize in Chemistry?', \"How much of Saudi Arabia's desert?\", 'When did the U.S. build the MIM-104 Patriot batteries?', 'How far are the pyramids of Giza from the Egyptian capital ?', \"What's the Saudi royal palace called?\", \"When was Barry Gibb's first musical production?\", 'Who in the world is credited with laying the groundwork for skepticism in physics?', 'How many episodes are there from Game Story?', 'Does deep cleaning cause tooth decay ?', \"Who was Abbas's first successor?\", \"What 's the name of the son of a lion ?\", 'Who is the president of Yemen for 2019?', 'How many rebel armed factions are there in Syria?', 'Is there freedom of belief in Libya ?', 'Who was the base offensive player at the Libyan Hockey Club in 2010 ?', 'How many years did Henry play for English Arsenal?', 'How many U.S. senators ?', 'What is the gestation period of a female horse ?', 'What are the largest rivers on the Atlantic coast of the United States?', 'Is self-sacrifice lawful in Islam ?', 'Who in the Arab world is credited with founding the science of differentiation and integration?', 'Is Descartes considered one of the European Renaissance philosophers?', 'How many days after his resurrection did Jesus ascend to heaven?', 'Who is the god of Hinduism ?', 'How many Yemeni armed forces are ready to fight ?', 'How many times a year do Christians fast?', 'When was the Libyan revolution ?', 'Who is the founder of the Kingdom of Japan ?', \"What's the name of the canal that connects the Caribbean to the Pacific Ocean?\", 'How was Jesus Christ born?', 'Do industrial proteins help muscle growth?', 'When did the blue-tooth technique come out?', \"What's the percentage of Muslims around the world in the current tenth percentile?\", 'When did Stan Lee, the founder of Marvel Comics, die?', 'When did the Spanish War of Independence end?', 'Is the excessive fear of gaining weight the cause of neurotoxicity ?', 'What is the punishment for rape in Morocco?', 'How many Saudi Royal Navy destroyers are there ?', \"What 's the area of Lebanon ?\", \"Who's the most decorated player at the Roland Garros International?\", 'Who was the president of Bangladesh in 2007 ?', \"Where's the memory center in the brain?\", 'What is the oldest dam in the Republic of Yemen?', 'What was the first portable phone with a rear-facing camera?', 'What is the capital of East Germany?', 'When was my first TV show?', \"Where did you print the world 's first newspaper ?\", \"What's the normal weight of the liver in the body?\", 'What is the dominant religion on the island of Hawaii?', 'How many Chinese characters ?', 'What was the capital of East Germany?', 'When was the first rocket launched into space ?', \"How many prophets and apostles are mentioned in the Qur 'an ?\", \"Who's the last heir to the old throne?\", 'What are the most famous works of the Chinese poet Guan Muye ?', 'What language is spoken in the Republic of the Union of Myanmar ?', 'In what year was the British House of Commons founded?', 'When was Google founded?', 'When was the stock exchange founded in the United States of America ?', 'Who in the world is known as the father of nuclear physics?', 'When was the electric guitar invented?', 'When did chemical fertilizers start to be used in agriculture ?', \"What 's the danger of the ozone hole ?\", 'What do you mean , a festival ?', 'How can psychological abuse be treated in children ?', 'How many grains does a human have ?', 'Did the Inca Empire build the Maya pyramids?', 'When was Hannibal Gaddafi kidnapped from Syria?', 'When did the fifth Ottoman-Venetian War take place?', \"Who's the Prime Minister of Scotland in 2019?\", 'Is it possible to smoke indoors in Berlin ?', 'Why is there a dispute over the Second Amendment to the U.S. Constitution?', 'When did the American series Sex and the City come out?', \"What 's the most susceptible class to stem cell cancer ?\", 'What is the capital of Azerbaijan?', 'How many Yellowstone Park visitors a year ?', 'Which country has the best weapon ever ?', 'When did the American doctor Larry McDonald die?', 'What is the capital of the Ottoman state?', 'What is the capital of the Republic of Azerbaijan?', 'When did Canadian professional wrestler Kevin 60 get his first title?', 'What is the most widely spoken European language in Africa?', 'What is the capital of the Republic of Azerbaijan?', 'In which dynasty were the pyramids built?', 'Where is the territory of Catalonia?', 'Are the acid trees soot crops?', \"What's the name of the part in the brain that's responsible for memory?\", 'Is carbon dioxide isolation safe ?', 'What are the longest rivers in China?', \"What 's the longest river in China ?\", 'When were microbes first used to make milk ?', 'Who was the first family in the Persian Empire ?', 'Is the tomb of Jesus Christ in the Church of the Resurrection?', 'Who invented the first printing press ?', 'When was the first German passport issued?', 'Was the ideal shape for a Victorian woman a long, slender trunk and broad tail?', 'Who invented the electron microscope?', 'Who invented the cannon ?', 'What are the largest Italian islands?', 'Was Russia a member of NATO?', 'How long was the Islamic thunderbolt of the invading Roman Sultan?', \"When was St. Basil's Cathedral founded in Moscow?\", \"Where's the biggest circus gathering?\", 'What is the atomic mass of uranium?', 'When was pharaoh civilization founded?', 'When did Montenegro secede from Serbia?', 'When was the first book printed ?', \"What was the world's first coffee shop?\", 'When was Prime Minister Nouri al-Said fired?', 'What kind of flying saucers does the flying saucer record ?', 'Who invented the rifle ?', 'Does omega-3 help to strengthen memory?', 'When did Ferdinand VII take the throne of Spain?', 'When was the Gay Liberation Movement founded ?', 'Who do you consider to be the spiritual leader of the movement for the unification of Italy ?', 'What are the largest Canadian provinces after Nunavut?', 'What is the population of Bosnia and Herzegovina ?', \"What was President Abdel Fattah al-Sisi's military rank before he took power?\", 'When did the Greek civilization end ?', 'When did the concept of recruitment come about?', 'What is a pyramid to man ?', 'How many islands in Yemen ?', 'How long does it take a woman to menstruate ?', 'Who was the actress who contributed to the \"Me Too\" hashtag?', 'How many Muslim armies were there during the trench invasion ?', 'What is the third largest city in France ?', 'How can we reduce CO2 emissions ?', 'How old was Saddam Hussein at the time of his execution ?', 'Has Saudi Arabia won a gold medal for equestrianism at the Olympics?', 'When was a syringe first used in medicine ?', 'Who was the first president of South Korea?', \"When was the world's first bank opened?\", 'How many major Christian denominations are there?', 'When did America take over Alaska ?', 'Who was the first king of the kingdom?', 'When did Switzerland, known for its neutrality, join the United Nations?', 'In what year did Brunei gain independence from the United Kingdom?', 'Does the polar bear live in Antarctica?', 'Who is the current editor-in-chief of The Washington Post ?', 'Who invited me to start the Second Crusade ?', \"When 's the women 's rights convention ?\", 'Has a solution to the Libyan crisis been found since the revolution on February 17th , 2011 ?', 'How long did the Bahraini protests last?', 'In which Armenian city is there a Garni temple?', 'What is the Shiite population in Bahrain ?', 'How many types of malicious gossip ?', 'What is the largest Palestinian city?', 'When was the term terrorism first used?', 'When did South Africa participate in the Africa Cup of Nations for the first time?', 'How many adult successors?', \"What's the biggest city in Brazil?\", 'Is fasting practiced in the Sikh religion?', 'What is the nationality of writer Agatha Christie?', 'Is the level of intelligence related to the size of the brain ?', 'Is a depressed person considered a mentally ill person?', 'Where is Saudi Arabia geographically ?', 'Have you closed all prisons in the state of Norway?', 'Is smoking marijuana legal in Colombia?', \"Does Asperger's lead to death?\", 'What is the highest mountain peak in Switzerland?', 'Is the Indian state of Sikkim considered coastal or inland?', 'Who is the discoverer of vitamin D ?', 'What are the dangers of premature birth ?', 'What causes cancer cells to grow?', 'What was the first country to manufacture the B-17 bomber used in World War II?', 'What are the complications of breast cancer ?', 'How many victims of the Zodiac Massacre ?', 'When was the Wage Act enacted ?', \"What 's the biggest collapse in Asia ?\", 'How many American troops were there in World War II ?', 'When did a woman receive the British crown?', 'Is the phenomenon of symptom killing widespread in the Arab world ?', 'How long did the Ottoman occupation of North Africa last ?', 'What are the largest cities in Austria?', 'What are the largest cities in Virginia?', 'Is the pulmonary nerve a sensory and motor nerve at the same time?', 'Who was the first Ottoman Sultan?', 'What is the longest river in Asia?', 'How many countries border Mexico ?', 'How many Italian speakers are there ?', \"What 's the biggest island in the Philippines ?\", 'How long does it take for domestic cats to get pregnant ?', 'When did the struggle in Balochistan against separatist groups begin?', \"What is David Hume 's most important work ?\", 'Are there grip muscles in the esophagus ?', 'When was the first Google Android phone released?', 'Is Solid Works a manufacturing engineering program?', 'Who occupied Lebanon in the 20th century?', 'How can DNA be replicated ?', \"Is Parkinson's a disease that affects children?\", \"Who's the author of the history book since the city was founded?\", 'When did the first queen of Madagascar , Ranavalona , take the throne ?', 'How big is Baku?', \"How long is a horse's pregnancy?\", 'Who founded the Franciscan order?', 'What is the population of Ecuador ?', 'What kind of warplanes are used by the Syrian army?', 'When did the philosophers of light live?', 'Who invented the camera?', 'When was the first transsexual operation performed ?', 'Why was President Benazir Bhutto assassinated ?', 'How many medals did Tunisia win at the 2012 Olympics?', 'Who designed C++?', \"What 's the most famous haircut with a mermaid ?\", 'Is the warming real?', 'Who is the founder of the Chinese company Huawei?', 'Is Egypt facing the Red Sea?', 'Do you classify homosexuality as a psychological problem?', 'Where do you print the euro?', \"Who's the most successful English team in the UEFA Champions League?\", \"Who's the physicist who invented the microwave?\", 'When did Liverpool win their first Champions League?', 'In what year was the University of Pretoria founded in the Republic of South Africa?', 'How many planets in our solar system ?', 'Can you measure the age of ice ?', 'Why would the Muslims be defeated in an invasion ?', 'How long did the Algerian War of Independence last?', 'Are homosexuals allowed to join the military in Israel?', 'Was Descartes a proponent of the theory that animals have no souls?', 'When did President Borot Bahor take over the presidency of Slovenia?', 'What is the capital of the Kingdom of Tonga?', 'How can gender dysfunction be treated ?', 'What are the largest universities in Egypt?', 'What is the average age of an adult lion ?', 'Who published the Communist Party Statement?', 'In which city did Buddhism begin?', 'Is the hijab imposed in Judaism?', \"Who's the current president of South Korea?\", 'What was the language of the ancient Egyptians?', 'Did Jamal Khashoggi work at the Washington Post?', 'When did Russia participate in the FIFA World Cup for the first time ?', 'How many children of King Abdullah II ?', 'When was the Japanese Empire overthrown ?', 'Is Ireland an island of the British Isles?', \"Who 's the mayor of Manila ?\", \"Who's got the highest IQ score on the IQ test?\", 'Where did reggae music come from?', \"Who discovered Earth 's sphere ?\", 'In what year did al-Hussein bin Ali bin Abi , a student from Mecca , migrate to the city ?', \"What's the result of the combination of yellow and red?\", 'When was the UN High Commissioner for Human Rights founded?', \"Who was Sudan 's first president since independence ?\", 'What are the rules of chess?', \"What 's SpaceX 's profit in 2018 ?\", 'Who was the first president of the Republic of Finland?', 'Did Nelson Mandela contribute to transitional justice in South Africa?', \"Who's the fifth heir to the illiterate son?\", 'Does humanity belong to any religion ?', \"How big is Saudi Arabia's ice zone?\", \"Is the city of Homs high above the earth 's surface ?\", \"What was the name of Ford's first car?\", \"What was the cause of Francis ' daughter Mary 's death ?\", 'Has Alphabet ever made the Forbes Global list of the largest software companies?', 'How many countries overlook the Red Sea?', 'When was an Emirati artificial island created?', \"Who is India's first defence minister?\", \"What 's Shakespeare 's most famous play ?\", 'When did the eyeprint technology come out ?', 'How much is the government allocated for childcare under Swedish law?', 'What is the population of the Republic of Colombia in 2017?', 'To which tribe does the Islamic prophet Muhammad belong?', 'What is the nationality of the writer Victor Hugo?', 'Who is the founder of the Emirate of Aleppo?', 'In what era was the Bergamo Historical Library established?', \"Who is Kanye West 's wife ?\", 'What is the programming language used in databases?', 'How do you handle a huge amount of data ?', 'Who in the world is credited with the discovery of zero?', 'When did urban planning become famous ?', 'Who is Jesus Christ?', 'Who is Abdullah Sheikh Muhammad?', 'Is cyberbullying a danger to the lives of minors ?', 'When did you invent the first digital watch?', 'How many stations are there on the Algiers subway?', 'Where did the copper industry start?', 'How many were the victims of the Pearl Harbor attack ?', 'When did you start using Windows Vista on computers?', 'Is the tattoo harmful to human skin ?', \"What 's the difference between chemistry and chemistry ?\", \"What 's the fastest growing religion in the world ?\", 'When was The Kingdom released ?', 'When did Google Translate first start?', 'Is cancer a deadly disease ?', 'In which year did the Egyptian scholar Ahmed Zhuil move to work at the California Institute of Technology?', 'Can chemical pesticides be excluded in intensive farming ?', 'When was the American actress Jane Fonda born?', 'When was Bates Electronics founded?', 'Who played the lead role in the series Lost and Found?', \"What's the first social network?\", 'Is Dick Grayson the son of the bat man ?', \"Who 's the current president of Google ?\", \"Where 's the highest volcano in the world ?\", 'How many hurricanes were there in 2010 ?', 'When was the first weather show?', 'Did the Bolsheviks win the Russian Revolution of 1917?', 'When was the Algerian army founded?', \"What 's the penalty for short-term rape in the United States ?\", 'When was HBO America founded?', \"What is Beethoven's nationality?\", 'Who is the founder of the French company Total?', 'When was the Salafi Enlightenment Party founded in Egypt?', 'What year did the City Observatory receive an extraterrestrial signal?', 'Has any American president ever ruled the United States for more than two terms?', \"What are the reasons for Morocco's refusal to host the 2015 Africa Cup of Nations?\", 'What is the largest country in Europe ?', \"What's the area that separates Asia from Africa?\", 'Who is the founder of Instagram?', 'How many children does American actor Tom Cruise have?', \"How many goals has the country's national team scored in the 2019 Asia Cup?\", 'When did Baghdad become the capital of the Abbasids ?', 'Are you following the ambulance traffic rules ?', 'Who played Dr. Strange in Avengers?', 'How many countries share borders with the Caucasus?', 'When did the era of ignorance in the Arabian Peninsula end ?', 'When was Syriac Christianity founded ?', 'What university is the world wearing Johannes Kepler?', 'When was Iceland discovered ?', \"What's the zero hour in the October War?\", \"What's the largest tributary of the Mississippi?\", 'When was the electric water heater invented?', 'Who are the Samaritans?', 'Can replication be applied to humans ?', 'Who was the first emperor of Spain ?', 'What nationality is Frank Capra?', 'In which Kurdish city is there a ghost?', 'Does he make marijuana from cannabis?', 'Is the Vatican listed as a World Heritage Site by UNESCO?', 'What are the most popular tourist attractions in Croatia ?', 'When was the British Parliament established?', 'When did China launch its first spacecraft?', 'What is the concept of tax justice?', 'Who is Gabriel ?', 'Why are different versions of the Bible?', \"What 's the reason for the shipwreck in Bermuda ?\", \"Who's called King Ray?\", 'When was the first IQ test?', 'Who wrote the Balfour Promise ?', 'When was Bollywood created ?', 'Does the disc cause leg pain ?', \"Who 's the first woman in the world to be president ?\", 'Who directed Lady Bird?', 'Can babies have cerebral palsy ?', \"Does the mother's health prevent breastfeeding?\", \"Who is credited with inventing Mickey Mouse's character for the first time?\", \"What is a female cow's gestation period?\", 'Who is the emissary of the nations?', \"What is the nationality of composer Daniel O'Brien?\", 'How long did the Republic of Venice last?', 'When did Java Script come out?', \"What's the ingredient for the teeth?\", 'What language is spoken in Belgium ?', 'Who made the Balfour promise ?', 'What is the largest city in Catalonia?', 'What is the nationality of the writer Ernest Hemingway?', 'When was the Italian Parliament established?', 'How many wives did the prophet Abraham have?', 'Can cancer kill in three days?', 'In what year did Morocco become a member of the United Nations ?', 'Where do you make Ford cars?', 'What is the official language of the Samanese state?', 'When did the people of Edom live ?', 'What are the most important tourist attractions in the Republic of Kazakhstan ?', 'Who was on the sidelines of the American Civil War ?', 'When did the Koreans break up ?', 'How did the golden age of Islam end ?', 'When did the invasion of Khyber Pakhtunkhwa take place ?', \"Who is Rashdi's first successor?\", 'Are there forests in Russia ?', 'When was the Italian parliament established?', 'What is my postmodernist way of thinking?', \"Who's the director of Amistad?\", 'When was Tesla founded?', 'How many maternal survivors are there?', 'When did Cyprus participate in the European Cup for the first time?', 'Is it permissible to have sex in Ramadan ?', \"What's the nationality of the world musician Mozart?\", 'When did the semiconductors show up ?', 'Is it possible that autism is caused by genetic disorders?', \"What 's the highest mountain in Vietnam ?\", 'When was the Titanic built?', 'Is the name of the flag a forbidden name in Arabic?', \"Is the UAE's coastline on the Indian Ocean?\", 'In what year did he produce the French film The Course ?', \"What was singer Justin Bieber's first award?\", 'What is the ruling sect in Syria?', \"Who 's the president of the United States who filed a patent for some inventions ?\", 'Who was the actor who played Dumbledore in the Harry Potter film series?', 'What are the oldest Egyptian universities?', 'When was Windows created?', \"Is Shi'a a majority in Bahrain?\", 'What does the name \"God\" mean?', 'What is the nationality of the actor who played John Snow in War of the Throne?', 'Who is the son of Hafez al-Assad who took over?', 'Where is Algeria ?', 'Did the world have any interest in pharmacy?', \"Who's the biggest car manufacturer in the United States?\", 'What is the name of the psychiatric disease attributed to Oedipus?', 'Who was the president of Syria in 2000?', 'When did professional wrestling start?', \"What's the treaty?\", 'Where was the American broadcaster Oprah Winfrey born?', \"Are there bacteria in a person 's stomach ?\", 'When did Yemen participate in the AFC Asian Cup for the first time ?', 'How many victims of the Salvadoran civil war ?', 'Who is the 26th president of the United States of America?', 'When did Charles IV take the throne of Spain?', 'Why is uranium dangerous ?', 'Who invented the paper plane?', 'When did the Fatah movement start?', 'Is weed allowed in Jordan ?', \"Who was Britain's first queen?\", \"When did Justice Mansour assume the presidency of Egypt's Supreme Constitutional Court?\", 'How many Muslim soldiers were there in the battle of Ain Jalut ?', 'When did cholera hit the world?', \"What was the name of Russia's first emperor?\", 'When did Elizabeth I take over England?', 'How many stages does it take?', \"When did the world's first food delivery service start?\", \"What's the oldest airport in Germany?\", \"Who's got the most red cards in football history?\", \"What 's in the human brain ?\", 'Who was the last emperor of the Inca Empire?', 'How many countries do they share with China on their northern borders ?', 'Who invented cloud storage or coding ?', 'When was the first railway line launched in Hijaz?', 'When did you get your first commercial flight ?', 'Does the isolated resemble the Sufis ?', 'How did Hanbal Lightning die ?', 'When did John Jack Russo live?', 'Who invented the toothbrush ?', 'Does the Central Bank of Libya allow loans ?', 'What are the anti-HIV drugs known as alprazolam?', 'Where is the island of Tanzania ?', \"Who drafted the world's first constitution?\", 'How big is Jerusalem ?', 'Who developed the TCP/IP protocol?', 'When does menopause begin in women?', 'When was the U.S. National Security Organization founded ?', \"What 's the punishment for rape in France ?\", 'What are the biggest cities in Germany ?', \"What's the biggest fish in the world?\", 'Who is the president of Indonesia in 2010 ?', 'Who was the first president of Syria?', 'What is the punishment for rape in France?', 'How old is Earth estimated to be ?', 'What is the largest university in Canada?', 'Who is the president of the Tunisian football team ?', \"Who's my first successor?\", 'Who invented fiber?', 'How much did it cost to build a successor tower in Dubai ?', 'How many stars are in the Big Bear Cluster ?', 'How does the sound in the ears get amplified ?', 'When did my first porn movie come out?', 'How far is Salalah from Muscat?', \"Who 's the president of Australia ?\", 'How does Adobe Flash help multi-media sites ?', 'Who was the first person diagnosed with diabetes ?', 'When was the Football Authority of Turkey founded ?', 'When is the first use of medicinal herbs likely ?', 'Is there a cure for heroin addiction ?', 'What is the oldest mosque in Yemen?', 'By whom were the first dinosaur bones discovered ?', 'What is the agricultural policy in Algeria ?', \"What 's causing obsessive personality disorder ?\", 'Who was the voice of Snowball II on The Simpsons?', 'Who was the president of Egypt in 1990?', 'Who was the first Arab to win a Nobel Prize ?', 'Where were the pharaohs buried when they died ?', 'When was the Tamil Tigers founded?', 'Who designed the Small Talk programming language?', 'How many countries does the Danube pass through?', 'Has a drug been made to kill the AIDS virus?', 'In what year did Japan start using the Gregorian calendar?', 'How do Christians pray ?', 'Was the behavioural governance system of Lebanon effective ?', 'When was ISIS founded ?', 'How many times has the Antarctic wrestler won the Rasmussen Competition?', 'What part of the brain is responsible for long-term memory ?', 'When did Belgium join the European Union?', 'What is the annual per capita income rate in Syria in 2010?', 'What is the main language of the ancient Iranian languages?', 'What areas were affected by the Atlantic hurricanes in 1971 ?', 'Does the name Dracula mean the son of the devil?', \"What are Mr. Poop 's most famous works ?\", 'How many countries does the Nile pass through?', 'What documentary won the 2016 Oscars?', 'How many digestive secretions ?', 'When is the World Jewish Congress ?', 'Is the likelihood of developing juvenile diabetes due to genetic factors?', \"What was Harrison Ford's first feature film?\", 'How many countries speak Arabic as their official language?', 'What was the first film that American actor Harrison Ford starred in?', 'Where is Abu Sayyaf active ?', \"What was Timmy's first book?\", \"Who was Egypt's most famous footballer in 2006?\", \"What's the biggest hospital in Egypt?\", \"What 's the theory of evolution ?\", 'Who was the first king of Portugal ?', 'Who built the Palace of Flowers in Spain ?', 'How many layers of hell is there in Islam ?', 'When was the utilitarian theory invented ?', \"Where's the biggest lake in Spain?\", \"Who's the 2010 president of Peru?\", 'Can a baby be born with different eyes?', 'Does Yemen have a volcano?', 'Is Dubai a cheap tourist destination ?', \"Who owns Emma's novel?\", 'What are the largest cities in Syria?', 'What is the governance system in Mauritius?', \"Who is Baruch Spinoza 's father ?\", 'Is it possible for anyone to perform magic ?', 'When was the first social network used?', 'What is the nationality of writer William Golding?', 'How did the Stone Age end ?', 'When did actor Heath Ledger die?', \"What's the biggest reptile?\", \"What 's the most dangerous type of brain cancer ?\", \"What's the most rice-producing country in the world?\", \"What was American actor Joaquin Phoenix's first film role?\", \"What's the biggest rice producer in the world?\", \"Who's the inventor of linen?\", \"When was the Holy Qur 'an compiled into one book ?\", 'What is the Arab Capital of Culture for 1996?', 'How much protein does the body need ?', 'What is thyroid tissue made of ?', 'Is the Spanish parliament the governing authority in Spain?', 'How many vertebrae in the spine of a bat?', \"What 's the first handset with fingerprints ?\", 'Who designed Resistance 2?', 'When did you start using sound cards for IBM-compatible computers ?', \"Who 's the biggest oil producer in the world ?\", 'Has the Palestinian Communist Party come to power?', 'How long did the first crusade last?', 'What is the population of Luxembourg City ?', 'Does the tramadol contain cocaine or opium?', 'How do you get coronary heart disease ?', 'What is the name of the royal family in the Netherlands ?', \"What 's the slogan of the Communist Party ?\", 'When did the hyper-violent compressor come to light?', 'When was the laser invented ?', \"When was the 70th bombing in Sana'a that targeted Yemeni Central Security troops?\", \"What's the tallest mountain peak in Iraq?\", 'How cold is the water?', 'When was the Million Martyrs Revolution?', \"What was actor Hugh Laurie's first film role?\", 'How many inhabitants are there in the town of Cranch ?', \"What's the name of the first album Dave Leppard released?\", 'Where did the Greek god Zeus live , according to the legends ?', 'Where is the Knesset in Israel ?', 'When did the modern Olympics start?', \"What's more important, ginkgo or ginkgo?\", 'In what year did Angola join the Organization of the Petroleum Exporting Countries (OPEC)?', 'Which country produces the T-80?', 'How many races did Michael Schumacher win in first place?', \"What 's the nationality of the poet Hope Duncan ?\", 'When did Samoa gain its independence?', 'When was the laptop invented ?', \"Who in the world is to blame for Earth's oscillation?\", 'What is the sponsor system in the United Arab Emirates?', 'When was American Expedia Group founded?', 'How many Japanese letters?', 'What country has the highest flood rate in the world ?', 'Is Sherlock Holmes a living legend or fiction?', \"What is Mauritania's northern border?\", 'Who was the first man to deliver ?', 'When did you start speaking French?', 'In what year did Japan declare surrender during World War II ?', 'When did the Algerian resistance start ?', 'What was the maximum length of a T-Rex dinosaur?', 'What is the population of India ?', 'When did Bashar al-Assad assume the presidency of Syria ?', 'When was the Spice Girls?', \"What 's inside the cerebral cortex ?\", 'Who was crowned European Champion in 2004?', \"What's the material that makes the lead jacket?\", \"Who's the new guy?\", 'When did Anna Karenina come out?', 'Does vocational education contribute to unemployment?', 'When was the Sites Convention created?', 'How many times has Tunisia qualified for the World Cup?', 'What is the capital of Monaco?', 'Who built the Great Wall of China?', 'When was your first Turkish movie?', 'Is the CIA connected to the National Security Council?', 'When was the first malaria vaccine used?', \"What's the oldest e-shop?\", 'When did you make the first list of the World Peace Index?', 'When did George R.R. Martin live?', 'Did Shakespeare write comedies?', 'When was the U.S. Federal Reserve established?', 'When was actress Jane Fonda born?', 'What is supremacy ?', 'What is the official currency in Eritrea?', 'How can big data be processed ?', 'Is Christopher Columbus a Christian or what?', 'When did I get my first serotonin syndrome ?', 'How can we reduce ocean pollution ?', 'What is the Arab Capital of Culture for 1997?', 'Does it accommodate children at the age of three ?', 'Does coconut oil help open the skin ?', \"What 's the point of a great community program ?\", 'Who discovered the dog disease?', 'How many times has India won the Cricket World Cup?', 'What is the percentage of Amazighs in Algeria ?', \"Who 's the governor of Gibraltar ?\", \"How deep is the world 's deepest subway ?\", 'Who discovered dog disease ?', 'What is the population of Scotland in 2019?', 'Are rodents among the most likely creatures to carry the Lhasa virus?', 'Who was the first Nobel Peace laureate?', 'Can a kangaroo swim?', 'What is the value of zakat in Islamic law ?', 'Is budgeting one of the key administrative functions?', 'What is the population of Afghanistan ?', 'How many rulers of the Ottoman state ?', 'When was the American talent show American got talent first launched?', 'How old was Queen Isabella II when she ascended the throne ?', 'How many ancient Roman gods ?', 'When was the Tripoli Railway opened in Libya ?', 'Are there animal sources of vitamin C?', 'What is the largest city in Serbia?', \"What's the judge's motion for wrestler Sean Michaels called?\", 'Do you have Zidan Azagi?', 'When did he die ?', 'Which country is credited with landing the first unmanned spacecraft on the moon?', 'Does Minamata lead to death?', \"What 's the judging motion for the Undertaker wrestlers called ?\", 'What was the American loss in the attack on Pearl Harbor ?', \"What 's a neutron bomb ?\", 'Where was Nicholas II born ?', 'In what year was the University of Chicago founded?', 'Who is the party that won the German elections in 2018?', \"What's the name of the US base in Germany?\", 'Who is the 11th president of the United States?', 'Is there any gas in Saudi Arabia ?', 'What is the official language of Bahrain?', 'What are the responsibilities of the United Nations ?', 'Who was the first president of Algeria after independence?', 'How can sexually transmitted diseases be avoided ?', 'Can a solid move at the speed of light?', 'Who is the founder of the state-owned enterprise ?', 'When did the Lhasa virus first appear?', 'How much was the U.S. public debt in 2018 ?', 'How did the Abbasid era end ?', \"What 's the fluoride content in the groundwater ?\", \"What 's jet fuel called ?\", 'What is the name of the fiancée of the late Saudi activist Jamal Khashoggi?', 'How many episodes of Lost ?', \"What's the chemical composition of lead?\", 'What is the oldest religion discovered on earth ?', \"What's the thickness of the ozone layer?\", 'Is Athena the favorite daughter of Zeus?', 'Who founded Notre-Dame in France?', 'Who invented drones ?', \"What parties fought in someone's invasion?\", 'How many Biblical books of the prophet Moses?', 'What is the official language of North Africa?', 'Where did the caliph of the Ardubilian religion live?', 'Can neurotransmitters be used to treat hyperactivity?', 'Who invented statins ?', 'Can the damage caused by cerebral palsy in children be repaired ?', \"What 's wrong with the average cognitive impairment ?\", 'Is Libya a Sufi country ?', 'Who is the first Arab member of the Israeli Knesset ?', \"What 's the biggest wind farm in Africa ?\", 'In what year did Israel annex the Syrian Golan?', 'Was Saladin Ayyub a Kurd?', 'How old is the oldest Islamic manuscript in history ?', 'Who divided the land of Hijaz?', 'Is the floor flat ?', 'Is the Urdu beam the same as the Arabian beam?', 'What is the smallest continent in the world in terms of area and population?', 'When did the Baroque era end ?', 'When was the sage Alfonso X born ?', 'How many countries are members of the Union of South American Nations?', 'Who was the doctor who won the 1934 Nobel Prize in Medicine?', 'What language does Abu Ali al-Hasan bin Masoud bin Muhammad use?', 'How many layers of the earth are there?', 'What year was the first part of The Godfather released ?', 'Do sharks live where the Dominican Republic is ?', 'Who is the Prime Minister of Yemen now?', 'Which city ranks first in the world in terms of population?', 'When was the Nobel Prize for Literature established?', 'When was Yahoo Mail founded?', 'Is aripiprazole one of the anti-schizophrenia drugs?', 'When did Jamal Khashoggi take over as general manager of the Arab News Channel?', 'Who are the Arcadians?', 'What is the Arab Capital of Culture for 1998?', \"When was Daddy 's first album released ?\", \"What 's the most popular chemical used in sterilization ?\", 'Do men and women have equal rights in Yemen ?', 'Who is the current Prime Minister of Australia?', 'When was the Khalid bin Al-Walid Mosque in Damascus demolished?', 'Who is the Oman salad dictionary?', 'Is Bulgaria a member of the European Union ?', \"Who's the production company for the movie Peacekeeper?\", 'When did Wyatt Bulger die?', 'Is the Republic of Colombia a major exporter of drugs ?', \"What's the biggest city in Algeria?\", 'Is cosmic radiation harmful ?', 'What is the political system in Israel?', \"What 's the legend about the Golan Heights ?\", 'What was the first mobile phone with a touch screen ?', \"Is Islam's belief based on piety?\", 'What are the largest cities in Algeria?', 'Is halal meat cleaner than other meats ?', 'Where has the Samanid state ruled ?', 'Are sexually transmitted diseases transmitted through kissing ?', 'When did Qatar apply to host the 2022 World Cup?', 'Does the antibiotic affect the heart?', 'When was the International Chess Federation founded ?', 'Who directed a Trojan film?', 'Has the Titanic ever won any of the Oscars?', 'Is the Palestinian culture different from the Syrian culture ?', 'Is there a default age for the satellite?', \"What is IKEA's exports in 2017?\", 'Which party does Bashar al-Assad belong to ?', 'When was United Technologies founded?', 'Is Barry Lyndon a comedian ?', 'How many mines are there in Al-Aqsa Mosque?', 'What nutrients help strengthen the muscles in the human body?', 'When did Kobe Bryant retire ?', 'What are the oldest mosques in Morocco?', 'Has an artificial human liver been produced?', 'What kind of musical instrument did Richard Wagner use ?', \"When does a woman 's ovulation stop ?\", 'When did the Xbox 360 launch?', 'Who was the first president of Palestine ?', \"Where is the children 's play phenomenon famous ?\", \"When did the Qur'an come down?\", \"What's the setting dictionary?\", 'How many universities does the 1994 GCC have?', \"When did the pharaohs ' reign end ?\", 'When was the first Arabic newspaper published?', 'How many chemistry?', 'When was Father Jean-Jacques Rousseau born?', \"What's the highest IQ score on the IQ test?\", 'Who invented the bio-anti-clindamycin ?', 'Where did Prince Mohammed die instead of Mr. Atta ?', 'What is the smallest federal state in Germany?', 'Are hurricanes deadly ?', \"What 's the IDF 's logo ?\", 'When was St. Sherbal University founded in Lebanon ?', 'How big is Lebanon ?', 'What is the growth rate in Vietnam in 2018?', 'What was the reason for the attack on Charlie Hebdo ?', 'What is the population of the Torres Strait Islands ?', 'What is a CNC machine?', 'Who is the founder of Pixar?', 'When did you make the first electronic memory card?', 'What is the area of the Republic of Kiribati?', 'When was Munich released ?', 'When was bird flu first discovered?', 'How did Stephen Jay Gould die ?', 'Who was the first Arab singer to win Star Academy ?', \"What's the largest desert in the world?\", 'How long does the giant river fox live?', 'Who invented the water pump ?', 'What\\'s the profit for the animated movie \"Superheroes\"?', 'Has Jack the Ripper been arrested ?', 'What is the nationality of the psychologist Gordon Albert?', \"How long does a kangaroo have in its mother's pocket?\", \"What's a heart attack?\", 'When was the cloud storage system invented ?', 'Does the cell nucleus live floating inside the blood plasma?', 'When was the camera invented ?', 'What role did Syrian women play in the Syrian revolution?', 'What is the principle of civil and political rights?', 'When was the first space shuttle produced ?', 'How many warships are in the Australian Navy fleet?', 'When was Amistad released?', 'How long do you estimate the Cretaceous Period?', 'Who is the founder of the Zidi sect?', 'When did Kuwait participate in the FIFA World Cup?', \"What 's the highest speed ever recorded for a hurricane ?\", 'What are the largest islands in Australia?', \"When did the first branch of McDonald's in the Arab world open?\", \"What 's gravity ?\", 'Where are the biggest oil refineries in Libya?', \"Who's currently number one in the men's tennis rankings?\", 'When was the first kidney transplant done ?', \"What's the area of Aleppo Castle?\", 'When was the ant-man character invented?', 'Do neurons regenerate or divide in adults ?', 'When was hockey founded?', \"When did Rosetta land on the surface of Shuri 's comet ?\", 'Who built the cavern historically?', 'How can you get a perfume ?', 'What is decentralized management?', 'Where did the first Atari game come out?', 'Is golf the sport of the rich?', 'In what year was the Peace Fund founded?', 'In what year was New South Wales founded?', 'Who founded the Royal Academy of Turku in Finland?', 'When did Ice Age Cartoon 2 come out ?', 'What kind of river fish live in the Tigris ?', \"What are the views of Peter's political sponsor?\", 'When did women get the right to participate in political work in Yemen?', 'Why do countries use spies ?', 'What does world music mean ?', 'When did the Supreme Court of the United States come into being?', \"Who's the world's first model?\", 'Is Madagascar one of the four largest islands in the world?', 'Is the coloring made of salt ?', 'What causes chronic insomnia ?', 'When was the remaining wall built?', 'The reasons for the Battle of Marawi ?', 'How many big bear stars?', 'When was Indiana University founded?', 'Who was the first president of FIFA?', 'What is the nationality of the writer Francisco de Quevedo?', 'Who is the founder of the FIFA World Cup?', 'Who was Pharaoh ?', 'Who was the president of Romania in 2001?', 'What is the solvent for my oils and grease in soap ?', \"Who 's the richest American businesswoman of 2018 ?\", 'Where was American actor Joaquin Phoenix born?', 'How many prayers are there in Islam ?', 'Is Christopher Columbus Portuguese?', 'What is the nationality of lawyer and geologist Charles Lyle?', 'How big is the video game market ?', 'When is the first chess game in history likely to be recorded?', 'Who was the first cell phone manufacturer ?', \"When 's there gonna be a blood movie ?\", 'How old is the fetus when it starts to have limbs?', 'Is Chinese the hardest language in the world ?', \"Who's the director of the anime Carrie Kano?\", 'Where was the Third Zionist Congress held?', 'Does Algiers make computers?', 'How much did hurricane Edith cost?', \"What's the world's first newspaper?\", 'What is the programming language used in most medical software?', 'Who discovered the Rockefeller cheese?', 'Where did the Kingdom of Neta originate?', 'What is the official currency in Vietnam?', \"Where 's the message of Christianity ?\", \"What 's the name of the precise instrument used in ophthalmology ?\", 'How many sign language cues ?', 'Is the manga series Attack of the Giants finished?', 'What is the main take-out effort in European houses ?', \"Who's the director of The Published Candidate?\", 'When did actor Jane Wilder die?', \"Who was the world's first surgeon?\", 'When was Gardner Fox born ?', \"Who was the world's first surgeon?\", 'Who is the captain of Mary Celeste ?', 'How many countries participated in the Madrid Peace Conference in 1991?', \"What 's the main component of teeth ?\", 'How long have you been the head of the Palestinian Authority?', 'Where is the province of Santiago de Compostela located?', 'Is it possible for a man to go crazy with a fever ?', 'Are the Christian nuns concealed?', \"Where's the Sun Gate Square?\", 'When did the player retire on my foot once?', 'When did the cartoons for anime and manga characters start?', 'Who is the developer of Python?', 'What caused the hole in the ozone layer?', 'Are industrial proteins harmful to health?', 'Who invented electricity?', 'When was the garlic plant discovered ?', 'Where is the headquarters of ASUS Taiwan?', 'When was the League of the Oppressed founded ?', 'When was the first video game released ?', 'When did the Baath Party fall?', \"What 's Miguel de Cervantes ' most famous play ?\", 'WWE when did the wrestling federation come into being?', 'What is C++?', 'Where did the Belfort promise come from?', 'When was the Japanese game show Fortress aired on Arab TV ?', 'When did the Australian Parliament come into being ?', 'In what year did the first crusade take place?', 'When did the Mongols destroy Baghdad ?', 'What continent does the Marshall Eagle live on?', 'When did you move to South Korea ?', 'Who was the last Greek emperor?', 'What is anti-proxy?', 'What is the specialty of GlaxoSmithKline?', 'Is the Atlantic bear an extinct species?', 'Is the Beast of Loch Ness a horse ?', 'When was the Islamic Shura Council founded in Iran?', \"What 's the tallest skyscraper in the world ?\", 'How many German provinces ?', 'What is the largest city in the Netherlands?', 'What is the name of the first wife of Ferdinand II of Portugal?', \"Where 's the biggest solar power plant in the world ?\", 'When did tango dance appear?', 'What are the shooters?', 'Are there laws to protect people with disabilities in Yemen?', 'How does hydropower work ?', 'What year was magnetic resonance imaging invented ?', 'How many cell phone buttons ?', 'How did Joseph Hyde , the composer , die ?', 'What is the headquarters of the United Nations Development Programme?', 'Can neurons multiply ?', 'When was Galileo tried?', 'When was the sci-fi movie Edge of Tomorrow made?', 'Why is it the aurora?', 'Who founded the Birmingham Campaign ?', 'Can plants grow in the absence of sunlight ?', 'What is the normal human sugar level?', 'How did technological unemployment start ?', \"Who was Egypt's most famous stage actor in 1930?\", 'Who was the first Secretary-General of the United Nations ?', 'Who was the first Secretary-General of the United Nations?', 'Who was your first patriarch of the Maronite church ?', 'How many colours is the flag of Ireland?', \"How many of the Earth 's main crustaceans are there ?\", 'What is the density of the element perillium?', 'Is Midway still a military base ?', 'Can I visit Ukraine ?', 'When did you start using a typewriter instead of an autograph?', 'What is culture or fire?', 'What is the material used to make a canoe ?', 'When was the movie adaptation of the cholera-era love story released ?', 'What is the highest level reached by the Moroccan national team in the history of its participation in the World Cup?', 'Who invented sign language ?', \"Who 's the 40th governor of Kentucky ?\", 'What are the types of globalization?', 'Is the Titanic real?', 'How many teams play in the German Bundesliga?', 'Who scored for Liverpool in 2018?', 'Who is the president of Bulgaria ?', \"Where's the hanging archaeological city in Iraq?\", 'In what year did India ratify the Biological Weapons Convention ?', 'What was the name of the first American aircraft carrier ?', 'Has the Colombian ever been crowned champion of the Copa America?', 'When was \"Brookback Mountain\" released?', 'How does radio ID work ?', \"How much silver is in the earth 's crust ?\", 'How many days can a camel survive without water?', 'Who starred in Split?', 'Was it a success ?', \"What's the biggest city in India?\", 'What language is spoken in Isfahan ?', 'How many searches should be made between the two mountains ?', 'Who is the current president of the Democratic Republic of the Congo?', \"Where 's the fin whale ?\", \"What 's the first subway in Japan ?\", 'How many mental illnesses are officially registered ?', 'When was the bulletproof vest invented ?', \"What's the name of the wife of the Portuguese player Ronaldo?\", 'What is the oldest university founded in Syria?', 'How long has Safinas the Poor been Queen of Egypt ?', 'What is the Islamic Rescue Front in Algeria?', \"What 's the function of the cartridge ?\", \"What 's an isolated personality disorder ?\", 'Are planed bugs dangerous ?', 'Who is the founder of the blood type system ?', 'What are the largest cities in Uzbekistan?', 'Who is the secretary general of the Confederation of African Football?', \"What 's the storage capacity of the DVD ?\", 'Was a medicine invented for me for minamatha ?', 'How many countries does Mauritania share borders with ?', 'When was King Berkley born ?', \"How 's the crack going ?\", \"Who's the producer of the video game series Hello?\", 'Is there a device to measure jaw strength?', 'When was the Israeli Academy of Sciences founded?', 'What is the official language of Turkmenistan?', 'When did the Mughals burn the Baghdad library?', 'What are the largest cities in South Sudan?', 'What is the global poverty rate for 2011?', \"What's the normal blood sugar level?\", 'What was Mohamed Morsi doing before he became president?', \"Who's the producer of Saving Private Ryan?\", 'When did the CSI cartoon show come out?', 'When was the passenger ferry invented ?', 'Does Oregano relieve the cough?', 'Are there any intercontinental ballistic missiles?', 'In what year did Ernest Hemingway write The Old Man and the Sea?', 'When did Salt Cities come out?', \"Who 's the sister of Crash Pandit ?\", 'Do humans live with dinosaurs?', \"What's the year of the Lion Tower?\", 'How long did the Cold War last ?', 'Who wrote \"Adam\\'s offspring\"?', 'Who founded the New York State University of Medicine in Syracuse?', 'When was the U.S. House of Representatives founded?', 'Where did country music come from?', 'Is the leopard some kind of endangered species?', 'When did AMD take over ETA?', \"Where 's the memory center in the brain ?\", 'Are the vegetables a succulent crop?', 'What nationality does sociologist Harold Laswell have?', 'How many liver fragments ?', 'How can people with autism be treated ?', 'How many doctrines are there ?', 'What is the highest mountain peak in Saudi Arabia?', 'Where does the cowardly bird live ?', 'What are the most important theories of John Broadus Watson?', 'Who invented the poison syrup?', 'Who is the founder of Confucianism?', 'What is a holograph?', 'How many Spanish championships does Barcelona get ?', 'Who was the first woman to win an Olympic medal?', 'What is the Egyptian city of Tabbah famous for?', 'How many years did the Third Crusade last?', \"What 's the rule for Ramadan breakfast ?\", 'Who is the third successor of the Fatimid state?', 'What is the system of government in Vietnam?', 'Who was the first king of Scotland?', \"What 's the 2018 Oscar winner ?\", 'When did you shoot the message?', 'Is it weakness or fatigue from the symptoms of epidemic pneumonia?', 'When was the Al-Aqsa Mosque built ?', 'When was the first four-wheel drive car invented?', 'When was the Abbasid Empire established ?', 'When did the Marine State collapse ?', 'How many religions are there in the world?', \"Who's the director of Spotlight?\", 'Who is the manga artist Evangelion ?', 'How high is the Big Ben Clock?', \"Who was Pakistan's first prime minister?\", 'How many works of Hercules according to Greek mythology?', 'How can bacterial injuries be controlled ?', \"Who was Abbas's first successor?\", 'Is geology capable of predicting earthquakes?', 'In what year was the House of Wisdom built in Baghdad?', 'When was Brass Pasha assassinated ?', 'Can muscle swelling be prevented ?', 'Does exercise reduce weight?', 'What does it mean to keep the balance?', 'Who was the World Golf Champion in 2017?', \"Who is Abbas's first successor?\", 'Who founded the Old Balenciaga?', \"Who is Abbas 's first successor ?\", 'What is the official currency in Hungary?', 'Who is the head of the Sudanese government ?', 'Who was the commander of the German army at the Battle of Stalingrad ?', \"Who was Abbas 's first successor ?\", 'When did the Xbox 360 come out?', 'When did the world end, Richter?', 'Where is Unilever headquartered?', 'When was the Samanid state founded?', \"How long did Aaron Rashied's succession last?\", \"Who's the executive producer of Princess and the Frog?\", 'What is the proportion of water in the adult human body ?', \"What's the right number in mathematics?\", 'What are the largest cities in Tajikistan ?', 'Who is Rungton?', 'When did theology emerge?', 'How many trips did the angel Mark make?', 'When were the Boer Wars?', \"Where was the son of the surgeon's slave?\", \"Who 's the company that makes panadol ?\", 'Is there a volcano in Morocco ?', 'When did the first use of green or blue background photography begin?', 'What are memory-strengthening exercises ?', \"What are Leonardo da Vinci 's most important works ?\", \"What 's the best example of a lexical analyst in computer science ?\", 'What is the average weight of the fetus at birth?', 'When was natural gas discovered in Yemen ?', 'Where did William Ford Gibson live ?', 'When was the Abrahamic Mosque built ?', 'Who is the founder of the Sinhalese state?', \"What's the date of the first movie that actor Russell Crowe starred in?\", \"Where are the world's tallest skyscrapers?\", 'What is the nationality of political leader Mustafa Kemal Pasha?', 'What are the biggest cities in Saudi Arabia ?', 'What is the science of divination?', 'Was Alfonso XIII a just ruler?', 'Do females get an erection at night?', 'What is radiation therapy?', 'When was the first Raslemina contest held ?', 'Where was the Sikh religion born ?', 'How many Orkney Islands?', 'When was the African Football Confederation established?', 'How many tablets in Egypt ?', 'What are the largest cities in Iran?', \"What 's the population of the cattle herd in North Africa ?\", 'Is there a cure for juvenile delinquency ?', \"What 's the name of the first ship ?\", 'How did Fidel Castro die ?', 'When was the U.S. Senate established?', 'Is applied behavior analysis included in applied psychology?', 'How many neurons do the gastrointestinal nervous system have?', 'Who is the author of the novel Deposit?', \"Who designed Shell 's logo ?\", \"What's the legitimacy of player Macy?\", 'Is there equality between men and women in terms of inheritance in Islam ?', 'What movie won the 2018 Oscars?', 'Can a child be born with both genitals?', \"What was Adobe 's first animated program ?\", 'When was the University of Chicago founded?', 'Who is the current president of Yemen?', \"What is David Beckham 's nationality ?\", 'Is there a green pearl?', \"What's the biggest grain producer in the world?\", 'How much does York Stadium cost ?', 'Who founded the Guinness Book of Records ?', 'What was the number of the ancient Greek gods ?', 'How many poems have Nazar Kabani composed?', 'When did Pope Francis visit the United Arab Emirates?', \"Where'd you find the big one?\", 'Who was the first wife of Prophet Muhammad upon whom prayer and peace?', 'When did the term globalization first appear?', 'When was the Justice and Development Party established in Turkey?', 'How did Hussein bin Ali bin Abi Talib die ?', 'What was the first type of stone used in the construction of the Great Mosque in Kilwa ?', \"What 's the Moroccan folk costume called ?\", 'What is shock wave therapy ?', 'When was Cannon Film Production Group founded?', 'How many times has Chile participated in the World Cup?', 'When was the Popular Front coalition announced in Tunisia?', 'Has Sweden ever been crowned European champion?', 'What is the largest island in Europe?', 'In which year did Danny Boyle win the Academy Award for the film Millionaire Homeless?', 'What is Egypt famous for ?', 'When was the animated movie Mulan released ?', \"What 's a worm virus ?\", 'When did the Asian Football Confederation decide to annex Australia?', 'How can crops be grown in the desert?', 'Does breathing vitamin C cause hair to fall out?', 'How far is Velka from the Kuwaiti coast?', 'In what year was Constantinople founded?', 'How many Muslim armies did one invade ?', \"When was Whitney Houston 's first album released ?\", 'How many teeth does an adult have ?', \"Can women make a pilgrimage to the Superintendent's Cave?\", 'How many teeth does an adult have ?', \"Who's the most decorated team in the women's world championship?\", 'When was Mohammed bin Abdullah born ?', 'What is the largest wildlife sanctuary for river horses in Africa?', \"What is Don Quixote 's most famous work ?\", 'When was the film The Passion of the Christ released?', 'Who discovered the Uranus moon of Oberon ?', 'When did Joseph Smith live?', 'Who invented wind power ?', \"Who's the owner of the Book of Common Pleas?\", 'When was the first adhesive lens made ?', \"What's the function of the thyroid gland?\", 'Which country owns the Andaman and Nicobar Islands?', \"What's the function of ESP.net that means active server pages?\", 'What are the ruins that were destroyed by ISIS ?', 'Can we play Dark Souls online ?', 'Who is the founder of integrative formulation theory ?', 'Are there any side effects of psychoactive drugs ?', 'Who won the Battle of Midway?', 'How do you know the age of the old quarries ?', 'How many pyramids do the pyramids of Giza consist of?', 'What is the largest island in the Mediterranean?', 'What is the enzyme responsible for blood clotting?', 'When did the Azerbaijani poet died?', 'Who wrote Snow White?', 'When was the movie Saving Private Ryan released ?', 'Who are the scratchy kids?', 'Who won the Battle of Midway ?', 'When was a cure for epilepsy discovered ?', 'Is Michael Jackson from Ghana?', 'How long is the highway network in Tunisia?', \"How's the laundry done?\", 'What was the First Council of Constantinople?', 'How many movies did Quentin Jerome Tarantino direct ?', 'When was Momento released ?', \"What's the name of the author of Night and Drunk?\", \"When did Frances ' daughter Mary die ?\", 'Did he just go to jail for rape?', 'How many Ahmadinejad followers are estimated in the world?', 'Who owns Galaxy Smith Klein now?', 'How many beetles ?', 'Where was golf founded?', \"What's the best goalie for the Kuwaiti football team in history?\", 'Does Germany have a commercial port?', 'Where was wine invented?', 'Is andolanzapine an anti-schizophrenia drug?', \"How long did Mohammed Najib's presidency last?\", 'When did Ian Fleming die ?', 'What is the maximum number of days a person can live without drinking water?', 'What is atomic dust?', 'When was Stereo I launched ?', 'Who was the first woman to win a gold medal at the 1900 Olympics ?', 'When was the first cigarette company founded?', 'When did Gustav Klimt found the artistic separatist movement?', 'What is the civilization between the two rivers?', 'When was the coup against President Jafar al-Numer?', \"Who's the first Compass?\", \"When was Archimedes' principle of floating put in place?\", 'When did the author Christopher Eric Hitchens live?', \"What 's the cost of a human kidney ?\", 'How did he find the big one?', 'Is Nellie Verdado married ?', 'What is the population of Zanzibar ?', \"What's the language of Kobal?\", 'Is there any neon gas in the air we breathe?', 'What is the area of the rainforest in Central Africa ?', 'What is the white matter commonly found in young lovers ?', \"What was the name of the world's first printed newspaper?\", \"What 's a cartridge repackage ?\", 'Has Niger ever won an Olympic medal in its history?', 'How many strings of the law machine?', 'How many sons and daughters of Mohammed bin Ahmed bin Nebhan bin Khadr?', 'What is utilitarian theory criticism ?', 'When did Joseph Hyde , the composer , die ?', 'What are the three major religions in Asia?', 'Do sound cards usually turn digital into an analog converter?', 'How many third-rounders are on the current calendar ?', 'What are the two different types of peripheral disease ?', 'When was Harley-Davidson founded?', 'Who is the current president of Niger ?', \"How many victims of Sheikh Zayed's bombing in Sinai?\", 'What is the main religion in Togo?', 'How much storage capacity is the cassette ?', 'When was the municipality of Beth-Masher founded ?', 'Where is the headquarters of the United Nations Development Programme?', 'Is popropane a good enough cure for depression ?', \"What's the meaning of letting go?\", \"What is Patrick Seal 's nationality ?\", \"Who invented the Avira software ? You 're a virus ?\", 'How many times have the Egyptians been crowned African Champions?', 'When does one fall in love with youth ?', 'How many lymph nodes in humans ?', 'Where did al-Farabi live ?', 'Has Kenya participated in the World Cup?', \"What's the biggest game reserve in Lesotho?\", 'When did Palm Island in Dubai come into being?', \"What's the production company for the ridiculous cartoon series?\", 'In what year did Angola join the Organization of the Petroleum Exporting Countries (OPEC)?', 'When did Homs enter the Seljuk state?', \"What's the melting point of the glass?\", 'Where does Sheikh Yousaf al-Qaradawi live ?', 'Which country is the most productive of silver?', 'When did Sir Ferguson take over as manager of Manchester United ?', 'When did the Second Crusade end ?', 'Does earwax have nerves ?', 'How many people live on the island?', \"What 's an example of an artifact ?\", 'Who is Mohammad bin Saleh al-Otamin?', 'How many nerves are shallow in an adult ?', 'How many letters in Egyptian hieroglyphs ?', 'What country is the largest producer of silver?', 'When was the International Aviation Agency founded ?', 'When was Dubai TV founded?', 'When will Sheikh Yusuf al-Qaradawi assume the presidency of the World Federation of Muslim Scholars?', 'When was the city of Rashid founded ?', \"What 's the contributing factor to blood clotting ?\", 'Do females have nocturnal erections?', \"What's the nurse's job?\", 'Who is the sixth president of the United States?', 'Does an infection with a type of dengue fever give a lifelong immunity?', 'When was the World Centre for Multilateralism opened?', \"Where was Muhammad the son of Baha'u'llah born?\", \"What's the longest river in North America?\", \"What 's the average lifespan of a lecturer ?\", 'In which country is Karakoram the capital of the Mughal Empire?', \"What's the highest-selling game on the PlayStation?\", 'What is the capital of Oman?', 'What is Arabian Island?', 'When was Greenland discovered ?', 'What does the circulatory system consist of ?', \"Where's the fructose or the fruit sugar?\", 'How many sons and daughters did Maya Angelou have ?', 'How long did the Malayk state last?', 'Is the holy month of Ramadan my birthday?', \"What 's with the giant river fox ?\", 'What was the purpose of the bodyguard operation ?', 'What is the annual income of the Majid al-Futtaim group ?', \"What's the oldest nature reserve in the world?\", 'What are the most important tools for performance evaluation ?', 'How many seeds are in a medium-sized strawberry?', \"How many verses of the Qur'an?\", 'How many movies have Quentin Tarantino directed ?', \"Who's the author of the Old Town novel?\", 'When did the PlayStation 4 Pro interview come out ?', \"Who 's the inventor of feed ?\", 'When was the first C-section done ?', \"Where's the record for the largest earthquake in history?\", 'Where was born Abed Allah bin Hussein Mahdi, the founder of the Fatimid dynasty?', 'How many times has Real Madrid won the European Championships?', 'What is yellow air disease?', 'What is the nationality of actor Rami Malik?', 'What novel did Najib, the Nobel laureate in literature, write for?', \"What causes Marburg's disease in the human body?\", 'Who is the author of the Sevastopol stories?', 'Is fibromyalgia a viral infection?', 'When was the first edition of Adobe Illustrator released?', \"Who's the best goalkeeper in the World Cup?\", \"What 's the boiling point ?\", 'What is the highest British Order of Merit?', \"What's the name of Tom Cruise's first movie?\", 'When was Edward Straitmeyer born ?', 'Where is the Archaeological Library of Celsus?', \"What's the name of the largest island in the Bahamas?\", 'Has Harrell fallen is a Yemeni Jew?', 'How many countries have diamond mines ?', 'Is there an animal treasure in Morocco?', 'Where did Lucy Stone live?', \"What's the largest island in Jamaica?\", \"When was the King's Speech released?\", 'Is the gasoline exploding?', 'Where does the Cable River come from?', 'When was cholera discovered?', 'Where is Skagerrak Bay ?', 'Who rebuilt the cottage after it caught fire and was damaged by the bombing?', 'Who founded Skype?', 'How far is the nearest solar system from us ?', 'What are the largest cities in Zambia ?', \"What 's the circulation ?\", \"In what year was the first women's football team formed?\", 'What is the official currency of East Timor?', 'When did Yes Man come out ?', 'When was the first case of anemia diagnosed?', \"Where's the biggest dump in the world?\", \"What 's the basic composition of the bones ?\", 'Who is the 40th president of the United States?', \"What was Justin Temperlake's first album?\", \"What 's the last name of the pharaohs ?\", \"Who 's the director of Saw 1 ?\", 'What are the endangered birds ?', 'How much renewable energy is used to generate electricity in Iceland?', \"When was Ogilvy's ad agency founded?\", 'Is it dangerous to play violent sports ?', 'Does Celine have twin debts?', 'What is Muhammad Ali Pasha famous for ?', \"Who's the World Cup goalkeeper?\", 'What are the endangered birds ?', \"Who's the fifth son of Al-Abbas?\", 'What did John Hay know ?', 'Did actor Brad Pitt win an Oscar?', 'Could the color of the stool be green?', \"Who's the geologist Richter?\", 'What gland is responsible for the secretion of melatonin?', 'Do carnivorous bacteria cause limb damage?', 'Is diarrhea a chronic disease?', 'How many forms of nudity are there ?', 'What is the weight of water in the human body?', \"Who 's the black hole detector ?\", 'How many Old Testament sailors are there?', 'What are the oldest Egyptian universities ?', 'Could a traumatic brain injury cause death?', 'Where is the danger of fascism?', 'When is Malcolm X Day?', 'How many African championships has Tunisia won ?', 'Is drinking alcohol every day bad for your health ?', 'What year was \" Rain Man \" released ?', 'When did you have your first implant in the uterus?', 'Why is the city called that?', \"What 's my favorite song by the Spice Girls ?\", 'How long was the wounded knee massacre ?', 'Who invented the telescope?', 'What is the effect of toxic industrial gases on animals?', 'When was MoneyGram founded?', 'When did Egyptian Space TV start airing?', 'Who won the first African Cup of Nations?', 'How many pages does the Oxford dictionary have ?', 'Is obesity a genetic disease?', 'When was the Republic of Chad founded ?', \"Who was the Prophet Muhammad 's favorite wife ?\", 'What are the symptoms of the Marburg virus?', 'When did the First Punic Wars take place?', \"Who 's the president of Greece ?\", \"Who was Austria's first president?\", 'Who directed the movie Loch Ness Monster ?', 'Is there a National Aboriginal Day celebration in Canada?', 'When was Sinclair founded ?', 'How can laziness be avoided ?', 'What is a NATO alliance ?', 'When did you get your first Golden Globe?', \"What 's the high frequency ?\", \"Who is Osman 's father , the founder of the Ottoman state ?\", 'How many countries are there in Oceania?', 'Is there a cure for cholera ?', 'When was Wilhelmina, Queen of the Netherlands, born?', 'In which Iranian province is Abada Chak?', 'When was Will Eisner born?', 'How is the needle injected into the vein ?', 'How many Ottoman ports are there?', 'Who invented the helicopter?', 'When was Jumanji released?', \"What's the longest vehicular bridge in Egypt?\", 'Has the Egyptian Ahmed Zouil ever won the Nobel Prize in Chemistry?', 'When did the paper war break out ?', \"What's the little screen?\", \"What's the second time the Old Testament is decaying?\", 'Which part of the Nile is called the White Nile?', \"What 's the cure for hair loss with plasmas ?\", 'How many countries are in the Andes?', 'When was Jean-Jacques Rousseau born?', 'When was the Paraguay national tennis team founded?', 'Who is the current secretary-general of the Moroccan Arab Union?', 'Who is the origin of the hegemonic state ?', 'Are angels real or fictitious ?', 'When did the homophile movement start?', \"Who's the good spear?\", 'Who was the victor of the Khyber conquest?', 'Is it possible to grow crops on Mars?', \"What were Jerome David Salling's first works?\", 'When was the Carolingian Empire?', 'When was Mauritania founded?', 'What is the country of origin of the son ?', \"Who 's the president of Greenland ?\", 'When did the novel Migration to the North season come out?', 'What are the largest provinces in Canada?', 'What parties fought in the Hanseatic invasion?', \"Who's the tallest man in the world according to the Guinness Book of Records?\", \"What 's the tiger 's voice called ?\", 'When did Britney Spears release her first album?', 'How many countries in the Mediterranean?', 'Who built a tall palace ?', 'When did the Ice Age cartoon come out ?', 'When was Michelangelo born ?', 'When was Michael Angelo born ?', 'Has the Ebola virus been developed in the lab ?', 'What was the first map on which he found the name of the new world, America?', 'What is the nationality of tennis player Katrina Adams?', 'When was Catherine Bigelow born ?', \"What 's an Ajax operation ?\", 'Who is the author of the series Neon Genesis Evangelion?', 'When did Evangelion end ?', 'What are the parts of the nerves?', \"What is Zha Iron 's greatest achievement ?\", 'Who is the current Iraqi prime minister?', 'What is the nationality of model Claudia Schaefer ?', 'Where is the city of Sindh?', 'When was the beginning of the reign of St. Laszlo I of Hungary?', 'When was Neon Genesis Evangelion written ?', 'Who is the current head of the Iraqi government?', 'When was the city of Rashid founded ?', \"Who 's the current manager of Leeds United ?\", 'What are yellow mills made of?', \"Where 's the biggest nature reserve in the world ?\", 'How many countries are in the Moroccan Arab Union?', \"Where 's the biggest mosque in the world ?\", \"Who's the best goalkeeper at Trabzon Spa?\", 'Who is the current Minister of Higher Education in France?', 'Is clindamycin an effective antibody ?', 'When was the European-American Football Union founded?', 'What caused the death of George W. Hensley?', 'To which Iranian province does the city of Abbir belong?', 'What is knowledge according to the Oxford English Dictionary?', 'When was the city of Majed al-Kanaan founded ?', 'What does the word \"vodka\" mean in Russian?', 'When was the Spanish Super Cup founded?', \"What's the biggest collector in the world?\", 'When was the first manga in the New Genesis Evangelion series printed?', 'When is the continental drift likely to occur ?', 'When did the Bush War start?', 'What are the first books of the Old Testament ?', 'When was the Shiite religion founded ?', \"What was Taylor Swift's first album?\", 'When was the ozone hole discovered?', 'When was the first artificial heart system used?', 'When was the Battle of Plataea?', 'When was soap made ?', 'How many months does an immigrant year include?', 'Which country produces the most tobacco?', \"Is the Guide of God my mother's successor?\", \"What 's the cause of the loss of appetite ?\", 'When was the Great Hurricane Galveston?', 'Who is the founder of the Brussels terrorist cell ?', 'What is the longitudinal elasticity factor of steel ?', 'Has any Arab ever won the Nobel Prize in Medicine?', 'What did God make the jinn out of ?', 'Can a baby be born with sticky fingers ?', 'How many cities are there in India?', \"When was Zorro's Mask released?\", 'What kind of a happy mind?', 'When did the legend of the black beard come into being ?', 'What is the height of Mount Hebron?', 'Is vitamin B1 the same as thiamine?', 'What does the term \"alphemnase\" mean?', 'Where does the grey eagle live?', 'Is Salvation from Shawshank based on a true story?', 'What is the Nobel Prize that Stephen Chow has won?', 'What is Durga Puja ?', 'When did France declare secular statehood?', 'What are the four types of diseases?', 'Who are the Arawak?', 'What position did the Turkish team win in the 2002 World Cup?', 'How big is Doha?', \"Where 's Edmund Evans buried ?\", 'Where are the skyscrapers?', 'Is the rank of marshal higher than the rank of team in the Syrian military ranks?', 'What is the atomic number of the element rodium?', 'When was the Italian Senate established?', \"Who is the commander of the Battle of Galout's Eye?\", \"Who's the president of the Country Club?\", 'Who invented photographic printing ?', \"Where's the pro?\", 'How wide is the Strait of Gibraltar?', 'What is cellular respiration?', \"Who is AC Milan's current coach?\", 'When did Euclid die?', 'How is personal data hacked ?', \"What 's the normal blood sugar ?\", 'How can a strong local economy be created ?', 'When did the Galapagos Turtle die ?', 'When was the Human Rights Movement founded?', 'Who is the Minister of Higher Education in Tunisia?', 'When did Rebecca West die ?', 'When was Joseph Hyde born as a composer?', 'Do you design mobile apps using Python?', 'When was Baltimore City College founded ?', 'When was Rose Royce founded?', 'What is the atomic mass of aluminum?', 'Who founded the science of probability in algebra ?', 'What kind of berries ?', 'When was the black keys band formed ?', 'What was the first American club to play for Ibrahimovic?', 'Who invented the rifle?', \"What's the highest density of sand?\", 'Who is the founder of H&M?', 'When was Valley of the Kings released?', 'Is it permissible to drink alcohol during Ramadan ?', 'When was Prince Vladimir born ?', 'When was Sir Edward Dallinger born?', 'What are isotopes ?', 'What are the coordinates of Barbados?', 'How do you make cast iron ?', \"What's the world's first water sports city?\", 'What is the currency of Turkmenistan?', 'How many times has the Eye team won the Asian Champions League?', 'When was Baghdad founded ?', 'How can you avoid deep vein thrombosis ?', 'When was Angela Merkel born ?', 'When did cloud computing come about?', 'When was Cairo built?', 'When did Muslims first travel?', \"What 's the black film ?\", \"What 's the preemptive strike ?\", \"What's the biggest digital library?\", 'How many stations are there in Algeria ?', \"What 's the glow ?\", 'Who is the author of the book Amin al-Rihani ?', 'Which countries are the biggest exporters of LARS ?', 'In what year was the Intercontinental Cup held for the first time?', 'When did Dredd become the UN goodwill ambassador?', 'When was the first power plant built ?', 'Who were the first Amway poets?', 'Why do some people hurt themselves on purpose ?', 'What is the population of Zaho?', \"Who's like the lead in The Army Girl's Diary?\", 'Where was writer Kate Chopin born?', 'When did Vivian Mary Hartley live?', \"Where is Ahmed Jamal Pasha 's son ?\", 'When was Solomon Northop born ?', \"What are the seven long walls in the Qur 'an ?\", 'What are the types of diabetes?', \"What's the nationality of Alicia Keys?\", 'When was Mohammed Saeed born naked?', 'Where was Jack Bernstein born?', \"Is there a cure for Hodgkin 's ?\", 'Is there a cure for perversion ?', 'When was the Battle of Lake Trasmania?', 'Is it possible to exclude dependence on oil?', 'Is anemia a genetic disorder?', \"What's the Carnivore diet?\", \"What 's the address of Bodham 's castle he built ?\", 'When was dog disease discovered ?', 'How many people in the big city?', 'When was Alfred Dreyfus born ?', 'How many isotopes of cadmium?', 'What year was my birthday?', 'What is the average human life expectancy ?', 'What is prolactin?', \"Who 's happy now ?\", 'Who invented the sandwich?', 'Where did Theodore Herzl die ?', 'What is insomnia ?', \"What is Jeffrey Young's nationality?\", 'How old is the Earth estimated to be ?', 'When was the first version of Britain Got Talent released?', \"What's the oldest university in America?\", \"What 's the unit of measurement ?\", \"When did Barbie Girl's mom song come out?\", 'What are the three types of sterilization ?', 'When was actor Jeffrey Tambor born?', \"What is the number of verses in the Qur'an?\", 'When was John Brown born ?', \"When's The Hit Man coming out?\", 'How many episodes in the series Lost and Found?', 'When was the New Architects Association founded?', 'When was Nosferato released ?', 'When did the Inca massacre take place?', 'When did the Silence of the Lambs come out?', \"What 's the biggest oil producer in the world ?\", 'When was Armageddon released ?', 'What is the capital of Turkmenistan?', \"What is the world 's second ocean space ?\", \"What's the area where the historical marble engraving was discovered?\", 'When was the Valkyrie Wheel built?', 'When did writer Kate Chopin die ?', 'When was the Thanksgiving State founded?', \"What 's Hideaki Anno 's most famous work ?\", 'When did the Uruguay national football team start?', \"What 's the surface area of the ball ?\", \"What's the last of Decart's works?\", \"What 's the mother web in biology ?\", 'When was the book \"In the Shadows of the Qur\\'an\" written for me, Mr. Qutb?', 'When did player Giuseppe Meazza die?', 'When did you open the Shisu Foundation ?', 'How many types of diabetes ?', 'What is the capital city of Shubva?', \"What's the longest cave in the world?\", \"What are August Strindberg's most famous plays?\", 'How many were involved in the Battle of the Eye ?', \"Where 's the biggest vineyard in the world ?\", 'Where is the Hermitage Museum?', 'When was Hamza bin Abd al-Moudid born ?', 'Who was the first to die from the company ?', 'Is there an ambulance to transport the animals?', 'Where is the Yermitage Museum?', 'When do I find oil?', 'What are the main heart valves ?', \"What was Gestapo's first album, Adrian Serati?\", 'What are hallucinations?', \"What 's the function of the small intestine ?\", \"Who's the head of Egyptian intelligence?\", 'When did Pro Evolution Soccer first come out ?', 'When did Jamal Khashoggi become the deputy editor-in-chief of Arab News?', 'Who won the first Nobel Peace Prize?', 'Who is the founder of Palm?', 'When did Batman Begins air on MBC ?', 'When was Rolls-Royce founded?', 'When was Split released?', 'How many types of dogs ?', 'When does the human body begin to rot after death ?', 'Where was Michael Sean Hckenbottom born?', 'When was the Red Crescent Society founded?', 'What are examples of environmental racism ?', 'How can you get rid of young love ?', 'When was the anime Nausicaä of the Valley of the Wind released?', 'When did Jerome David Saling live?', \"What's raw?\", 'In what year was the Norwegian Broadcasting Corporation founded?', 'Where did you find the oldest nail polish in history?', 'What is the new imperialism?', 'What does it mean to have blood in the stool ?', \"What 's the IP code ?\", \"Who's the tallest animal?\", 'When was the Congo River discovered?', \"What 's the fastest fighter in the world ?\", \"What's the function of a bracelet?\", 'In which city is the Valkyrie Wheel?', 'When was the University of Zaragoza established?', \"What 's the function of the bladder ?\", 'When was the city of Innsbruck founded ?', \"What 's the average number of chronic obstructive pulmonary disease victims a year ?\", 'How old is Martin Sliegman ?', 'What are the most famous works of Martin Sliegman ?', 'Who built the Spanish birthplace?', 'How long did it take to build the pyramids?', \"Who 's responsible for the 2015 Sarge bombing ?\", 'When was Minority Report released?', 'Who was the first Shia imam?', 'When was the first medical journal published?', 'Has Mother Teresa ever won the Nobel Peace Prize?', \"Where was Francis ' daughter Mary born ?\", 'Who are the Quadrant Pirates ?', 'Is his date a Yemeni Jew?', 'What are electronic stores ?', 'When was the publishers Jonathan Cape founded?', \"Where 's Boston Dynamics headquartered ?\", 'Where is the Roman camp Cisterna?', 'Who is Rudolph Hess?', 'When was the Vatican Library founded?', 'When was Joseph Hyde born ?', 'Where is the temple of Karnak ?', 'When do I launch a satellite?', 'When was the Syrian monthly founded?', 'What do you mean, a disease carrier?', 'Is the old city of Lyon a World Heritage Site?', 'When was writer Kate Chopin born ?', \"Who is the founder of the Women's Movement?\", 'How many countries are members of the ESCWA?', 'When were the mattresses released ?', 'Has Kuwait won the Asian Cup?', 'When was the movie The Published Candidate released?', 'Who built the U.M.C.?', 'Is bone marrow a degenerative disease?', 'How many episodes of Samurai Jack?', \"What 's the natural oxygen in the soil ?\", \"What's the maximum speed of Hurricane Patricia?\", 'When was Zaha Hadid born ?', 'Who is the father of Abdullah bin Harun al-Rashid?', 'Are there any birds that can fly backwards?', \"What 's the feed ?\", 'What is the prime quantum number in atomic physics ?', \"What's the greatest number of cholera victims?\", \"What's the cure for a cold?\", 'Is gonorrhea an infectious disease ?', \"What's the name of the longest crocodile?\", 'When was the Westminster Abbey founded?', 'When was the twin towers built in Malaysia ?', 'What does the name Esravel mean?', 'When did the actress wear a hijab?', 'Who set up the Iraqi Republican Guard?', \"Where 's the largest military base in the world ?\", 'When was Black Sea released?', 'How long is the maximum term of a president in the United States of America?', \"What 's a Russian folk costume called ?\", 'Where are the islands of Tiran and Sanfer?', 'When was Beringles founded?', 'How many Chinese towers ?', 'What year was Little Inventor anime released?', 'When was the Battle of the Coral Sea?', 'How many seasons is Lucifer on Netflix ?', 'When was \"Limthless\" released?', 'Did Moldova participate in the World Cup ?', 'When was Lucky Luke founded?', 'Where was the lake monster filmed ?', 'Where does the Niger River come from ?', 'Where is Como?', 'When was Accenture founded?', 'When did Priyanka Chopra marry Jonas?', 'What are the highest military ranks?', \"What was William Adolph Bouguereau 's first painting ?\", 'Where was the poet Carl Sandberg born?', \"Who is Maya Angelou's father?\", 'What are personal tests ?', 'Who were the nobles of the French Revolution ?', \"What's the area of the hypotenuse?\", 'When was the movie Salmon Fishing in Yemen released?', 'When was the Gourmet song released by Muse?', 'When was Asus founded?', 'Who is the spinning galaxy discoverer?', 'How old is Rashid Street in Baghdad ?', 'What is the origin of the hot dog?', 'Where was Pierre Paul born ?', 'Where was St. Gregory the Great born?', 'What is a city of gold famous for ?', 'How many verses of the Surah of the Poets?', 'Who is the most crowned team in the African Cup of Nations?', 'Is there a founder of the yakuza?', 'Who is the current Emperor of Japan?', 'Is the user data packet protocol one of the routing information protocols?', 'When was the Royal College of Physicians founded in Britain ?', 'What is the average length of an anaconda snake ?', 'What land did the Gokturks settle in ?', 'Where did Tariq bin Zayed live?', 'When did you get your first Hugo Award?', 'In what year was Susannah Afroim born?', 'Where was Martin Sliegman born ?', 'When was camp Zaatari established?', 'When was Wise Air founded ?', \"What 's the mother of the bombs ?\", 'Who is the head of the Saudi Royal Navy ?', 'When did the second Saudi state fall?', 'When was the first anime Perseric released ?', 'In which province of Syria is the Head of the Plain?', \"What's the number of endocrine glands?\", 'Why does it happen ?', 'Who was crowned German League champion in 2018?', 'Who were the two sides that fought in the Battle of Coral Duck?', \"What 's the pulp made of ?\", 'When was the United Nations Development Programme launched?', \"What's the thyroid artery?\", 'When was Sunsudine founded?', 'When did the hotbird moon launch?', \"Where's the River Clyde?\", 'When was the American Wrestling Federation founded?', 'When was the Hungarian Football Association founded ?', 'Where does the Safe River flow?', 'When was the Kinsey Institute founded?', 'Where was Bill Paxton born ?', 'What are the four Gospels?', \"What 's military intelligence ?\", 'Where was Lorbach butter founded?', 'When was \"out in the dark\" released?', 'Who is the founder of Isfahan ?', 'Is a story to name with love and misery realistic?', 'What do you mean , a public accountant ?', \"When was Iraq's first Gulf Cup appearance?\", 'How many ships disappeared in the Bermuda Triangle ?', \"What's the smallest fish?\", 'What was the last poem to visit my bellow before he died?', \"Who's the beauty queen of the world in 2018?\", 'In what year did the Battle of Anp take place?', \"Where's the tallest statue in the world?\", \"Where's the Tesla factory?\", \"What 's the water diet ?\", 'When was the King Abdulaziz World Cultural Center founded ?', 'Who was the president of the Soviet Union in 1965 ?', 'Where does the Dnieper River flow?', 'When was the last film of the Kings of Scotland released ?', \"What are Olivia Marie Manning 's most famous novels ?\", 'Who is the father of modern dentistry?', 'Do I find a cure for the Marburg virus?', 'What are the years of the century?', \"Who's the author of Six Thinking Hats?\", \"When was men 's health magazine founded ?\", 'When was Bilal Ben-Rabah born ?', 'When did you put a story into a name with love and misery?', \"What's the name of the first-ever Oscar-nominated actor?\", 'Where is the temple of Karnak?', 'How many years does the century consist of?', \"Who was Iraq 's first prime minister ?\", 'When was the Islamic State founded ?', \"Who is Ismail bin Ja'far?\", 'In what year did the United Nations Population Fund start its work?', 'When was H&M founded?', \"Who 's the Spanish president ?\", 'Is fat-pulling harmful to your health?', 'When did the Ovarian Doctrine come about ?', 'What is a waking dream?', 'Where is the Red Sea?', 'How many tributaries of the Euphrates?', 'How old is Ananda Temple ?', 'Where is the son of the sage Alfonso X ?', 'What are the first works of Willa Cather ?', 'When was \" From the cradle to the grave \" released ?', 'Where are the mountains?', 'Where was the Carolingian Empire ?', \"What 's the Cline Cook fireplace ?\", \"When was the Battle of Galout 's Eye ?\", 'Can a human head be transplanted into another human body ?', 'Where did the Algerian Abdel-Qadir live?', 'When was the International Mathematical Union founded?', \"What 's the intercession ?\", 'How tall are the Argentine dinosaurs ?', \"When was Venezuela's first World Cup appearance?\", \"Who 's on the sidelines of the Battle of Maudon ?\", 'What are programmed rational governments ?', 'When was the Skull and Bones organization founded?', 'How many countries is the World Heritage Committee made up of?', 'What is the statue of Our Lady of Justice?', \"What's the first book for Ada Aharoni?\", 'How many times has Chile won the Copa America?', 'What is neuroscience?', 'How do you keep the pills from getting damaged ?', 'When was MBC Media Network established?', 'In what year were Riyadh hospitals founded ?', \"What's the salivary gland?\", 'When did the Battle of the Eye End ?', 'When was the first season of Valley of the Wolves released ?', 'When was the city of Isfahan founded ?', 'Where is Malpurk Castle?', 'Which is the most crowned Gulf state in the Gulf Cup?', \"Who founded the men 's health magazine ?\", \"Where 's the Litchugilla Cave ?\", \"Where's the back valley?\", 'How many verses of the Surah of the Poets?', 'When did someone invade ?', 'Where did my grateful butcher die?', \"What's a soil forane?\", 'How did Hamza bin Abd al-Muttaq die ?', \"What's the name of the longest river in Algeria?\", 'In what year did the Prophet Muhammad (peace and blessings of Allah be upon him) make his farewell statement?', 'When did cartoonist James Gilroy die?', 'In which country is the ancient wilderness city of Hormuz located?', \"What's the neurophysiology?\", 'Who is the secretary general of Hezbollah ?', 'Where does the Neva River go?', \"What's the biggest mall?\", 'When was \"Finding Noah\\'s Ark\" released?', 'When is Toffey William Cooley ?', 'Where was the first case of SARS recorded?', 'What is the nationality of composer George Pinto?', 'When did Ahmed Zowil win the King Faisal World Award?', 'Who says \" be or not be \" ?', 'What is the city of Najaf famous for ?', 'When was the Saudi Air Force established ?', 'When did the story collection come together like a flowing river?', 'How many ayat al-Haram are there?', 'When was Spike born to me?', \"Where 's Julie Caffner 's daughter ?\", \"What 's the sixth sense ?\", 'When was the Knesset founded ?', 'When was the Israeli Knesset founded ?', \"Who's the author of the book of the living and the dead?\", 'When did the Resistance live under the auspices of the Zealots?', 'When was Hanukkah Levin born ?', \"Where is Hanukkah Levin 's son ?\", \"What 's the G-zone ?\", 'When did Fraser Stoddart win the King Faisal World Award?', \"When does Destiny's Night agree?\", 'When do you get off the Sura ?', 'How many episodes of Attack of the Giants ?', 'When is World No-Violence Day celebrated?', \"Where 's the Parker solar-powered probe ?\", 'When was my dream born?', \"Where 's the Angelina 's Cafe ?\", \"What 's the incentive ?\", 'Where is the monastery of St. Jerome?', 'How did Miguel Primo de Rivera die ?', 'When was the beginning of the 20th century?', \"Where is Imam Ali 's Mosque ?\", 'When was the skull and bones founded?', 'Who are the giants?', 'Is the Surah of the Moon a Mecca or a civilian?', \"What's a braxeologist?\", 'Who is the founder of the Syrian monthly?', 'How old was Youssef and Hobey when he died ?', 'When was the American Journal of Psychiatry founded?', 'Who is Anton Reichha?', 'How long did the Battle of Kirkuk last ?', \"What 's the hospital logo ?\", 'What year was Meral Okay born?', 'When was American Network Computing Company NCD founded?', 'Where is the city of Sitia?', \"Who's the superintendent of Toman Bay?\", \"How old is Jose Elway 's first lady , Alvaro Delgado ?\", 'What is invisible light ?', 'What are the Andalusian residences?', \"What 's Dredd 's most famous work ?\", 'What is an epidemic growth disorder?', 'What is the Apostolic Palace?', \"Who is Real Madrid's historic goalkeeper?\", 'What is the number of verses in the Surah of the Prophets?', 'What are the economic indicators?', 'Why did you call the Galapagos Islands by that name ?', \"How many of Jose Elway 's children are Alvaro Delgado ?\", 'Who painted the Return of the Prodigal Son?', \"Where's the Palo River?\", 'How many verses of the Surah are there?', 'What is the nationality of writer Collette Khoury?', 'Who is Orkhan Aski Koy?', 'Where is Nanao Island?', \"Where 's the first child of Abu Zakariya ?\", 'What language is kichi?', 'What area is known as Ruins or Harnoob?', \"What 's the straight line ?\"]' has dtype incompatible with float64, please explicitly cast to a compatible dtype first.\n",
            "  df.loc[mask, out_col] = translate_list_pipe(texts, src_lang=lg, batch_size=batch_size)\n"
          ]
        },
        {
          "output_type": "stream",
          "name": "stdout",
          "text": [
            "[question] Translating 2422 rows for lang='ko'...\n"
          ]
        },
        {
          "output_type": "stream",
          "name": "stderr",
          "text": [
            "Translating ko->EN: 100%|██████████| 19/19 [11:41<00:00, 36.93s/it]\n"
          ]
        },
        {
          "output_type": "stream",
          "name": "stdout",
          "text": [
            "[question] Translating 1355 rows for lang='te'...\n"
          ]
        },
        {
          "output_type": "stream",
          "name": "stderr",
          "text": [
            "Translating te->EN: 100%|██████████| 11/11 [07:30<00:00, 40.97s/it]\n"
          ]
        },
        {
          "output_type": "stream",
          "name": "stdout",
          "text": [
            "[question] Translating 415 rows for lang='ar'...\n"
          ]
        },
        {
          "output_type": "stream",
          "name": "stderr",
          "text": [
            "Translating ar->EN: 100%|██████████| 4/4 [02:08<00:00, 32.17s/it]\n",
            "/tmp/ipython-input-3801645048.py:45: FutureWarning: Setting an item of incompatible dtype is deprecated and will raise an error in a future version of pandas. Value '['What are the first universities in Finland?', 'How many countries are on the Baltic Sea?', 'Where did Newton live?', 'Has the puppy visited Yemen?', 'Who is the first president of the Republic of Yemen?', 'When did the war in Normandy end ?', 'Who is the explorer who found Resurrection Island in the South Pacific?', \"What are Mary Wollstonecraft 's most famous works ?\", \"Where did the Qur'an come down?\", 'Why is the Finnish education system one of the best?', 'What is a football team in France?', 'The year Mahatma Gandhi died?', 'What is the most dangerous shark species ?', \"What's the smallest island in the world?\", 'What is the number of days in the month of Ramadan ?', \"How much does Big Ben's watch weigh?\", 'How many major divisions of Christianity are there?', 'Who is Klassenkoff ?', 'When was the Birmingham Campaign ?', 'Are there French military bases in Djibouti?', 'Who is the leader of the Romantic movement ?', 'What is the average age of puberty for females in Africa?', 'Who was the head of the Office of Racial Policy in the Nazi Party?', 'What is the political wing of the Algerian National Liberation Army before independence?', 'When did Anonymous appear?', 'When was the shrine of Mrs. Zaneb built in Egypt ?', 'Who is the founder of the Kingdom of Hungary ?', 'When did Ford build the first car?', 'When did Freud, a psychiatrist, live?', \"What's the oldest train station?\", \"What 's the Monkees ' first album ?\", \"What's the mascot for the 2018 FIFA World Cup?\", \"How were Bahrain 's protests suppressed ?\", 'Has the Kingdom of Spain fought wars with England?', 'When was the American Suffrage Organization founded?', 'Is Egypt a developing country?', 'What does HTTP mean ?', 'Who was the first to leave Earth for space?', \"What's a circus dance?\", 'Is there a vaccine for smallpox?', 'What are the minorities in Iraqi Kurdistan ?', 'What year was \" Step Mom \" made ?', 'Where was Vivian Mary Hartley born ?', 'When was the Abbasid state founded?', \"What 's the SARS vaccine ?\", \"What 's the biggest city in Austria ?\", 'Who took over the presidency of Tunisia after the beloved Bourgogne?', 'Where does sculpture spread ?', 'Which is faster than sound or light?', 'How many different types of soil ?', 'What are the symptoms of viral hepatitis B?', 'What is the highest mountain peak in the Netherlands?', 'Who approves the state budget in Canada?', 'Who was the first royal ruler ?', 'What language is spoken in Libya ?', \"What 's the statue above the Chicago Board of Trade ?\", \"Who's the second Abbasid successor?\", 'Where did the successful state emerge?', 'Where did Nicholas Copernicus die?', 'When was the first time Saudi forces intervened in the Yemeni revolution?', \"What 's the difference between an insult and a hallucination ?\", 'What was the cause of the Anglican Civil War ?', 'When was the office motherboard invented ?', \"Where's the biggest grey wolf area?\", 'When was my Linux Ubuntu operating system created?', 'Is there equality between men and women in India ?', 'What is the average life expectancy of a cat?', 'How many deaths from Cyclone Edith?', 'Who is the most famous painter of the Renaissance ?', 'Who owns the territory of Gibraltar?', 'When did the war in Normandy end ?', \"What 's the name of the 2017 British Prime Minister ?\", 'What year was \" Step Mom \" made ?', 'Who invented the cassette tape?', 'What are the largest cities in the Czech Republic?', 'Where was actor Hugh Laurie born?', 'What are the crowns of Trabzon Spa?', \"What is the number of surahs of the Holy Qur'an?\", 'When did a thrilling battle start?', 'How many trips did Moses take?', \"In what year was Israel's complete withdrawal from southern Lebanon?\", 'In what year was the novel Farewell to Arms by American author Ernest Hemingway released?', \"Who 's the director of Passion of the Christ ?\", 'When did the Battle of Marawi begin ?', 'When did Coptic Christianity begin ?', \"What 's a scratchy baby ?\", 'How long did the Hun Empire last ?', 'What are the most common types of influenza viruses?', 'Who is the current U.S. Secretary of Education?', 'Who is the founder of Huawei?', 'Who is the most famous Arab pharmacist in history ?', \"What's the production company for Cassandra?\", 'Can nitrazepam be prescribed to diabetics ?', 'Who is the founder of Lebanese Hezbollah ?', 'What was the first model made by Ford?', 'When did Britain join the European Union?', 'When was the Coptic Orthodox Church built?', \"Who was Brazil's first president?\", 'Who was the last king of the Persian Empire?', 'What is the highest mountain peak in the Netherlands?', 'What is the effect of radiation on the body ?', 'Who was the last emperor of the modern Babylonian Empire?', 'What is the most dangerous shark species ?', 'Who took over the presidency of Iraq after independence ?', 'Who is the founder of secularism in Turkey ?', 'Is it snowing in South Africa?', \"How many verses of the Qur 'an ?\", 'What is the effect of radiation on the body ?', 'When did the theatre of Malta come into being ?', 'What is the official currency in Eritrea?', 'What is the nationality of Baruch Spinoza?', 'Is homosexuality legal in Russia?', 'Is Paul considered an apostle of Christ?', 'Who is the fourth president of the Arab Republic of Egypt?', 'When did Islam arrive in North America?', 'Does Hollywood survive porn?', 'Who was the first military force to use a communications device?', 'Is fifth-generation technology dangerous ?', 'Who is the third son of João I, King of Portugal?', 'Are there French military bases in Djibouti?', \"How were Bahrain 's protests suppressed ?\", 'Do Africans represent the most refugees in the world?', \"What is Germany's largest territory?\", \"Who wrote the Holy Qur'an?\", 'When did the invading Gyatsi Sultan live?', 'What did the ancient Egyptians use for embroidery?', 'What does the name Karbala mean ?', 'What nationality is Hassan al-Banna, the founder of the Muslim Brotherhood?', 'Where was the painter Vasily Kandinsky born?', \"What 's the devil 's rocket ?\", 'What is the dramatic style of Arabic poetry ?', 'Who is the founder of Bollywood ?', 'When did Edward III die?', 'Did the prophet Solomon build Jerusalem?', 'How far is Casablanca from Acadier?', 'In what year were the islands of the moon made into the Arab homeland ?', \"Who 's the director of The Man in the High Castle ?\", 'What are the risks of involuntary muscle dysfunction ?', 'Can we store human genes?', \"What 's the cure for bronchitis ?\", 'What are the official languages of UNESCO?', 'Who are the oldest Arab tribes?', \"What 's the name of Mexico 's 2018 president ?\", 'What are the oldest universities in the Netherlands?', 'When was the Wind spacecraft launched ?', 'Who was the first chemist to win the Nobel Prize in Chemistry ?', 'Who is the last Russian emperor?', \"Is the morning prayer a year or a slave 's duty ?\", \"What 's the longest of the four gospels ?\", 'When was the Russian RT network founded?', \"Where 's the cemetery of Rebecca West ?\", \"What's the sequence?\", \"What 's the coldest planet in the solar system ?\", 'What is the highest rank in the Egyptian army?', \"What's the oldest makeup in the world?\", 'Can children be protected from sexual harassment ?', 'In what year did the heavenly message descend upon the Prophet Muhammad?', 'What are the particles responsible for wound healing ?', 'Is there a cure for my Marbor fever?', \"When did Pasha the Sailor 's Shepherd die ?\", \"What 's the golden age ?\", 'When was the first psychiatric hospital established ?', 'Do Africans represent the most refugees in the world?', 'How many countries are on the Mediterranean?', 'What is the origin of Judaism?', \"What is Van Gogh 's nationality ?\", \"What 's the Monkees ' first album ?\", 'What is the largest seaport in Turkey?', \"Who 's the first Wally of the Left ?\", \"Who found the Libyan People 's Socialist Arab Mass ?\", 'How many muscles do the tongue attach to the jaw?', 'When did Haiti first participate in the FIFA Confederations Cup ?', 'Who was the first person diagnosed with cystic fibrosis ?', 'How many medals did China win at the 2012 Olympics?', \"What is Libya 's most famous agricultural product ?\", 'When was the coup against President Mohammed Najib?', 'Who is the most famous painter of the Renaissance ?', 'Who discovered America?', \"Where's the rock salt?\", \"What 's the name of the 2017 British Prime Minister ?\", 'How many children of the late President Hafez al-Assad?', \"What is Germany's largest territory?\", 'Who discovered America?', 'Who discovered the hepatitis virus ?', 'Are homosexuals more prone to HIV?', 'What are the particles responsible for wound healing ?', \"What's the snake bone?\", 'What is the programming language used in Internet Explorer?', 'Which city has the lowest crime rate in North Carolina ?', 'Can human consciousness be transferred to a machine brain ?', 'When did Prince William and Catherine Middleton get engaged?', \"Why is St. John's wort so named?\", \"Who was my official supporter of Bashar al-Assad 's regime during the Syrian civil war ?\", 'What is the currency in Finland?', \"When was Batman 's first movie released ?\", 'Who drafted the Spanish Constitution ?', \"Who was Russia's first emperor?\", 'Is English the official language of India?', 'Is religious extremism a form of fascism?', 'What year was fax invented ?', 'When did the split between the Catholic Church and the Eastern Orthodox Church occur?', 'Who were the first adult successors?', 'Who is the president of the Russian Empire for 2010 ?', 'When was the infrared detected ?', 'Are hormones the primary cause of emotions ?', \"Who 's the head of NASA ?\", 'Is Canada helping to avoid global warming ?', 'When did Christianity spread ?', \"What are women 's rights in Islam ?\", 'What is Anglo-Saxon law ?', \"What is Javier Bardem's nationality?\", 'When was the e-cigarette invented ?', 'How many years did the Abbasid Caliphate last ?', 'Does any country have land borders with Ireland?', 'Who drafted the Spanish Constitution ?', 'Where did the English classical composer George Frederick Handel live?', 'How long was the reign of King Sephuddin?', 'What is the rate of economic growth in the Republic of Benin in 2018?', 'When did the invading Gyatsi Sultan live?', 'In which year was the Deep Impact space shuttle launched from Cape Canaveral Space Base in the US state of Florida?', 'How are ancient manuscripts dated?', \"What are the names of Noah 's sons ?\", 'What year was the United States of America ?', \"Where's the city of his honor?\", 'How much is the U.S. military budget?', 'What is the political wing of the Algerian National Liberation Army before independence?', 'When will the United Nations Housing Fund be established ?', 'How many sects are there in Iraq ?', \"Who's the last Abbasid successor in Baghdad?\", \"What 's the devil 's rocket ?\", 'Who were the conflicting parties during the Crete War ?', 'How many islands are there in Samoa?', 'When did Tom Cruise marry Nicole Kidman?', 'How many regional languages are there in Canada?', \"Where 's Levi Eshkol buried ?\", 'Did the Argentine player Messi have Spanish citizenship before joining the Argentine team?', 'Who is the prophet sent to the children of Israel ?', 'Does the tree of heaven bear fruit ?', 'Who is the founder of the U.S. Food and Drug Administration ?', \"What 's the Romanesque architectural style called ?\", 'Who took over the presidency of Iraq after independence ?', 'When did Coptic Christianity begin ?', 'When was the Battle of Marga Akka?', 'When did Islam spread to the United States of America?', 'What is the constitutional term of office of the president of the United States ?', 'What kind of a sound or a clutch?', 'Who was the first Arab woman to receive the Nobel Prize?', 'Why is the term infection control so important in hospitals?', 'Who is the president of the Russian Empire for 2010 ?', 'When did the Third Slave Revolution begin ?', 'Who was the first person diagnosed with cystic fibrosis ?', 'When did Husain son of Talal son of the servant of God son of Husain son of Hashemite Qureshi take the throne ?', 'What parties fought in the Battle of the Bulge?', \"What are the world's largest lakes?\", 'When was contemporary dance created ?', \"How much does Big Ben's watch weigh?\", 'When was the last Avengers movie made?', 'Is my vitamin B12 deficiency causing my peripheral inflammation?', 'Who was the actor who played the greedy merchant in The Merchant of Venice?', 'When is the Flat Earth Society founded ?', \"Where's the rock salt?\", 'What is the area of Bangladesh?', 'When did the United States go to war with Pakistan?', 'When was the American Suffrage Organization founded?', 'How many moons of the planet Crater?', 'When did Islam arrive in North America?', 'When did the civil war break out in Venezuela ?', 'Who was the first to diagnose asthma in children ?', 'What is pessimistic philosophy?', 'What were the first works of English artist William Hogarth?', 'What is the area of the tribal area in Algeria?', 'What is delayed neural development in children ?', 'When is the Flat Earth Society founded ?', 'In what year was the novel Farewell to Arms by American author Ernest Hemingway released?', 'In what year was Baghdad governor Ali Al-Hidri liquidated?', 'What is the number of blood clots in a human?', 'How does any kind of science deserve to be called science ?', \"Who is Saudi Arabia's ambassador to Istanbul?\", 'Who discovered corneal dysfunction ?', 'When was Jesus the son of Mary born?', 'Where is the city of Kalamul?', 'Who was the first to discover gravitational waves on Earth?', 'When did Edward III die?', 'Are you studying veterinary leave at UCLA ?', 'What are the largest cities in Uzbekistan?', 'What is the constitution of the Nicene Creed?', 'What kind of a sound or a clutch?', 'Where does the white gold come from?', \"What are the names of Noah 's sons ?\", \"What's the bridesmaid's theater in Egypt called?\", 'What is the native language of the people of India ?', \"Who's the director of Clash of the Titans?\", \"Who's the author of Vee Maffey?\", 'Is there a communist party in Kuwait?', 'What is the native language of the people of India ?', 'What role did the Soviet Union play in World War II?', 'Where is the city of Kalamul?', 'How old is the Kingdom of Bagan ?', 'When was the office motherboard invented ?', \"Who's the director of Clash of the Titans?\", 'Is there equality between men and women in India ?', 'When did Christianity spread ?', \"What 's the Romanesque architectural style called ?\", 'How many different types of soil ?', 'When did you release the Russian Katyusha song?', 'How many types of skin dyes are there ?', 'When did President Ram Nath Kovind become President of India?', 'Who invented the kidney washer ?', 'Can we store human genes?', 'Who was the first Algerian president ?', 'What discovery resulted from the invention of the atomic bomb dropped on Hiroshima in 1945?', 'Who took over the presidency of Tunisia after the beloved Bourgogne?', 'Who caused the Chernobyl disaster ?', 'What is the Islamic Salvation Front?', 'What are the largest Canadian provinces?', 'Is gun ownership legal in the U.S. state of Oklahoma ?', 'What is the largest island in the Maldives?', 'Who are the most famous Lebanese artists of 2009 ?', 'In what year did world-famous artist Yanni produce his first concert?', 'Do monotheistic religions support the theory of evolution?', \"Who was my official supporter of Bashar al-Assad 's regime during the Syrian civil war ?\", 'How does addiction happen ?', 'Who was the first Arab woman to receive the Nobel Prize?', \"What 's the function of urine hormone ?\", 'What is the meaning of the Hebrew word hajjanah?', 'Who was the first Russian emperor ?', \"What 's the area of Lebanon ?\", 'Why is the Finnish education system one of the best?', 'Where was Vivian Mary Hartley born ?', 'How was the French state founded?', 'Who was the victor of the Battle of Marawi ?', 'Are you studying veterinary leave at UCLA ?', 'Is Stromboli one of the most active volcanoes in Italy?', 'How many children did the prophet Abraham have?', 'Was the temple destroyed during the First Crusade ?', 'When were carbon nanotubes invented ?', \"What 's the golden age ?\", 'How many years did Jesus live?', \"What 's the population of the cattle ?\", 'In what year was the Republic of South Africa founded?', 'How do you measure the strength of gemstones?', 'What was the cause of the Anglican Civil War ?', 'What is the meaning of the Hebrew word hajjanah?', 'What is DNA analysis?', 'How do Jews deal with money ?', 'Is the zinc sulfate yellow?', \"Has the Qur 'an preserved Arabic to this day ?\", \"What 's the joint venture ?\", 'When did Britain join the European Union?', \"Where 's the headquarters of the National Geographic Channel ?\", 'Where is the Syrian army stationed during Operation Sunnah ?', \"Who found the Libyan People 's Socialist Arab Mass ?\", 'Where does the Ural River go?', 'How many days in a leap year?', 'Does Turkey have nuclear weapons ?', 'When was the first psychiatric hospital established ?', 'Did the prophet Solomon build Jerusalem?', 'Where was NASA created?', 'What is the punishment for child rape in France?', 'Who owns the territory of Gibraltar?', 'Who are the pharaohs ?', 'Who is the Second Reich ?', 'When did Spain expel the Andalusians?', 'Did the Argentine player Messi have Spanish citizenship before joining the Argentine team?', 'Who was the governor of Egypt under Caliph Ali bin Abi Talib?', \"What's the last French colony in Africa?\", 'What is the programming language used in Internet Explorer?', 'Does any country have land borders with Ireland?', 'Do you teach medical engineering at the University of Florida?', 'When were carbon nanotubes invented ?', 'How many Japanese civilian casualties during World War II ?', 'Who was the first royal ruler ?', 'When did the first conflict between Chad and Sudan begin?', 'Who was the first ruler of a connected nation?', 'What year was fax invented ?', 'Are Jordanian pearls on the UNESCO World Heritage List?', 'Who promised the Jews the land of Palestine?', 'Can the proxy be adjusted to avoid attendance at some locations ?', 'When was insulin discovered?', \"What 's the area of Luxembourg ?\", 'Who founded the city of Lipps Magna ?', 'What is the largest seaport in Turkey?', 'Who were the first adult successors?', 'Where was the painter Vasily Kandinsky born?', 'When did Husain son of Talal son of the servant of God son of Husain son of Hashemite Qureshi take the throne ?', 'Is paclitaxel a medication that helps relieve melanoma?', 'Is diabetes hereditary?', 'When did Prince Mahroot bin Fahd die ?', 'What are the largest cities in Malta?', 'Does the melanoma hurt ?', 'Is there a similarity in the unification of Judaism and Islam?', 'When did President Ram Nath Kovind become President of India?', 'How old is Judaism ?', 'When did Islam spread to the United States of America?', 'Is gun ownership legal in the U.S. state of Oklahoma ?', \"What's the production company for the manga series Blue Spring Round?\", 'What was the first Arab country to gain independence ?', 'Who is presenting the Grammy Award for Musical Creativity?', 'Is Assaf Cohen a Yemeni Jew?', 'Who was the first to know iron?', \"What is Javier Bardem's nationality?\", 'What is the constitution of the Nicene Creed?', 'Who is the founder of the U.S. Food and Drug Administration ?', 'When will I overthrow Sudanese President Bashir?', 'When was the first Consumer Electronics Show held in Las Vegas ?', 'How does addiction happen ?', 'When was the Kurdish Democratic Alliance founded in Syria?', 'When did the rebels attack eastern Aleppo ?', 'Was the temple destroyed during the First Crusade ?', 'When did Delhi become the capital of India?', 'Do insects count as cold-blooded?', 'Who are the most famous Lebanese artists of 2009 ?', \"Who is Britain's most famous detective story writer?\", 'Who won the 2016 Academy Award for Best Supporting Actor?', 'Who promised the Jews the land of Palestine?']' has dtype incompatible with float64, please explicitly cast to a compatible dtype first.\n",
            "  df.loc[mask, out_col] = translate_list_pipe(texts, src_lang=lg, batch_size=batch_size)\n"
          ]
        },
        {
          "output_type": "stream",
          "name": "stdout",
          "text": [
            "[question] Translating 356 rows for lang='ko'...\n"
          ]
        },
        {
          "output_type": "stream",
          "name": "stderr",
          "text": [
            "Translating ko->EN: 100%|██████████| 3/3 [01:45<00:00, 35.22s/it]\n"
          ]
        },
        {
          "output_type": "stream",
          "name": "stdout",
          "text": [
            "[question] Translating 384 rows for lang='te'...\n"
          ]
        },
        {
          "output_type": "stream",
          "name": "stderr",
          "text": [
            "Translating te->EN: 100%|██████████| 3/3 [01:52<00:00, 37.59s/it]"
          ]
        },
        {
          "output_type": "stream",
          "name": "stdout",
          "text": [
            "Saved: df_train_translated.parquet, df_val_translated.parquet\n"
          ]
        },
        {
          "output_type": "stream",
          "name": "stderr",
          "text": [
            "\n"
          ]
        }
      ],
      "source": [
        "#Defining a helper to ensure a column exists in the DataFrame.\n",
        "#If it doesn't, creates it filled with NaN values (to avoid KeyErrors later).\n",
        "def ensure_column(df: pd.DataFrame, col: str):\n",
        "    if col not in df.columns:\n",
        "        df[col] = pd.Series([np.nan] * len(df), index=df.index)\n",
        "\n",
        "#Ensuring English-translated question columns exist in both train/val DataFrames.\n",
        "ensure_column(df_train, \"question_en\")\n",
        "ensure_column(df_val,   \"question_en\")\n",
        "\n",
        "\n",
        "TRANSLATE_CONTEXT = False\n",
        "if TRANSLATE_CONTEXT:\n",
        "    ensure_column(df_train, \"context_en\")\n",
        "    ensure_column(df_val,   \"context_en\")\n",
        "\n",
        "\n",
        "#function that translates text columns into English and caches them in a new column.\n",
        "def cache_translations(df: pd.DataFrame, text_col: str,out_col: str,\n",
        "                       langs: Iterable[str] = LANGS, batch_size: int = 128):\n",
        "\n",
        "    for lg in langs:\n",
        "        #Identify rows in the current language\n",
        "        mask_lang = (df[\"lang\"] == lg)\n",
        "\n",
        "        #Identify rows that still need translation (missing or empty string)\n",
        "        mask_need = df[out_col].isna() | (df[out_col].astype(str).str.strip() == \"\")\n",
        "        mask = mask_lang & mask_need\n",
        "\n",
        "        #Skip this language if all translations are already cached\n",
        "        if not mask.any():\n",
        "            print(f\"[{text_col}] '{lg}' — already cached, skipping.\")\n",
        "            continue\n",
        "\n",
        "        #Extract all texts that need translation\n",
        "        texts = df.loc[mask, text_col].astype(str).tolist()\n",
        "        print(f\"[{text_col}] Translating {sum(mask)} rows for lang='{lg}'...\")\n",
        "\n",
        "        #Translate in batches and store results\n",
        "        df.loc[mask, out_col] = translate_list_pipe(texts, src_lang=lg, batch_size=batch_size)\n",
        "\n",
        "\n",
        "# Translate and cache the question column for both train and validation sets\n",
        "cache_translations(df_train, text_col=\"question\", out_col=\"question_en\", batch_size=128)\n",
        "cache_translations(df_val,   text_col=\"question\", out_col=\"question_en\", batch_size=128)\n",
        "\n",
        "if TRANSLATE_CONTEXT:\n",
        "    cache_translations(df_train, text_col=\"context\", out_col=\"context_en\", batch_size=128)\n",
        "    cache_translations(df_val,   text_col=\"context\", out_col=\"context_en\", batch_size=128)\n",
        "\n",
        "#Saving the translated DataFrames to disk format for reuse\n",
        "df_train.to_parquet(\"df_train_translated.parquet\")\n",
        "df_val.to_parquet(\"df_val_translated.parquet\")\n",
        "print(\"Saved: df_train_translated.parquet, df_val_translated.parquet\")\n"
      ]
    },
    {
      "cell_type": "code",
      "execution_count": 25,
      "id": "ff8cda35",
      "metadata": {
        "colab": {
          "base_uri": "https://localhost:8080/"
        },
        "id": "ff8cda35",
        "outputId": "2aeb728d-94db-41c8-d83a-456b9e3a7bf0"
      },
      "outputs": [
        {
          "output_type": "stream",
          "name": "stdout",
          "text": [
            "\n",
            "=== AR → EN (showing 3 samples) ===\n",
            "SRC: متى تدخلت روسيا في  الحرب الأهلية السورية؟\n",
            "EN : When did Russia intervene in the Syrian civil war?\n",
            "----------------------------------------\n",
            "SRC: متى حصلت هنغاريا على استقلالها من النمسا ؟\n",
            "EN : When did Hungary gain its independence from Austria ?\n",
            "----------------------------------------\n",
            "SRC: متى تحالفت فرنسا و بريطانيا العظمى ضد ألمانيا في حرب؟\n",
            "EN : When did France and Great Britain unite against Germany in war?\n",
            "----------------------------------------\n",
            "\n",
            "=== KO → EN (showing 3 samples) ===\n",
            "SRC: 30년 전쟁의 승자는 누구인가?\n",
            "EN : Who is the winner of the Thirty Years' War?\n",
            "----------------------------------------\n",
            "SRC: 엑스선은 누가 발견하였는가?\n",
            "EN : Who discovered X-rays?\n",
            "----------------------------------------\n",
            "SRC: 아테네에서 언제 가장 최근의 올림픽이 올렸나요?\n",
            "EN : When was the last Olympic Games held in Athens?\n",
            "----------------------------------------\n",
            "\n",
            "=== TE → EN (showing 3 samples) ===\n",
            "SRC: ప్రపంచంలో  మొట్టమొదటి దూర విద్య విద్యాలయం ఏ దేశంలో స్థాపించబడింది ?\n",
            "EN : The world's first distance learning university was established in which country?\n",
            "----------------------------------------\n",
            "SRC: 1959వ సంవత్సరంలో భారతదేశ ప్రధాన మంత్రి  ఎవరు?\n",
            "EN : Who was the Prime Minister of India in 1959?\n",
            "----------------------------------------\n",
            "SRC: ఏ కాకతీయ రాజు కర్నూలు జిల్లాను చివరిగా పాలించాడు?\n",
            "EN : Which Kakatiya king was the last to rule the district of Karnool?\n",
            "----------------------------------------\n",
            "\n",
            "=== AR → EN (showing 3 samples) ===\n",
            "SRC: ما هي أولى جامعات فنلندا؟\n",
            "EN : What are the first universities in Finland?\n",
            "----------------------------------------\n",
            "SRC: ما عدد الدول المطلة على بحر البلطيق؟\n",
            "EN : How many countries are on the Baltic Sea?\n",
            "----------------------------------------\n",
            "SRC: اين عاش نيوتن؟\n",
            "EN : Where did Newton live?\n",
            "----------------------------------------\n",
            "\n",
            "=== KO → EN (showing 3 samples) ===\n",
            "SRC: 북유럽의 노르딕 국가는 몇개인가요?\n",
            "EN : How many Nordic countries in northern Europe?\n",
            "----------------------------------------\n",
            "SRC: 1887년 케이스 웨스턴 리저브 대학의 이름은 무엇인가?\n",
            "EN : What was the name of Case Western Reserve University in 1887?\n",
            "----------------------------------------\n",
            "SRC: 옴진리교는 어느 나라에서 시작된 종교인가?\n",
            "EN : In which country did the Omni religion originate?\n",
            "----------------------------------------\n",
            "\n",
            "=== TE → EN (showing 3 samples) ===\n",
            "SRC: ఒరెగాన్ రాష్ట్రంలోని అతిపెద్ద నగరం ఏది ?\n",
            "EN : What is the largest city in the state of Oregon?\n",
            "----------------------------------------\n",
            "SRC: కలరా వ్యాధిని మొదటగా ఏ దేశంలో కనుగొన్నారు ?\n",
            "EN : In which country was cholera first discovered?\n",
            "----------------------------------------\n",
            "SRC: కలరా వ్యాధిని మొదటగా ఏ దేశంలో కనుగొన్నారు ?\n",
            "EN : In which country was cholera first discovered?\n",
            "----------------------------------------\n"
          ]
        }
      ],
      "source": [
        "\n",
        "\n",
        "#Checking translation by sampling original vs. traslated text for each language to verify it\n",
        "\n",
        "def sanity_check_translations(df, text_col=\"question\", trans_col=\"question_en\", langs=LANGS, n=3):\n",
        "    for lg in langs:\n",
        "        subset = df[df[\"lang\"] == lg].dropna(subset=[text_col, trans_col])\n",
        "        if subset.empty:\n",
        "            print(f\"[WARN] No data for lang '{lg}' in {text_col}\")\n",
        "            continue\n",
        "\n",
        "        print(f\"\\n=== {lg.upper()} → EN (showing {n} samples) ===\")\n",
        "        for i, row in subset.head(n).iterrows():\n",
        "            print(\"SRC:\", row[text_col])\n",
        "            print(\"EN :\", row[trans_col])\n",
        "            print(\"-\"*40)\n",
        "#Sanity check for train set\n",
        "sanity_check_translations(df_train, text_col=\"question\", trans_col=\"question_en\", langs=LANGS, n=3)\n",
        "#Sanity check for val set\n",
        "sanity_check_translations(df_val, text_col=\"question\", trans_col=\"question_en\", langs=LANGS, n=3)"
      ]
    },
    {
      "cell_type": "code",
      "execution_count": 29,
      "id": "6u-uk8uni3mA",
      "metadata": {
        "colab": {
          "base_uri": "https://localhost:8080/"
        },
        "id": "6u-uk8uni3mA",
        "outputId": "749297f5-d37f-4029-d186-314156f6a1f3"
      },
      "outputs": [
        {
          "output_type": "stream",
          "name": "stdout",
          "text": [
            "        n_train  n_val  train_acc  val_acc  val_prec  val_rec  val_f1  min_matches  min_ratio\n",
            "Arabic   2558.0  415.0     0.8170   0.7783    0.8839   0.8595  0.8715          1.0        0.3\n",
            "Korean   2422.0  356.0     0.8365   0.7949    0.9521   0.8249  0.8839          1.0        0.3\n",
            "Telugu   1355.0  384.0     0.8738   0.7760    0.8042   0.9313  0.8631          1.0        0.3\n",
            "\n",
            "Confusion matrices:\n",
            "Arabic: {'TP': 312, 'FP': 41, 'FN': 51, 'TN': 11}\n",
            "Korean: {'TP': 278, 'FP': 14, 'FN': 59, 'TN': 5}\n",
            "Telugu: {'TP': 271, 'FP': 66, 'FN': 20, 'TN': 27}\n"
          ]
        }
      ],
      "source": [
        "import pandas as pd\n",
        "import numpy as np\n",
        "import regex as re\n",
        "\n",
        "\n",
        "\n",
        "# Helper that picks which question/context columns to use\n",
        "# (translated ones if available, otherwise original)\n",
        "def pick_cols(df, translate_contexts=False):\n",
        "    q_col = 'question_en' if 'question_en' in df.columns else 'question'\n",
        "    if translate_contexts and 'context_en' in df.columns:\n",
        "        c_col = 'context_en'\n",
        "    else:\n",
        "        c_col = 'context'\n",
        "    return q_col, c_col\n",
        "\n",
        "#Splits text into lowercase word tokens and removes stopwords (containing ponctuation)\n",
        "def tokenize(text: str):\n",
        "    tokens = re.split(r'\\W+', str(text) if text is not None else \"\")\n",
        "    return [t.lower() for t in tokens if t and t.lower() not in STOP_WORDS]\n",
        "\n",
        "\n",
        "# Measures how much the question and context overlap in word content\n",
        "# Used as a simple rule-based \"relatedness\" score\n",
        "def overlap_score_question(question: str, context: str):\n",
        "    q_toks = tokenize(question)\n",
        "    c_toks = tokenize(context)\n",
        "    if not q_toks:\n",
        "        return 0.0, 0\n",
        "    matched = set()\n",
        "    for q in q_toks:\n",
        "        for c in c_toks:\n",
        "            if q == c or (q in c) or (c in q):\n",
        "                matched.add(q)\n",
        "                break\n",
        "    matches = len(matched)\n",
        "    ratio = matches / max(1, len(q_toks))\n",
        "    return ratio, matches\n",
        "  #ratio: percentage of question words found in the context\n",
        "  #matches: total count of matched word\n",
        "#in matches is considers partial matches (\"run\" vs \"running\")\n",
        "\n",
        "\n",
        "#Searches for the best thresholds (word match count and overlap ratio) that gives\n",
        "# the highest accuracy on the training data.\n",
        "def tune_parameters(train_df, q_col, c_col,\n",
        "                    match_grid=(1,2,3,4,5,6,7,8,9,10),\n",
        "                    thr_grid=(0.3,0.4,0.5,0.6,0.7,0.8,0.9)):\n",
        "    data = [(overlap_score_question(getattr(r, q_col), getattr(r, c_col)), int(r.answerable))\n",
        "            for r in train_df.itertuples(index=False)]\n",
        "    best_acc, best_k, best_thr = 0.0, 1, 0.5\n",
        "    for k in match_grid:\n",
        "        for thr in thr_grid:\n",
        "            correct = 0\n",
        "            for (ratio, m), y in data:\n",
        "                pred = int((m >= k) and (ratio >= thr))\n",
        "                correct += (pred == y)\n",
        "            acc = correct / len(data) if data else 0.0\n",
        "            if acc > best_acc:\n",
        "                best_acc, best_k, best_thr = acc, k, thr\n",
        "    return {\"min_match_count\": best_k, \"min_ratio_threshold\": best_thr, \"best_train_acc\": best_acc}\n",
        "\n",
        "#This \"fine-tuning\" is just grid search for rules, not actually model training. It is still rule-based\n",
        "\n",
        "\n",
        "#evaluates how well the rule-based classifier performs on a given dataset.\n",
        "\n",
        "def eval_metrics(df, q_col, c_col, min_matches, ratio_threshold):\n",
        "    y_true, y_pred = [], []\n",
        "    for r in df.itertuples(index=False):\n",
        "        ratio, m = overlap_score_question(getattr(r, q_col), getattr(r, c_col))\n",
        "        y_true.append(int(r.answerable))\n",
        "        y_pred.append(int((m >= min_matches) and (ratio >= ratio_threshold)))\n",
        "    y_true = np.asarray(y_true, int)\n",
        "    y_pred = np.asarray(y_pred, int)\n",
        "\n",
        "    tp = int(((y_pred==1) & (y_true==1)).sum())\n",
        "    fp = int(((y_pred==1) & (y_true==0)).sum())\n",
        "    fn = int(((y_pred==0) & (y_true==1)).sum())\n",
        "    tn = int(((y_pred==0) & (y_true==0)).sum())\n",
        "\n",
        "    acc  = (tp+tn)/max(1, tp+tn+fp+fn)\n",
        "    prec = tp/max(1, tp+fp)\n",
        "    rec  = tp/max(1, tp+fn)\n",
        "    f1   = 0.0 if (prec+rec)==0 else 2*prec*rec/(prec+rec)\n",
        "\n",
        "    return {\n",
        "        \"acc\": round(acc, 4),\n",
        "        \"prec\": round(prec, 4),\n",
        "        \"rec\": round(rec, 4),\n",
        "        \"f1\": round(f1, 4),\n",
        "        \"cm\": {\"TP\": tp, \"FP\": fp, \"FN\": fn, \"TN\": tn}\n",
        "    } #metrics are accuracy, precision, recall, F1, and a confusion matrix.\n",
        "\n",
        "\n",
        "## This function runs the rule-based classifier per language, tunes thresholds on training data,\n",
        "# evaluates on validation, and prints the summary metrics\n",
        "\n",
        "def run_rule_classifier(df_train, df_val, translate_contexts=False):\n",
        "    results = {}\n",
        "    for code, name in [(\"ar\",\"Arabic\"), (\"ko\",\"Korean\"), (\"te\",\"Telugu\")]:\n",
        "        tr = df_train[df_train[\"lang\"] == code].copy()\n",
        "        va = df_val[df_val[\"lang\"] == code].copy()\n",
        "        if tr.empty or va.empty:\n",
        "            results[name] = {\n",
        "                \"train_acc\": None, \"val_acc\": None, \"val_prec\": None, \"val_rec\": None, \"val_f1\": None,\n",
        "                \"min_matches\": None, \"min_ratio\": None, \"cm\": None, \"n_train\": len(tr), \"n_val\": len(va)\n",
        "            }\n",
        "            continue\n",
        "\n",
        "        q_col_tr, c_col_tr = pick_cols(tr, translate_contexts=translate_contexts)\n",
        "        q_col_va, c_col_va = pick_cols(va, translate_contexts=translate_contexts)\n",
        "\n",
        "        params = tune_parameters(tr, q_col_tr, c_col_tr)\n",
        "        metrics_val = eval_metrics(va, q_col_va, c_col_va,\n",
        "                                   params[\"min_match_count\"], params[\"min_ratio_threshold\"])\n",
        "\n",
        "        results[name] = {\n",
        "            \"n_train\": len(tr),\n",
        "            \"n_val\": len(va),\n",
        "            \"train_acc\": round(params[\"best_train_acc\"], 4),\n",
        "            \"val_acc\": metrics_val[\"acc\"],\n",
        "            \"val_prec\": metrics_val[\"prec\"],\n",
        "            \"val_rec\": metrics_val[\"rec\"],\n",
        "            \"val_f1\": metrics_val[\"f1\"],\n",
        "            \"min_matches\": params[\"min_match_count\"],\n",
        "            \"min_ratio\": params[\"min_ratio_threshold\"],\n",
        "            \"cm\": metrics_val[\"cm\"],\n",
        "        }\n",
        "\n",
        "\n",
        "    summary = pd.DataFrame({\n",
        "        lang: {k:v for k,v in res.items() if k not in (\"cm\",)}\n",
        "        for lang, res in results.items()\n",
        "    }).T\n",
        "    print(summary.to_string())\n",
        "\n",
        "    # Also print confusion matrices\n",
        "    print(\"\\nConfusion matrices:\")\n",
        "    for lang, res in results.items():\n",
        "        print(f\"{lang}: {res['cm']}\")\n",
        "\n",
        "    return results\n",
        "\n",
        "\n",
        "_ = run_rule_classifier(df_train, df_val, translate_contexts=False)\n"
      ]
    }
  ],
  "metadata": {
    "accelerator": "GPU",
    "colab": {
      "gpuType": "T4",
      "provenance": []
    },
    "kernelspec": {
      "display_name": "env",
      "language": "python",
      "name": "python3"
    },
    "language_info": {
      "codemirror_mode": {
        "name": "ipython",
        "version": 3
      },
      "file_extension": ".py",
      "mimetype": "text/x-python",
      "name": "python",
      "nbconvert_exporter": "python",
      "pygments_lexer": "ipython3",
      "version": "3.12.7"
    }
  },
  "nbformat": 4,
  "nbformat_minor": 5
}