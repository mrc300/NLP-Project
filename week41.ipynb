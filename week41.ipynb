{
 "cells": [
  {
   "cell_type": "code",
   "execution_count": null,
   "id": "b0154d74-b68b-47c1-ade0-d213ff7eb383",
   "metadata": {},
   "outputs": [],
   "source": []
  },
  {
   "cell_type": "code",
   "execution_count": null,
   "id": "d9af2957-0364-4999-b29f-08e54c0523e5",
   "metadata": {},
   "outputs": [],
   "source": []
  },
  {
   "cell_type": "code",
   "execution_count": 1,
   "id": "70a3cd68-246c-4cb6-8e5f-cd9a4d3bcfff",
   "metadata": {},
   "outputs": [],
   "source": [
    "##IMPORTS\n",
    "from collections import Counter\n",
    "from googletrans import Translator\n",
    "from nltk.corpus import stopwords\n",
    "from nltk import word_tokenize\n",
    "\n",
    "\n",
    "from unidecode import unidecode\n",
    "import torch\n",
    "import pickle\n",
    "import string\n",
    "import nltk\n",
    "import numpy as np \n",
    "import pandas as pd\n",
    "import polars as pl\n",
    "import regex as re\n",
    "from datasets import Dataset\n",
    "from transformers import AutoTokenizer, AutoModel, pipeline\n",
    "from sklearn.metrics import accuracy_score, confusion_matrix, roc_curve, f1_score\n",
    "from sklearn.ensemble import RandomForestClassifier\n",
    "from sklearn.linear_model import LogisticRegression\n",
    "from sklearn.feature_extraction.text import TfidfVectorizer\n",
    "from scipy.sparse import hstack"
   ]
  },
  {
   "cell_type": "code",
   "execution_count": null,
   "id": "1ca71776-7c20-432b-b0e8-69399bffea52",
   "metadata": {},
   "outputs": [],
   "source": []
  },
  {
   "cell_type": "code",
   "execution_count": 2,
   "id": "ea627e01-e582-4ce8-ac1d-1beeaa95fe38",
   "metadata": {},
   "outputs": [],
   "source": [
    "# ---------------------------\n",
    "# 0) Daten laden (wie bei dir)\n",
    "# ---------------------------\n",
    "langs  = [\"ko\"]\n",
    "splits = {'train': 'train.parquet', 'validation': 'validation.parquet', 'test': 'test.parquet'}\n",
    "df_train = pd.read_parquet(\"hf://datasets/coastalcph/tydi_xor_rc/\" + splits[\"train\"])\n",
    "df_val   = pd.read_parquet(\"hf://datasets/coastalcph/tydi_xor_rc/\" + splits[\"validation\"])\n",
    "df_test = pd.read_json('week41qa.json') #pd.read_parquet(\"hf://datasets/coastalcph/tydi_xor_rc/\" + splits[\"test\"])\n",
    "df_train = df_train[df_train.lang.isin(langs)].reset_index(drop=True)\n",
    "df_val   = df_val[df_val.lang.isin(langs)].reset_index(drop=True)\n",
    "\n",
    "train_ds = Dataset.from_pandas(df_train[[\"lang\",\"question\",\"context\",\"answerable\",\"answer_start\",\"answer\"]], preserve_index=False)\n",
    "val_ds   = Dataset.from_pandas(df_val[  [\"lang\",\"question\",\"context\",\"answerable\",\"answer_start\",\"answer\"]], preserve_index=False)\n",
    "test_ds   = Dataset.from_pandas(df_test[  [\"lang\",\"question\",\"context\",\"answerable\",\"answer_start\",\"answer\"]], preserve_index=False)"
   ]
  },
  {
   "cell_type": "markdown",
   "id": "455b53ce-b4fa-4d52-a3a4-8b15538cd43b",
   "metadata": {},
   "source": [
    "### Week 36 (Part 1)"
   ]
  },
  {
   "cell_type": "code",
   "execution_count": null,
   "id": "3bfd9929-089e-4447-8b97-490ebcfb2338",
   "metadata": {},
   "outputs": [],
   "source": []
  },
  {
   "cell_type": "code",
   "execution_count": 6,
   "id": "adab86ea-df09-46b0-bad6-d64463202a84",
   "metadata": {},
   "outputs": [
    {
     "name": "stdout",
     "output_type": "stream",
     "text": [
      "Korean — TRAIN punctuation (char -> count):\n",
      "[('?', 2420), (',', 23), ('.', 16), (\"'\", 6), ('\"', 6), ('-', 5), (':', 2), ('/', 1), ('\\\\', 1), ('(', 1), (')', 1)]\n",
      "Korean — VAL punctuation (char -> count):\n",
      "[('?', 356), ('.', 9), (',', 3), ('-', 1)]\n",
      "Korean — TEST punctuation (char -> count):\n",
      "[('?', 356), ('.', 9), (',', 3), ('-', 1)]\n",
      "\n",
      "Korean — TRAIN total words: 11858\n",
      "Korean — VAL total words: 1736\n",
      "Korean — TEST total words: 195\n",
      "\n",
      "Korean — numeric tokens (train): 9\n",
      "Korean — numeric tokens (val): 1\n",
      "Korean — numeric tokens (test): 0\n",
      "\n",
      "Korean — hyphenated tokens (train): 5\n",
      "Korean — hyphenated tokens (val): 1\n",
      "Korean — hyphenated tokens (test): 0\n"
     ]
    }
   ],
   "source": [
    "## Each language total words (not counting punctuation)\n",
    "# tokenizer: split on \\W+ (non-word chars); protect hyphens between letters/digits\n",
    "# safeguard: build punctuation set from training+validation data, do not count these tokens as well\n",
    "# KOREAN\n",
    "ko_train_q = df_train[df_train[\"lang\"] == \"ko\"][\"question\"].astype(str)\n",
    "ko_val_q   = df_val[df_val[\"lang\"] == \"ko\"][\"question\"].astype(str)\n",
    "ko_test_q   = df_test[df_test[\"lang\"] == \"ko\"][\"question\"].astype(str)\n",
    "\n",
    "PUNCT_RE = re.compile(r\"\\p{P}\", re.UNICODE)\n",
    "SPLIT_RE = re.compile(r\"\\W+\", re.UNICODE)          # tokenizer\n",
    "\n",
    "\n",
    "ko_train_punct = Counter(ch for q in ko_train_q for ch in PUNCT_RE.findall(q))\n",
    "ko_val_punct   = Counter(ch for q in ko_val_q for ch in PUNCT_RE.findall(q))\n",
    "ko_test_punct   = Counter(ch for q in ko_val_q for ch in PUNCT_RE.findall(q))\n",
    "\n",
    "print(\"Korean — TRAIN punctuation (char -> count):\")\n",
    "print(ko_train_punct.most_common())\n",
    "print(\"Korean — VAL punctuation (char -> count):\")\n",
    "print(ko_val_punct.most_common())\n",
    "print(\"Korean — TEST punctuation (char -> count):\")\n",
    "print(ko_test_punct.most_common())\n",
    "\n",
    "HY = \"HYPHENJOIN\"                                  # placeholder for protected hyphens\n",
    "PROTECT_HYPHEN = re.compile(r\"(?<=[\\p{L}\\p{N}])-(?=[\\p{L}\\p{N}])\", re.UNICODE)  # hyphen between letters/digits\n",
    "\n",
    "# KOREAN\n",
    "ko_train_q = df_train[df_train[\"lang\"] == \"ko\"][\"question\"].astype(str)\n",
    "ko_val_q   = df_val[df_val[\"lang\"] == \"ko\"][\"question\"].astype(str)\n",
    "ko_test_q   = df_test[df_test[\"lang\"] == \"ko\"][\"question\"].astype(str)\n",
    "\n",
    "ko_punct_set = set(ch for q in pd.concat([ko_train_q, ko_val_q]) for ch in PUNCT_RE.findall(q))\n",
    "\n",
    "ko_train_tokens = []\n",
    "for q in ko_train_q:\n",
    "    q2 = PROTECT_HYPHEN.sub(HY, q)\n",
    "    toks = [t.replace(HY, \"-\") for t in SPLIT_RE.split(q2) if t and t not in ko_punct_set]\n",
    "    ko_train_tokens.extend(toks)\n",
    "\n",
    "ko_val_tokens = []\n",
    "for q in ko_val_q:\n",
    "    q2 = PROTECT_HYPHEN.sub(HY, q)\n",
    "    toks = [t.replace(HY, \"-\") for t in SPLIT_RE.split(q2) if t and t not in ko_punct_set]\n",
    "    ko_val_tokens.extend(toks)\n",
    "\n",
    "ko_test_tokens = []\n",
    "for q in ko_test_q:\n",
    "    q2 = PROTECT_HYPHEN.sub(HY, q)\n",
    "    toks = [t.replace(HY, \"-\") for t in SPLIT_RE.split(q2) if t and t not in ko_punct_set]\n",
    "    ko_test_tokens.extend(toks)\n",
    "\n",
    "print()\n",
    "print(\"Korean — TRAIN total words:\", len(ko_train_tokens))\n",
    "print(\"Korean — VAL total words:\",   len(ko_val_tokens))\n",
    "print(\"Korean — TEST total words:\",   len(ko_test_tokens))\n",
    "\n",
    "# ---- After tokenization for Korean ----\n",
    "ko_numbers_train = sum(1 for t in ko_train_tokens if t.isdigit())\n",
    "ko_numbers_val   = sum(1 for t in ko_val_tokens if t.isdigit())\n",
    "ko_numbers_test   = sum(1 for t in ko_test_tokens if t.isdigit())\n",
    "\n",
    "ko_hyphen_train = sum(1 for t in ko_train_tokens if \"-\" in t)\n",
    "ko_hyphen_val   = sum(1 for t in ko_val_tokens if \"-\" in t)\n",
    "ko_hyphen_test   = sum(1 for t in ko_test_tokens if \"-\" in t)\n",
    "\n",
    "print()\n",
    "print(\"Korean — numeric tokens (train):\", ko_numbers_train)\n",
    "print(\"Korean — numeric tokens (val):\",   ko_numbers_val)\n",
    "print(\"Korean — numeric tokens (test):\",   ko_numbers_test)\n",
    "print()\n",
    "print(\"Korean — hyphenated tokens (train):\", ko_hyphen_train)\n",
    "print(\"Korean — hyphenated tokens (val):\",   ko_hyphen_val)\n",
    "print(\"Korean — hyphenated tokens (test):\",   ko_hyphen_test)"
   ]
  },
  {
   "cell_type": "code",
   "execution_count": 7,
   "id": "270dfa4b-d4f9-4729-b5bd-f4dc04972685",
   "metadata": {},
   "outputs": [
    {
     "name": "stdout",
     "output_type": "stream",
     "text": [
      "Split Language  Total  Answerable  Unanswerable  Answerable Ratio\n",
      "train       ko   2422        2359            63          0.973988\n",
      "  val       ko    356         337            19          0.946629\n",
      " test       ko     45          36             9          0.800000\n"
     ]
    }
   ],
   "source": [
    "# Stats about answerable vs unanswerable questions\n",
    "\n",
    "# Define languages and splits\n",
    "\n",
    "split_dfs = {\n",
    "    \"train\": df_train,\n",
    "    \"val\":   df_val,\n",
    "    \"test\":  df_test\n",
    "}\n",
    "\n",
    "\n",
    "rows = []\n",
    "for split_name, df in split_dfs.items():\n",
    "    for lang in langs:\n",
    "        total = df[df[\"lang\"] == lang].shape[0]\n",
    "        ans   = df[(df[\"lang\"] == lang) & (df[\"answerable\"])].shape[0]\n",
    "        unans = total - ans\n",
    "        ratio = ans / total if total > 0 else 0\n",
    "        rows.append([split_name, lang, total, ans, unans, ratio])\n",
    "\n",
    "# Create summary DataFrame\n",
    "summary = pd.DataFrame(rows, columns=[\"Split\", \"Language\", \"Total\", \"Answerable\", \"Unanswerable\", \"Answerable Ratio\"])\n",
    "print(summary.to_string(index=False))\n"
   ]
  },
  {
   "cell_type": "markdown",
   "id": "53a3f6a6-ac40-434f-b7c2-037cc769bb4b",
   "metadata": {},
   "source": [
    "#### Week 36 - Rule-based classifier"
   ]
  },
  {
   "cell_type": "code",
   "execution_count": 10,
   "id": "d609bb9f-db9e-415c-8073-ff7c8e3e5a8d",
   "metadata": {},
   "outputs": [
    {
     "name": "stdout",
     "output_type": "stream",
     "text": [
      "PyTorch: 2.7.1+cu118\n",
      "CUDA available: True\n",
      "Using device idx for HF pipeline: 0\n"
     ]
    },
    {
     "name": "stderr",
     "output_type": "stream",
     "text": [
      "Device set to use cuda:0\n"
     ]
    }
   ],
   "source": [
    "nltk.download(\"stopwords\", quiet=True)\n",
    "# Needed for word_tokenize\n",
    "try:\n",
    "    nltk.download(\"punkt\", quiet=True)\n",
    "    # Some NLTK builds need this extra package\n",
    "    nltk.download(\"punkt_tab\", quiet=True)\n",
    "except Exception:\n",
    "    pass\n",
    "\n",
    "from nltk.tokenize import word_tokenize\n",
    "from nltk.corpus import stopwords\n",
    "\n",
    "EN_STOP = set(stopwords.words('english')) | set(string.punctuation)\n",
    "\n",
    "# If you haven't already created these:\n",
    "# df_train = pd.read_csv(\"path/to/train.csv\")  # or load however you have it\n",
    "# df_val   = pd.read_csv(\"path/to/val.csv\")\n",
    "\n",
    "# Languages you care about\n",
    "LANGS = [\"ko\"]\n",
    "\n",
    "print(\"PyTorch:\", torch.__version__)\n",
    "print(\"CUDA available:\", torch.cuda.is_available())\n",
    "DEVICE = 0 if torch.cuda.is_available() else -1\n",
    "print(\"Using device idx for HF pipeline:\", DEVICE)\n",
    "\n",
    "MODEL_ID = \"facebook/nllb-200-distilled-600M\"\n",
    "SRC_CODES = {\"ar\": \"arb_Arab\", \"ko\": \"kor_Hang\", \"te\": \"tel_Telu\"}\n",
    "TGT_CODE = \"eng_Latn\"\n",
    "\n",
    "# One translator pipeline reused for all batches\n",
    "nllb = pipeline(\"translation\", model=MODEL_ID, tokenizer=MODEL_ID, device=DEVICE)"
   ]
  },
  {
   "cell_type": "code",
   "execution_count": 11,
   "id": "f86acfe4-718b-4ab4-8e6f-4f768e686736",
   "metadata": {},
   "outputs": [],
   "source": [
    "import pandas as pd\n",
    "import numpy as np\n",
    "import string\n",
    "import regex as re\n",
    "import nltk\n",
    "from nltk.corpus import stopwords\n",
    "from tqdm import tqdm\n",
    "\n",
    "# Setup\n",
    "nltk.download('stopwords', quiet=True)\n",
    "nltk.download('punkt', quiet=True)\n",
    "STOP_WORDS = set(stopwords.words('english')) | set(string.punctuation)\n",
    "\n",
    "# Language-specific mapping\n",
    "SRC_CODES = {'ko': 'kor_Hang'}\n",
    "TGT_CODE = 'eng_Latn'\n",
    "\n",
    "def translate_list_pipe(texts, src_lang='ko', batch_size=128, max_length=320):\n",
    "    outputs = []\n",
    "    for i in tqdm(range(0, len(texts), batch_size), desc=\"Translating ko->EN\"):\n",
    "        batch = [str(x) if isinstance(x, str) else \"\" for x in texts[i:i+batch_size]]\n",
    "        try:\n",
    "            preds = nllb(batch, src_lang=SRC_CODES[src_lang], tgt_lang=TGT_CODE,\n",
    "                         truncation=True, max_length=max_length)\n",
    "            outputs.extend([p.get(\"translation_text\", \"\") for p in preds])\n",
    "        except Exception as e:\n",
    "            print(f\"[WARN] Batch {i}:{i+len(batch)} failed: {type(e).__name__}: {e}\")\n",
    "            outputs.extend([\"\"] * len(batch))\n",
    "    return outputs\n",
    "\n",
    "def ensure_column(df, col):\n",
    "    if col not in df.columns:\n",
    "        df[col] = np.nan\n",
    "\n",
    "def cache_korean_translation(df, text_col=\"question\", out_col=\"question_en\", batch_size=128):\n",
    "    ensure_column(df, out_col)\n",
    "    mask = (df[\"lang\"] == \"ko\") & (df[out_col].isna() | df[out_col].astype(str).str.strip().eq(\"\"))\n",
    "    if mask.any():\n",
    "        print(f\"Translating {mask.sum()} Korean questions...\")\n",
    "        texts = df.loc[mask, text_col].astype(str).tolist()\n",
    "        df.loc[mask, out_col] = translate_list_pipe(texts)\n",
    "\n",
    "def tokenize(text):\n",
    "    tokens = re.split(r'\\W+', str(text))\n",
    "    return [t.lower() for t in tokens if t and t.lower() not in STOP_WORDS]\n",
    "\n",
    "def overlap_score(question, context):\n",
    "    q_toks = tokenize(question)\n",
    "    c_toks = tokenize(context)\n",
    "    matched = set(q for q in q_toks if any(q == c or q in c or c in q for c in c_toks))\n",
    "    return len(matched) / max(1, len(q_toks)), len(matched)\n",
    "\n",
    "def tune_parameters(df, q_col, c_col, match_grid=range(1, 11), thr_grid=[0.3, 0.4, 0.5, 0.6, 0.7]):\n",
    "    data = [(overlap_score(r[q_col], r[c_col]), int(r.answerable)) for _, r in df.iterrows()]\n",
    "    best = max(((m, t, sum(int((m_ >= m) and (r_ >= t)) == y for (r_, m_), y in data))\n",
    "                for m in match_grid for t in thr_grid), key=lambda x: x[2])\n",
    "    return {\"min_match_count\": best[0], \"min_ratio_threshold\": best[1], \"best_train_acc\": best[2] / len(data)}\n",
    "\n",
    "def eval_metrics(df, q_col, c_col, min_m, thr):\n",
    "    y_true, y_pred = [], []\n",
    "    for _, r in df.iterrows():\n",
    "        ratio, m = overlap_score(r[q_col], r[c_col])\n",
    "        y_true.append(int(r.answerable))\n",
    "        y_pred.append(int((m >= min_m) and (ratio >= thr)))\n",
    "    y_true, y_pred = np.array(y_true), np.array(y_pred)\n",
    "    tp = int(((y_pred==1) & (y_true==1)).sum())\n",
    "    fp = int(((y_pred==1) & (y_true==0)).sum())\n",
    "    fn = int(((y_pred==0) & (y_true==1)).sum())\n",
    "    tn = int(((y_pred==0) & (y_true==0)).sum())\n",
    "    acc  = (tp+tn)/max(1, tp+tn+fp+fn)\n",
    "    prec = tp/max(1, tp+fp)\n",
    "    rec  = tp/max(1, tp+fn)\n",
    "    f1   = 0.0 if (prec+rec)==0 else 2*prec*rec/(prec+rec)\n",
    "    return {\"acc\": acc, \"prec\": prec, \"rec\": rec, \"f1\": f1, \"cm\": {\"TP\":tp, \"FP\":fp, \"FN\":fn, \"TN\":tn}}\n",
    "\n",
    "def run_korean_classifier(df_train, df_val):\n",
    "    tr = df_train[df_train[\"lang\"] == \"ko\"].copy()\n",
    "    va = df_val[df_val[\"lang\"] == \"ko\"].copy()\n",
    "    if tr.empty or va.empty:\n",
    "        print(\"No Korean data found.\")\n",
    "        return\n",
    "\n",
    "    cache_korean_translation(tr)\n",
    "    cache_korean_translation(va)\n",
    "\n",
    "    q_col, c_col = \"question_en\", \"context\"\n",
    "    params = tune_parameters(tr, q_col, c_col)\n",
    "    metrics = eval_metrics(va, q_col, c_col, params[\"min_match_count\"], params[\"min_ratio_threshold\"])\n",
    "\n",
    "    print(\"\\n=== Korean Rule-Based Classifier Results ===\")\n",
    "    print(f\"Train Accuracy: {params['best_train_acc']:.4f}\")\n",
    "    print(f\"Val Accuracy  : {metrics['acc']:.4f}\")\n",
    "    print(f\"Precision     : {metrics['prec']:.4f}\")\n",
    "    print(f\"Recall        : {metrics['rec']:.4f}\")\n",
    "    print(f\"F1 Score      : {metrics['f1']:.4f}\")\n",
    "    print(f\"Confusion     : {metrics['cm']}\")\n",
    "\n",
    "# Call with your DataFrames\n",
    "# run_korean_classifier(df_train, df_val)\n"
   ]
  },
  {
   "cell_type": "code",
   "execution_count": 12,
   "id": "9d7b3bff-2979-4574-897e-9e7ce0dfef2f",
   "metadata": {},
   "outputs": [
    {
     "name": "stdout",
     "output_type": "stream",
     "text": [
      "Translating 2422 Korean questions...\n"
     ]
    },
    {
     "name": "stderr",
     "output_type": "stream",
     "text": [
      "You seem to be using the pipelines sequentially on GPU. In order to maximize efficiency please use a dataset 51.24s/it]\n",
      "Translating ko->EN: 100%|██████████████████████████████████████████████████████████████| 19/19 [15:45<00:00, 49.76s/it]\n",
      "C:\\Users\\Augus\\AppData\\Local\\Temp\\ipykernel_15396\\3879078599.py:41: FutureWarning: Setting an item of incompatible dtype is deprecated and will raise an error in a future version of pandas. Value '[\"Who is the winner of the Thirty Years' War?\", 'Who discovered X-rays?', 'When was the last Olympic Games held in Athens?', \"What's the oldest broadcaster in the world?\", \"Where's the Palestinian capital?\", 'What is the most abundant star group of galaxies?', \"What's the largest wind power plant in the world?\", \"What's Louis XV's real name?\", 'Where was the first company to launch color television?', 'Who was the first emperor of the Mauryan Empire?', 'What was the relationship between Hitler and Nichol?', 'What elements in the periodic table does silicon consist of?', 'When did the one-day celebration end?', \"What's the biggest exotic franchise in the world?\", 'When did German Prime Minister Merkel become Prime Minister?', \"Where's the capital of England?\", 'Where was the first country to start a nuclear power plant?', 'Does the moon glow by itself?', 'How many times Earth is the moon?', 'What was the most popular Alfred Hitchcock movie of 2019?', 'In 2018, how much did Japan spend on defense in the world?', \"Where's the publisher on the origins of species?\", \"Where is the enemy of the People's Liberation Army?\", 'What is the last book of the Bible?', 'What was the first page on Wikipedia?', \"What's the most densely populated city in Australia?\", \"What's the oldest online game in the world?\", 'As of May 2019, how many people live in Falkland?', 'What was the highest rated program in the history of ABC in the United States as of 2019?', 'What year was Doctor Who first released?', 'How long is it from Italy to Austria?', \"What's the most densely populated area in China?\", 'Where was the first country to have a stealth machine?', 'What is the first book of the Bible?', \"Who's the greatest pianist in history?\", 'What is the fastest state of thermal voltage among gases, liquids, solids?', 'Was Rome victorious in the Phoenician War?', \"What's the largest city in Oklahoma?\", \"What's the population of West Virginia?\", 'Where is Chinara now?', \"Why was the People's Republic of China conquering Outer Mongolia?\", 'When was the first car built in Korea?', 'When was Doctor Who first broadcast?', \"When was West Japan's passenger railway founded?\", \"When was Mexico's independence granted?\", 'Who was the fifth president of the United States?', 'When did King Louis XVI become king?', 'How far is the moon from Earth?', 'How much is the Indonesian currency?', \"What is San Francisco's gift?\", 'Which region is Ganto now?', 'How many countries are Christian?', \"Who is Germany's 2019 leader?\", 'Who is the current president of China?', 'When did the history of Japanese professional football begin?', 'What is the currency used in France?', \"In which country was the world's first theater built?\", 'What is the language of Iran?', 'What are the advantages of joining the Schengen Agreement?', 'What is the largest city in Germany?', 'Which country produces the most biofuels?', 'When did Poland join the European Union?', 'How old was Cleopatra of Egypt?', 'How many children did Gandhi have?', 'How many countries speak Chinese as their mother tongue?', 'When was Wikipedia founded?', 'Where is the largest city in England?', \"Who is China's leader in 2018?\", 'When was beer first discovered?', 'Who was the first person to develop Wi-Fi?', 'When did Manzara collapse?', 'In what year did Mormonism begin?', 'Who was the president of China in 2002?', 'What is the strongest planet in gravity?', 'How many basketball teams are in the NBA?', 'When did Egypt become an independent constitutional monarchy?', 'Which country has the highest GDP in Asia in 2018?', 'How many states are there in the southern United States?', \"Who's the CEO of Apple in 2019?\", 'Where is the largest city in Russia?', 'What is the largest state in Germany?', \"Which country's cultural legend is Horus?\", 'What is the largest enterprise in Korea?', 'Is it between 10 and 1,000 times the radius?', 'Who is the next president after George Washington?', 'How many nuclear power plants are there in Korea?', 'Where was the first watch invented?', \"Where's the capital of Poland?\", \"What was Toyota's best-selling car for a year in 2018?\", 'Who hit the most home runs in a single year in the majors in 2017?', \"Where's the capital of Scotland?\", 'What is the religion of film director Steven Spielberg?', 'Who was the first person to perform Noh?', 'As of May 2019, how many universities are there in Germany?', 'Who invented the first space rocket?', \"Where's the oldest guitar brand in existence?\", \"As of May 2019, how long is the Korean military's service life?\", 'Where does the Pope live?', 'How much property damage was done in the Philippines in the 2011 hurricane?', 'When did the Cold War begin?', 'What country is Normandy in?', \"Where's the capital of Thailand?\", 'Which continent does Tunisia belong to?', 'How many years are we talking about, exactly, in the late Bronze Age?', 'When was the first Alien movie released?', \"Who is the longest reigning king in China's history?\", 'How many countries are there in Eastern Europe?', 'What is the ranking in the UK as of 2019?', \"What's the biggest greenhouse in Japan?\", 'Can crocodiles live on both land and water?', \"What's the name of Singapore's new park?\", 'Which country won the Battle of the Bulge?', 'What is the population of South America?', 'What caused the Yugoslav civil war?', 'What is a neutron?', 'Can mushrooms heal wounds?', 'After the American Declaration of Independence, what events led to full independence?', 'Who was the first leader of the Soviet Union?', 'What was the first Olympic Games?', 'Who is the founder of Oxford University?', \"What's the GDP of space Pakistan?\", 'What is the largest battle in history?', \"What's the highest bidder in Korea?\", 'What is the largest river in England?', 'Who was the first biologist to win the Nobel Prize?', 'What is the oldest settlement in Korea?', 'Who was the first to say the appalling phrase in the unknown?', 'In what country did puritanism begin?', 'Who was the first person to propagate communism?', 'What was the first Olympic Games?', 'What is the largest city in Poland?', \"When was the German People's Democratic Party founded?\", 'How many breweries are there in Korea?', 'When did Chinnara perish?', 'When did Nixon die?', 'When did baseball become the first Olympic sport?', 'How many people live in South Korea in 2019?', 'Which country won baseball at the Beijing Olympics?', \"What's the biggest post office in Korea?\", 'How many countries are legalized for marijuana?', \"What's the highest percentage of women in the United States?\", 'Which state is the White House located in?', 'Who was the first person to develop solar energy?', 'What is the historical record of the people of Israel?', \"When did Kim Jong-un's rule in North Korea begin?\", \"Who's the most tattooed person in the world?\", 'In which country was the first minimum wage system introduced?', 'When did magic develop in Egypt?', 'Where is the capital of the Republic of Albania?', 'Who was the longest-serving emperor in history?', \"Who was India's first president?\", \"As of May 2019, what's the most used social media?\", 'Which country in Europe joined the European Union most recently?', \"Where's the year Doctor Who first aired?\", 'Does Major League Baseball mean the top professional baseball leagues in the United States and Canada?', 'Who is the current president of Russia?', \"What's the longest beach in China?\", \"When is Nixon's birthday?\", 'How many countries make rice their main food?', 'Who invented the method of heuristic discovery?', \"What's the oldest existing aircraft in the world in 2018?\", 'What was the highest rated episode of Doctor Who?', 'Who invented the sensitivity measurement device?', 'Who is the youngest criminal in U.S. history to be sentenced to life in prison?', 'What is the largest river in China?', \"Where is Putin's hometown?\", 'Where is the Pope?', \"When was Brazil's giant statue made?\", 'What is the largest church in Italy?', 'When did blockchain technology come into being?', 'Where are the Russian forest wolf habitats?', \"What is the world's largest population of Buddhist countries?\", 'What is the largest country in the world?', 'When did the First Industrial Revolution occur?', 'How many people live in Sumer?', 'Who is the founder of Intel?', 'What is the oldest religion in history?', 'Who invented blockchain technology?', \"What's the national anthem and admission form for Seoul in 2018?\", \"What's the hottest city in Australia?\", 'When was the Social Democratic Party of Germany founded?', 'Who is the leader of the United States in 2019?', \"Where is Steven Ethelston's hometown?\", \"Where is the world's largest dinosaur fossil record?\", 'What country has the highest number of same-sex marriages?', 'What about mammals that lay eggs?', \"What's with armored personnel carrier disease?\", 'What state is San Francisco in?', 'As of May 2019, what is the minimum working time in Korea?', 'When was Nintendo first launched?', 'What is the largest city in Egypt?', 'When did the Soviet Union collapse?', 'Where was the first country to play baseball?', 'Who invented rock music?', \"Where's the museum that exhibits the fossils of the tricaratops?\", 'What is the highest mountain in Austria?', 'How do you spell Abraham in Arabic?', 'What is the most densely populated state in China?', 'Who is the founder of Microsoft?', 'When did the Incheon landings begin?', 'When did France join the OECD?', \"Where is the Shanghai Prosecutor's Office in China?\", 'What was Hungary called in ancient times?', \"Where's the biggest-selling game company?\", 'When did Seoul become the capital of the Republic of Korea?', 'Who was the first king of the Ottoman Empire?', 'What is the cure that saved the most lives in history?', \"What's the highest rated episode of Doctor Who?\", 'What is the highest mountain in Spain?', 'Who was the first president of the United States?', \"Where's the biggest art museum in the world?\", 'How many people died in the Battle of Normandy?', 'What was the best-selling drink in Japan in 2018?', \"Who's the leader of the Philippines in 2019?\", 'When did Peter Brian Gabriel release his first album?', 'How much does China currently hold in U.S. national debt?', \"What's the biggest grocery store in the world in 2019?\", \"Where was the world's first railroad built?\", 'Who is the oldest person in history to lead a country until 2019?', \"Who's the longest-tenured songwriter on the Billboard charts?\", 'What is the largest city in the Brazilian state of Paraná?', 'By 2019, who was the youngest pope in history?', \"Who is Myanmar's leader in 2019?\", 'What was the first satellite in history to orbit?', \"Where's the university that Harold Raswell graduated from?\", 'When did the Cold War end?', 'How many lakes are there in England?', \"What's the oldest institute in Korea?\", 'Where is the oldest baseball team in Japan?', 'What is the status of indigenous peoples in South Korea?', \"What's the oldest institute in Korea?\", 'What is the country of the French First Republic?', 'How long has France ruled Cochinchina as a colony?', 'What is the highest mountain in Switzerland?', \"When did rock 'n' roll become a popular music genre in the United States?\", 'When did Tananas perish?', 'As of 2019, what are the most diversified companies in Malaysia?', 'When did Tangara perish?', \"What is Asia's largest international airport?\", 'What country is Russia the largest in the world?', 'What is the language of Tunisia?', 'Where is the U.S. Supreme Court building?', 'What was the first satellite launched by humans?', 'Where is the coldest city in Russia?', 'How big is Romania?', 'What is the official language of Finland?', 'How many pages do I have?', 'How much gold was collected during the IMF fundraising campaign?', \"What is Wayne Mark Looney's number?\", 'Will the Chinese philosopher Jin ever die?', 'Which continent does Myanmar belong to?', 'How many people were on the crew of Apollo 15?', 'When did the Aztec civilization begin?', 'Who built the First Church?', \"Who's the third producer of Tower Gear?\", 'How many Nordic countries in northern Europe?', 'Which country imported the most semiconductors in 2018?', 'How long is the reign of Henry VIII?', 'When did Brusilov die?', 'What was the first game released by Blizzard?', \"Where's the company that made the first laptop?\", 'What is the legal maximum working time in Korea?', 'What was the initial capital of the Nintendo company?', 'When will the French Revolution end?', 'In which country did Hitler die?', \"What's the biggest rock in Korea?\", 'How many songs did Elvis Presley write in 2019?', 'When did Marx die?', 'Does Big Bang fall into the category of cosmology?', 'Who designed the SpongeBob character?', 'In what country did Christianity begin?', 'What year did Bitcoin start?', 'Who was the first king of the Frankish kingdom?', 'How many people in Finland are the largest in the world?', 'When did the Republic of Korea declare its independence?', 'Who was the first king of the Frankish kingdom?', 'Who was the leader of Italy in 1943?', 'When was the first car developed?', 'What is the duration of the enforcement order due to default?', 'Is aluminum a reactive factor?', 'When did Elizabeth I ascend to the throne?', 'What is the largest wine-producing region in Italy?', 'What year was Jesus born?', \"What's the most commercially successful movie in South Korea as of 2019?\", 'What are the specialties of Greece?', \"When were New York's municipalities merged into New York?\", 'When was the Soviet Union founded?', 'Where did baseball start?', 'Who was the first king of the Kingdom of France?', \"What's the biggest city in England?\", 'How many countries have nuclear weapons as of 2019?', 'What is the average suicide rate in Japan?', 'Will the philosopher Kierkegaard ever die?', 'Who invented the term liberalism?', \"Where's the lowest gravity on Earth?\", 'What is the most prestigious position in the Catholic Church?', 'Where is the first country in the world to invent a tank?', \"Was Sevastopol's first expedition successful?\", 'Who was the former literary president?', \"What's the lowest melting point?\", \"What's the biggest bus in America?\", \"What's the difference between renewable energy and non-renewable energy?\", 'Did dinosaurs really exist?', 'What is the origin of the Kingdom of Baluia?', 'What was the cause of the Civil War?', 'What is the origin of astrology?', 'Who is the founder of anarchism?', \"What's the distance from the Sun to Jupiter?\", 'How does glucose affect the human body?', 'How many islands are there in Japan?', 'Who is the first king of God?', 'Where is Muhammad Tajimahal in India?', 'When was the American Baseball Hall of Fame founded?', \"What's the closest star to Earth?\", 'How old was Plato when he died?', 'When did Jan Hus become a priest?', \"When was Australia's capital established?\", 'Who invented the first collective circuit?', 'How many battles has Finland fought in its history?', \"What's the size of South Asia?\", 'When did the Edo Period end?', 'When will the Edo period end?', 'When did the Anglican Church of Korea first begin?', 'Where did Paul meet Jesus?', \"In the Republic of Korea's Patent Office, is it commonly referred to as intellectual property?\", 'Who was the first king of the Song Dynasty of China?', 'How many nuclear weapons does North Korea have?', 'How many countries are there on earth?', \"Where's the planner with the most artists in Japan?\", 'When does the U.S. Constitution take effect?', 'Which country had the most warships in 2019?', 'What do you say in English about greenhouse gases?', 'Can the polio virus be transmitted through humans?', \"What's the biggest storm in the world?\", 'Where is the capital of Bulgaria?', 'Where was the first country to develop tanks?', 'Who invented Amazon?', 'When did the Beatles debut in England?', 'Who was the youngest person to give birth in 2018?', 'When did Singapore build the Jewel Airport?', 'In what years did China become a communist state?', 'What is the largest star on Earth?', 'Where is the largest population of Buddhists in Asia?', 'Who was the spiritual leader during the dictatorship?', 'Where is Ethiopia?', 'What city is Oxford Merton University in?', 'What country produces the most stainless steel?', \"When's the best time to be in Mecca?\", 'What is the largest constellation observed on Earth?', 'Who was the second president of the United States?', \"What was the world's first online shopping mall?\", 'What is the state of the Republic of Serbia?', 'What is the definition of achievement goal theory?', \"What's the highest rated episode of the entire series after Doctor Who?\", \"When did Spinoza's father die?\", 'What is the largest number of women in Korea?', 'What year was PlayStation 1 released?', 'What layers do clouds form in?', \"What's Intel's total revenue in 2018?\", 'What is the largest number of women in Korea?', 'Does the IIb supernova have a weak hydrogen line in the initial spectrum?', 'What is the coat of arms of the Republic of Venice?', 'How many Arabic numbers are there?', 'In what year did DesineSide launch?', 'When was the electric guitar invented?', 'Where is the oldest football team in Germany?', 'What is the highest incidence of gang rape among high school students in Milwaukee?', 'Why did the Western powers demand that the ships be sealed?', 'When did ancient Greece collapse?', 'When was the ship built?', \"What's the biggest storm in the world by 2019?\", \"What's the biggest storm in the world by 2019?\", 'When did the Japanese professional football league start?', 'Where is the oldest church in Germany?', 'Who was the leader of the Netherlands during the Dutch War of Independence?', \"Who is the current president of Italy's Supreme Court?\", 'When was the Xbox One first released?', 'How many Olympic medals did Germany win by 2019?', \"What was Korea's first station?\", 'What language does the Maya speak?', 'How many countries can you go to directly from Korea?', \"What was Japan's first era?\", 'Who was the first king of Egypt?', 'What was the first electronic instrument ever made?', 'How many presidents have been assassinated in the United States?', \"What was George Orwell's reason for setting up a livestock farm?\", \"What's the most gravitational force in the world?\", 'What was the best-selling comic book in Japan in 2018?', 'When did the Korean War end?', 'Who was the first king of ancient Egyptian civilization?', 'What are the most reactive metals?', \"Who's been in the most movies in Hollywood?\", 'Who was the first person to compose the Bible?', 'Where was the sect that first started conscientious objection?', 'What is the population of Bangladesh in 2018?', 'What word is DNA short for?', 'Which company made Star Curvy?', \"What's the longest snake in the world?\", \"What's the distance from Jupiter to the Sun?\", 'In which country was the World Council of Churches formed?', 'When did the Jin Dynasty fall?', \"What's the next longest-running drama after Doctor Who?\", 'Who was the leader of Russia in 2001?', 'Where is the most commercially developed country in the world?', 'What nation are the Celts?', 'What is the melting temperature of the glass?', 'What was the first treaty in human history?', 'How many churches are there in Italy?', 'Is crowdsourcing one of the ways to take advantage of the Longtail phenomenon?', \"Where is Martin Luther's hometown?\", 'How many five-star hotels are there in Spain?', 'What is the official language of the Kingdom of Dahomey?', 'What nation are the Celts?', 'When is the coronation of Henry VIII?', 'What is the largest nation in the world?', \"Where's the first law school in America?\", 'When was the Australian Opera House completed?', \"Where's the biggest prison in the world?\", \"What's the smallest country in Africa?\", 'How many states are there in the Dominican Republic?', \"What's the area code for Berlin?\", 'Who was the first scientist to discover an ecosystem?', 'When was the Siege of Sebastopol?', 'What are the fossils made of?', 'When did Major first start producing?', 'How many private universities are there?', \"What was Mel Gibson's first film as a director?\", 'What year was MLB founded?', 'When did Solomon die?', 'What is the largest wolf species in the world?', 'Who was the First King of Poland?', 'When did the Nazis break up?', \"What's the tallest building on Wall Street?\", 'What is the purpose of the \"Scientific Revolution Structure\"?', 'Who invented the calendar?', 'When was the Ottoman Empire founded?', 'What is the current population of Eurasia?', 'When did Michael Jackson debut?', 'Does the insect have a host?', 'How many kilometers is the diameter of the moon?', 'In what year was the first computer hacking competition held?', 'How many countries have Arabic as their mother tongue?', 'Is it ever the birthday of a Persian princess?', 'Where was the first dinosaur fossil discovered?', 'How many World Cups has Italy hosted?', 'What language were the Ulster stories written in?', \"What percentage of the Earth's total land area is forest, a plant community?\", 'How many high schools are there in India?', 'Who is the person on the bill of rights in South Korea?', \"What's the most densely populated city in Canada?\", 'Where is the largest city in Kenya?', \"What's the highest number of sex workers in Korea?\", 'What does it mean for a company to acquire its shares on its own account?', 'Who invented the submarine?', 'Which country has the highest GDP in Africa in 2018?', \"What's the longest word in the Han?\", 'How many British Australians were there?', 'Where did Nogodinjim die?', \"What's the animal at the top of the Amazon food chain?\", 'What was the first telescope ever invented?', 'When were dinosaur fossils first discovered?', \"What's the radiation mortality rate?\", 'When did the Renaissance begin?', 'What is the strongest bone in the human body?', 'What is the official language of Argentina?', 'Who was the first emperor of the Roman Empire?', 'In which country did chess originate?', 'When was Wikipedia created?', 'Why did Tangara fail to conquer the peninsula?', \"What's the longest-running drama since Doctor Who?\", 'Where is the lowest birth rate in Asia in 2019?', 'Who is the Chief Justice of South Korea in 2019?', 'Who was the first emperor of the Roman Empire?', 'How many DNA do humans have?', 'What is the population of Portugal?', 'What is the largest court in the United States?', 'How many cubs does a wolf have?', \"How many men's universities are there in Japan?\", 'Where is the capital of the Republic of Sudan?', 'Who is the leader of Mongolia in 2016?', 'What is the maximum working hours per week in South Korea in 2019?', \"In what years was the Boys' Law amended in the Republic of Korea?\", 'What country is Microsoft in?', \"What's the biggest star you can see on Earth?\", 'How old was Hannibal to become a general?', \"Where's the coldest city in the world?\", 'Who was the first ruler of the Romanov dynasty?', 'What is the area of the ocean?', 'When did Booker T. Washington marry his second wife?', \"What's the smallest country in the world?\", 'What country has the largest army in the world?', 'How many cities are there in Alaska?', 'What is the most populous religion in the world?', 'What is the largest church in South Korea in 2019?', 'When did you change your name from Saxon to Korean Empire?', 'Where did the ballet first come from?', 'Is the hero, Pin Mac Quayle, originally the god of the ancient Celts?', 'How long is the reign of the Holy Roman Empire?', 'When is the Ottoman Empire coming to an end?', 'What is the largest dome in Greece?', \"Who's the biggest serial killer in the world?\", 'Who is the leader of Brunei in 2019?', \"What's a hormone?\", \"What's the wintering area?\", 'When did Emperor Charles of the Franks take the throne?', 'What area did the Mesopotamian civilization originate from?', 'Who did Francis Albert marry?', 'What was the fastest surrender in history?', 'When the money was introduced to the public?', \"Who is South Korea's current minister of commerce?\", \"Where's MTV's parent company?\", 'How many people were imprisoned in Nazi concentration camps?', 'What is the breed of military dog in Germany?', 'When did William I become king?', 'What is the origin of the Mithras?', \"What's the diffraction pattern of Rigel?\", 'Who designed the Blenham Palace?', 'When was the launch of the satellite?', \"Where's the modern automotive subsidiary?\", \"What's the subject of studying artificial languages?\", 'Who was the first biologist to receive the Nobel Prize?', 'What are the fundamentals of a successful organizational change?', 'When was Oxford founded?', 'What is the highest mortality rate in the world?', 'When did Madero die?', 'How many times have the Olympics been held in Athens?', 'What is the largest ocean in the world?', 'The first president of the Palestinian government?', 'Is there a correlation between the phlogiston plant and the chemical revolution?', 'What kind of instrument did Johann Sebastian Bach play?', \"What's the biggest holiday in Korea?\", 'How old was Thomas Weeping when he died?', 'Who was the first Korean player to play in the majors?', 'Can metals conduct heat?', 'Who discovered that galaxies are made up of many stars?', \"Who is South Africa's current winner?\", \"Where's the parasite?\", 'What is the largest airport in Korea?', 'What is the oldest university in England?', \"Where's the biggest stock exchange in Korea?\", \"Where is China's magnetic field?\", \"Who suggested a static universe where the universe doesn't change transnational?\", 'When did the Beatles break up?', 'Where is the highest radiation concentration?', \"When was Korea's first state television station established?\", 'Who established the concept of big data?', 'What party was it absorbed into when the Democratic Labour Party dissolved?', \"What's the longest goal in professional football history?\", 'How much space does the human brain occupy with the unconscious?', 'When did Edison invent the first light bulb?', 'What are the six movements of a ship?', 'When was Upbit in Korea founded?', 'Who had the most songs on the Billboard 100 in 2019?', \"Where is the world's largest exporter of wine?\", 'Who is the founder of the Eurasian Economic Union?', 'Who is the current president of Microsoft?', 'How many types of blood types do you have?', 'When was the word \"advertising\" first used?', 'When did the founder of Buddhism die?', 'Who was the leader of Canada in 2011?', 'Why did ancient Egyptian civilization perish?', \"What's the largest country in Africa?\", \"Who's the governor of Manhattan?\", \"What's Steven Spielberg's most recent film?\", 'How many cities are there in Pennsylvania?', 'When was Huawei founded in China?', 'When did Christian Havihans get married?', 'How many Christians are there in Turkey?', 'When did Ryuyu die?', 'When did Grant Henry Hill get married?', 'Who was the commander of the Normandy landings?', \"Who is Chanel's guest designer?\", 'How long has the Earth existed?', 'Does Albert Einstein ever have a birthday?', 'Can a child have a stroke?', 'How many ships does the Japanese Navy have?', 'How many species live in the Tai region?', 'When did you first discover a black hole?', 'How many U.S. professional football teams are there as of May 2019?', 'Who was the first president of Belgium?', 'Which country had the highest birth rate in the world in 2018?', 'Who proposed the theory of evolution?', 'How many countries have Christianity as their state religion?', 'When did the Republic of Korea become independent?', 'What about the size of the Ottoman Empire?', 'Where was the European Monetary System founded?', \"What's the size of Cambodia?\", \"What is Pippin's greatest achievement?\", 'Who invented the microscope?', 'Who was the last leader of the Soviet Union?', 'How does G-protein affect the human body?', 'Who was the first person to develop a metal detector?', 'Where did you get the name from in the Fenian War?', 'Which continent does Turkey belong to?', 'When is Albert William \"Al\" Kaline\\'s birthday?', 'What was the best-selling Mitsubishi car in 2018?', 'Which country produced the most philosophers?', 'When was the European Union formed?', 'Where are the lowest taxes in Canada?', 'How many years does the era in Japan change?', 'How many kinds of voices are there?', 'When will the Battle of Pithna take place?', \"What is Hungary's land area?\", 'When was the first dinosaur fossil discovered?', 'When did the Korean War begin?', 'What year did Oliver Khan join the professional football league?', 'When was Charles Darwin born?', 'What is the official language of Syria in 2018?', 'What is the largest cat species?', \"What's the longest drama in the world?\", \"What's the genome name in English?\", \"What's the biggest disaster in history?\", 'What is water made of?', 'In what year did Hideyoshi die?', 'Why is sociology so important?', 'Who was the most-performing singer in Japan in 2018?', \"Where's the capital of Brazil?\", 'Who was the president of the Republic of Korea during the Guangzhou Democratic Movement?', 'Where is the largest church in Hungary?', \"Where is Gorbachev's hometown?\", 'How many communist countries are there in 2019?', 'Why are the stars blowing up?', \"Where's the capital of North Korea?\", \"What's the Doctor Who genre?\", 'What country is Ronald Wayne from?', 'What is the chromatography technique using chromatography paper?', \"What's the biggest plane in the world?\", \"What's the size of Bulgaria?\", 'Who designed the Rockman?', \"What's the area code for Chicago?\", 'What is the smallest animal in the world?', 'Who invented the first window?', \"What's the highest percentage of religions on Earth in 2019?\", 'What is a rock made of solid volcanic rock?', 'In what year did the Heian period begin?', 'Where did the name milk come from?', \"What's the biggest museum in the world?\", 'How many years did the writer become president?', 'Who was the first Orientalist?', 'Where did the first musical of thought come from?', \"Who's the leader of France in 2019?\", 'What is the area of the ocean on Earth?', 'Is the Virgin Mary a real person?', 'When did Toyotomi die?', \"When is Gamal Abdel Nasser's birthday?\", \"Where's the capital of Ireland?\", 'Where are the most hurricanes in the world?', 'When did Malaysia become independent?', \"When will Korea's first radio station be founded?\", 'When did the Zoroastrian Church come into being?', 'How long does it take for plastic to break down from nature?', 'As of May 2019, how many ships does the U.S. Navy have?', 'Who is King Shinla I?', 'In which city is the Korean Embassy in Malaysia?', 'What country does the word \"cochin\" come from?', 'What is the least densely populated city in India?', 'What is Hellenism?', \"What's the hardest tree?\", 'Exactly what year does the Gamakura era mean?', 'When did John the Fourteenth die?', 'When was the Japanese Self-Defense Force organized?', 'Can golf be included in the screen sports category?', 'Where is the country with the highest oil output?', 'What country is the Pope in?', 'What do you call a robot in Dunham?', \"What's the difference between Stottland's English and American English?\", \"Who's the fastest pitcher in the world?\", \"What's the tallest building in France in 2018?\", \"What's the most addictive substance in the world?\", 'What about a star system where three or more stars are bound by gravity?', 'What was the biggest property damage in South Korea in 2019?', 'Where is the largest communist country in the world?', \"Who is Mongolia's 2019 leader?\", 'Who built the Manara?', 'How do you use cognition in English?', 'Where is the largest lake in Germany?', 'When did rock music start?', 'What is plant phenomenology?', 'When did George Orwell die?', 'Where is the South Korean Meteorological Agency?', \"Where's the capital of Denmark?\", 'How many communist countries are there in 2019?', 'How many books of the Old Testament are there?', 'Where is the capital of Denmark?', 'Where is the capital of the European Union?', 'How many countries do you speak Hebrew as your mother tongue?', 'How many rivers are there in China?', 'Why did he persecute the Anglican Church?', 'How many administrative districts are there in Paris?', 'How many rivers are there in China?', 'How many communist countries are there in 2019?', 'Which army won the Seminole War?', 'How many victims did the Nazi concentration camps produce?', 'Which department of the court administers civil and common law?', 'Does Hungary have a continental climate?', 'How many countries are there in Asia?', 'What is the currency of the kingdom of Epirus?', 'When did the Renaissance end?', 'Do we call the two-dimensional linear coordinates a coordinate plane?', 'When was the Fifth Congress of the Republic of Korea dissolved?', \"What's the biggest lamp in the world?\", \"What's the biggest taxi company in Korea?\", 'What is the largest airport in Sweden?', 'What is the average life expectancy of a wolf?', 'Does the Bermuda Triangle really exist?', 'What is the largest country in the European Union?', 'Did the French Enlightenment begin before the French Revolution?', \"How many cities are there in the Ganto Prefecture of Japan's Honshu?\", \"Who is the founder of China's Taobao Company?\", 'What is the most sacred animal in India?', 'When did Captain America first appear in Marvel Comics?', 'As of May 2019, how many parties are there in Korea?', 'How many countries speak Greek as their mother tongue?', \"What's the geographic coordinate of X?\", 'Does cotton come from quantity?', 'What country produces the most milk?', 'When did Robbie Williams debut as a singer?', 'When was the Japanese Atomic Energy Commission established?', \"Where is Brazil's largest city?\", 'When did the Israelites perish?', 'How many Olympic medals did Italy win by 2019?', 'In what year did the Olympic bodybuilding competition begin?', 'When will the first Nobel Prize for Literature be awarded?', 'What country has the highest incidence?', 'Where is the largest city in South Korea?', \"What's the advantage of being a pragmatist?\", 'Does the dryer currently exist in the city of Jingzhou in West Bengal?', 'What is the population of Ethiopia?', 'How do you store wine?', 'What are the rules of tennis?', 'Who is the youngest member of parliament in South Korea?', 'What is the largest city in South Korea?', 'What is the oldest novel in the world?', 'Who invented the first robot?', 'What was the best-selling novel in Canada in 2015?', \"Who's the most awarded filmmaker in the world?\", 'When was a life-saving diving bell made?', \"What's the difference between dictatorship and democracy?\", 'What is the administrative center of China?', 'What is an environmental hormone?', 'What is the largest city in Belgium?', \"When is Conrad's first birthday?\", \"What's a cat's nickname?\", \"What's the oldest baseball team in Cuba?\", \"What's the smallest state in America?\", 'How many countries are there in East Asia?', 'What is the definition of ionization?', 'Where did Jan Hus go to college?', 'Who organized the Black Panther Party?', \"What are the vitamins that your body can't produce?\", 'Who is the leader of Finland in 2019?', 'What is the origin of sociology?', \"Who's the revolutionary on the front page?\", 'Where is the capital of Romania?', 'What country is San Andreas in?', 'How many of you did the math test in 2018?', 'How many countries have gained independence from Japan?', \"What's the thickest hair race?\", 'How many countries are there in Southeast Asia?', \"Where's the largest solar power plant in the world?\", \"During the Heian period, who was Japan's tenth king?\", 'Where is the oldest football team in France?', 'When did the Gamakura era begin?', 'How many nuclear bombs does North Korea have?', 'What is the largest library in Japan?', \"What's the longest subway in Canada?\", \"Where's the 2002 World Cup winner?\", 'What is the common language of the Mykene civilization?', 'What is the largest animal in the Tai region?', 'What are the Olympic Games in 2019?', \"What's the formula for differentiation?\", 'In what country is Sanskrit now spoken?', \"What's the biggest online shopping mall in the world?\", 'Who was the first person to undergo transplants?', 'When was Bob Dylan born?', \"What was CING's first game?\", 'What year was the MLB held?', 'When was the United Nations organized?', 'What is the purpose of Reformed Baptism?', 'What is the largest river in Italy?', \"Who was Italy's first prime minister?\", \"What's the best-selling phone in the world?\", 'What percentage of a newborn is congenital?', 'When was Enjawicky launched?', \"What's the number of LG employees in 2018?\", 'When was the first text message sent?', \"What's the biggest university in New Zealand?\", 'How many World Cups did Norway play in 2019?', 'How is nicotine produced?', 'What is the nation of Greenland?', 'What continent has the largest population of large mosquitoes?', 'What is the state flag of the Kingdom of Wessex?', 'Where is the greatest gravitational pull on Earth?', 'Did the Civil War last for days?', \"Who is Marie Antoinette's successor?\", 'How many unofficial countries are there in 2019?', 'When did the Crusades begin?', 'Where is the source of human development?', \"What's the heaviest of the dinosaurs?\", 'Who was the first person to receive the Nobel Prize in Physics?', 'How many national libraries do you have in Japan?', \"What's the GDP per capita in San Francisco in 2018?\", 'How many countries are there on the African continent?', 'When did Alexander the Great die?', 'Where did the word algorithm come from?', 'Where was the first country to start astrology?', 'Who was the first person to discover the North Sea?', 'How many people do you have in Seoul?', 'What language is available in Unix?', 'Where is Belarus?', 'When was Georgia destroyed?', 'When was the Statue of Liberty built in America?', \"What's the American commonwealth?\", 'Where is Decker based in the United States?', 'What year did the ice cream phone come out?', 'When was PSP first released?', \"What's the biggest dinosaur?\", 'How many World Cups has France hosted?', \"What's the biggest city in China?\", 'What was the first smartphone to introduce geographic recognition?', \"J.R.R. Tolkien's birthday is coming up?\", 'How many parks are there in Korea?', \"Who's the best-selling author in the world by 2019?\", 'What is the longest subway in Japan?', 'Will the Soviet Union ever be built?', 'What is the impact of the Ganges on India?', 'Is the energy efficiency of a heat engine heat efficient?', 'Who is the 2019 president of Romania?', 'What is the primary goal of psychology?', 'Who wrote the most songs of the Knuckle Monkeys?', \"What's the wolf's hair color?\", 'Who made the Triple-A Winery?', 'When was Warner Bros. founded?', \"What's the protein CAS number?\", 'Who is the current gunner of ASEAN?', 'Who is the first general of the Gamakura clan?', 'Where did the name Maria come from?', \"Where's the capital of Belarus?\", 'Who invented penicillin?', 'Where is the largest city in China?', 'Is it the birthday of the Chinese philosopher Xi Jinping?', 'What about the geographic coordinates in Germany?', 'When did Canada declare its independence?', 'How many times did Germany win the World Cup in 2019?', 'What is the most damaging cyclone in history?', 'How many airports are there in France?', \"When is Japan's national anthem?\", 'What is the average life expectancy of a Psittacoosaurus?', \"What's the biggest pizza franchise in the world?\", 'What year did Harreshaw Nelson die?', 'When was Apollo 12 launched?', 'What is the height of a child in London, England?', 'Where are the members of the UN General Assembly?', \"What's the longest-running photograph in the world?\", \"Where is Nintendo's headquarters?\", 'What was the purpose of the establishment of the Franciscan Order?', 'How many searches are there in South Korea in 2019?', 'How many guns are there?', 'Who is the 100th Pope?', 'What\\'s in \"Killing the Parrot\"?', \"What's the disadvantage of the steering wheel?\", 'Where was the first company to launch a laptop?', 'What is the fastest growing plant in the world?', 'Who was defeated in the Battle of Ilong?', \"Where's the capital of Qatar?\", 'How many pages does the Bible have?', 'When did the Philippines become independent?', \"Is there a date for Ubi's death?\", \"Where is Gamal Abdel Nasser's political party?\", 'Who was the first person to invent electronic music?', 'How many elementary schools are there in Rome?', 'Who is the leader of Ireland in 2019?', \"What's the largest island in the Atlantic?\", 'Who was the first leader to start a state of terror?', 'When did the Battle of Chaos take place?', 'When does Ubi die?', 'Who was the first person to create a world map?', 'What is the largest hydroelectric power plant in Korea?', 'Can we use ontology to make big data more efficient?', 'What is the closest planet to Earth?', \"What's the best-selling fiction of all time?\", 'Where did Einstein die?', \"What's the largest desert in the world?\", 'How many times has Ubi been to see the scales?', \"Who's the German federal prize?\", 'Can animals dance?', 'Where did the name Hurricane come from?', \"What's the tallest building in Mexico?\", 'What is the largest star observed on Earth?', 'When was the Warcraft Oak and Human developed?', 'Who was the president of the Republic of Korea in 1998?', \"Who's the man with the biggest penis in the world?\", 'How many types of beans are there in the world?', 'What was the highest-grossing American animation in 2019?', \"What's the highest elevation in Illinois?\", 'Who is the leader of Syria in 2019?', 'What is the cure for malaria?', 'Where was the first cheese invented?', 'What is the flag of the Soviet Union?', 'How many Emperors of Hunan is one host?', 'How many gunpowder monkeys are there in East Asia?', \"What's the background to the Cuban Revolution?\", \"What's the least densely populated country in Southeast Asia?\", 'How many traditional Chinese instruments do you have?', 'What is the tallest building in Rome?', 'Which country has the largest army in the world?', 'When did resource regimentation start?', 'When will the Iron Age end?', 'What is the highest mountain in Europe?', \"What's the smallest state in Japan?\", 'What is the essential nutrient needed by the human body?', 'What is the largest lake in France?', \"What's private number one in the Republic of Korea?\", 'What is the main board made of?', 'When was Sega founded?', 'When did the Great Fire begin?', \"What's the size of Kerr's shoes?\", 'What was the tallest building in Hawaii in 2018?', \"What's the difference between a parrot and a mosquito?\", 'What is the longest bone in the human body?', 'When did the Mexican Revolution happen?', 'How many teams are there in the Spanish Football League?', 'Who is the current president of Argentina?', 'What was the best-selling novel in Malaysia in 2015?', 'When was the Dodgers founded?', 'What is the largest art museum in Japan?', 'When did Emperor Peter I ascend to the throne?', 'Who was the first person to develop wind power?', 'What is the acronym for GPGPU?', \"When is Denise's birthday?\", 'In what years was the Bible completed?', 'What is the longest-running British drama?', 'Who was the first person to propose the Big Bang theory?', \"What's the second oldest women's college in America?\", 'Where did the first Olympic Games in history start?', 'What is the hottest planet in the solar system?', 'Which university started the honor system administered by the institution?', \"Who's the creator of Marvel Comics?\", 'What is the largest baseball stadium in Japan?', 'What is the name of the largest typhoon to hit South Korea between 2000 and 2019?', 'Who founded the first modern university in Korea?', 'Who is the current Queen of England?', 'What is the oldest art high school in Korea?', 'Who was the first king of France?', 'Does Hainauga currently include three to four species?', 'Who invented the gun in the United States?', 'Who is the oldest pope in history?', 'When did Liberia become independent?', 'What was the most visited city in Italy in 2018?', 'Who was the Democratic Labour Party nominee in 2011?', 'What is the oldest school in Japan?', 'How far is the Andromeda galaxy from our solar system?', 'What is the National Cultural Property Code for the city of Anhui?', 'Who was the youngest of the kings of Josiah to become king?', 'What year did Steve Jobs die?', 'How many years ago was it discovered?', 'When did the seagulls die?', 'When did the Sunnah unite?', 'What is carbon dioxide made of?', 'When did Japanese-language communication become widespread?', 'How much is the Bulgarian Navy?', 'What is the official language of Belgium?', 'Who was the 30th president of the United States?', 'Are there any organisms that have been genetically modified?', \"What's a castle?\", 'How many guns did the Anglo-Saxon king have?', 'When did the Kingdom of Savannah fall?', \"What's the longest tunnel in the world?\", 'Who is the governor of Montreal, Canada?', 'What is the highest mountain in North Korea?', 'What is the most frequently used word in the Bible?', 'How do you say \"I love you\" in Chinese?', 'How are the governors of the World Bank elected?', 'Who is the current prime minister of Colombia?', \"What's the study of the reindeer?\", 'Who was the first person to measure the speed of light?', 'When did Homer write the Odyssey?', 'How many airports are there in Japan?', 'When was PlayStation 1 released?', 'Who is the father of all the gods of Greece and Rome?', \"What's the biggest city in England?\", 'What country is Jerry Garcia from?', 'In what years did Benedict Arnold join the U.S. Army?', 'When was Soul Connection formed?', 'When was the first Major League game held?', 'Is the S of Stg44 Sturm?', 'Is it DNA that holds the genetic information of an organism?', \"What's the MTV slogan?\", 'When did the Republic of Liberia become independent?', \"When is Adano Yukio's birthday?\", \"Where's the biggest baseball stadium in the United States?\", 'What is the largest star in the solar system?', 'When did you start reporting in the news?', 'Where is the highest peak in India?', 'What did Einstein accomplish?', 'What is the highest mountain in Ireland?', 'Who is the current Prime Minister of Italy?', 'Who is the Chief Justice of South Korea in 2019?', 'In what country did Mormonism begin?', \"When's the last time you're banned from selling scissors?\", 'What year did Kim Jong-il die?', 'When did Asoka die?', 'When did the Edo Period begin?', \"What's an identity in English?\", \"How do you treat Graves' disease?\", 'What is the longest collection of poetry in the world?', 'Who is the head of the interim government of the Republic of Korea?', 'Who was the first president of Venezuela?', 'Where is the largest Catholic university in the world?', 'Which country has the highest GDP in Southeast Asia?', 'How many languages are there on earth?', 'When did Wagner die?', 'What is the origin of gargantuan?', 'What is the tallest tree in the world?', 'When did Busan become a regional city?', 'Where is Georgia now?', 'How many countries are there in North America?', 'Which country consumes the most beer per capita?', \"Where's the life of thomas samuel ham?\", 'What is the tallest tree in the world?', 'How many guns do you have?', \"What's the area of Lisbon?\", 'What does it mean to be a tribe?', 'When was the European Central Bank founded?', 'When was Mozilla founded?', 'How many universities are there in Japan?', 'What was the first year that the Chiang-Chi virus was discovered?', 'What country has hosted the most Winter Olympics?', 'Is there a village in the Arctic in 2018?', 'Why is a year 366 days?', \"Where's the company that distributed the Call of Duty?\", \"When is Charles Leonard Gering's birthday?\", \"What's the largest whale museum in the world?\", \"When was Trapp's autobiography first published?\", \"Where's the biggest vinyl house in the world?\", 'How many Japanese were armed?', \"What's the population of the state of Olathe?\", 'When did Venus become extinct?', 'Who was the first to call it the theory of sovereignty?', 'What are the countries with the highest GDP in East Asia?', 'Is there a cure for lung cancer?', \"How many of Jesus' disciples had guns?\", 'What is a neutron particle?', 'Where are the mosque temples in Malaysia?', 'When was Disneyland in America founded?', 'Who is the political leader of Japan in 2019?', 'Who is the current president of Greece?', 'What is the largest fish caught off the coast of Korea?', 'When did Cambodia join the UN?', 'How many gods are there in Greek-Roman mythology?', 'When was the Republic of Namibia founded?', 'Who is the President of Greece in 2018?', 'Where is the oldest high school in Korea?', 'When did the Meiji era come to an end?', 'How many World Cups has Germany played?', 'What was the first highway in Korea?', 'Who is the current president of Egypt?', 'Where is Tibet located?', 'Where did the name \"Butter\" come from?', 'What is the geographical location of the Attica now?', 'When was Chrome launched?', \"What is Ontario's largest state in Canada?\", 'Where was the company that first printed the encyclopedia?', 'What year was Doom 1 released?', 'Where is the largest university in Korea?', 'How many universities are there in England?', \"What's the highest elevation country in Asia?\", 'Who is the founder of the New York Yankees?', 'What year was Sex Pistols formed?', \"What is the world's largest sea?\", 'How many pages does the Bible have?', \"What was Herman Hesse's first novel?\", 'Who was the last king of Jordan?', 'How many World Cups has Italy won?', 'What is the tallest building in North Korea?', 'How many episodes have Madman Season 1 aired?', \"What was James Bond's first film?\", 'What is the chemical symbol of the atomic nucleus?', 'What is the official religion of Italy?', 'What country did basketball come from?', 'When was the Three Kingdoms story written?', 'Where is the company that manages Wikipedia?', 'What country was George a general in?', \"What was Blizzard Entertainment's first game?\", 'What are the advantages of low-income development?', \"Where is NASA's headquarters located?\", \"When is Alexander Immanuel Rodriguez's birthday?\", 'What are the characteristics of Western classical music?', 'What is the largest bone in the human body?', 'What was the cause of the Creek War?', \"What is Newton's third law?\", 'What is the largest bone in the human body?', 'Who is the founder of Oakland Airport?', 'Which team made it to the finals of the 2007 UEFA Champions League?', 'What is the name of the storm that caused the greatest damage in the world?', 'Where are the most love locks in Korea?', 'Where did the name of the algorithm come from?', \"Who's the leader of Scotland in 2019?\", 'What is the most expensive currency in Asia?', 'What country has the highest average height for men and women?', \"What's the most densely populated country in the UK?\", 'When did the Nobel Prizes start?', 'Who is the architect of the Millennium Stadium?', 'As of May 2019, what is the best-selling soybean in Korea?', 'How many World Cups did Russia qualify for in 2019?', 'Does the yeast belong to the genome?', 'When was Nintendo founded?', \"Which side's victory ended the War of the Triple Alliance?\", \"Who's the former Marie Thérèse of France?\", 'How many Muslims live in Berlin?', 'How many soldiers took part in the Battle of Golangpo?', 'What is the smallest city in India?', 'When was the United Nations founded?', 'When did John Stuart Mill die?', 'What happens when the water pressure increases?', 'What about the wine-growing process?', 'In what year did the Yayoi era begin?', 'Which part of the country is Shinsuk?', 'When was the Fiat M13/40 first produced?', 'What is the state of Austria?', 'When is Steven \"Steve\" McManaman\\'s birthday?', 'When will the Winter War end?', 'What is the elemental symbol of potassium?', \"Where's the movie 300?\", 'When did the Czechs go into exile?', \"Who is Myanmar's national spokesperson?\", 'Who sparked the Renaissance?', \"What's the release date of StarCraft 2?\", 'What are the Olympic Games in 2019?', 'How far is the Bullspot from Earth?', 'What country did the Celts live in?', 'Did Sputnik 2 succeed in its launch?', \"Who's the actor who played Bye in Bye-Bye?\", 'When did John Reed join the military?', 'Who is the First King of the East Frank?', 'What is the least reactive metal in the world?', 'Is Greenwich Village located west of Lower Manhattan?', 'When did Justinian live?', 'What is the third planet in our solar system?', 'What kind of species is the caterpillar?', 'How many countries are there in Southeast Asia?', \"Where's the biggest palace in the world?\", 'How many people does a basketball team need?', \"What's the biggest dinosaur out there?\", \"What is Kennedy's monetary policy?\", 'Will Cartoon Network ever be founded?', 'When is the Trojan War?', 'When is the release date for the game \"Civilization\"?', 'When was the Constitution of the Republic of Korea created?', \"Where is the world's largest natural history museum?\", \"What was J. M. Barrie's first work?\", \"Who was Sweden's first president?\", 'Who is the Prime Minister of Uzbekistan as of 2019?', 'How old was Mr. Kim-gu when he died?', 'What country are the characters in Hamlet from?', 'Can we change the DNA?', 'What is the largest brain animal in the world?', \"What's the biggest pharmaceutical company in the world?\", 'What country is Hamlet from?', \"Who was Russia's first leader?\", 'When was the first real use of the T-54?', 'What is the total population of Slavs?', 'Who was the first leader of Unity?', 'How many cities is Singapore made up of?', 'Why was gun laws invented in the United States?', 'When was Eniak developed?', \"What's the largest aquarium in the world?\", \"What's the thickest book in the world?\", 'What year was Toyota founded?', \"Where's the Nagoya Party?\", 'Who is the Prime Minister of Russia?', 'How many countries have the U.S. military?', 'Where do you see the most Aurora?', \"Where's the 2016 American League championship team?\", 'How do you make a sword?', 'How many soldiers did the Air Force have?', \"Who's the first Miss Universe winner?\", 'What is the diameter of the sun?', \"What's the biggest city in Iraq?\", 'When did Nelle Harper Lee die?', \"Is there a date for Napoleon's birthday?\", 'When was Oasis disbanded?', \"What's wrong with Pilates?\", \"What is the cause of Jean-Jorès' death?\", 'What is the oldest church in the world?', 'What is the fastest bird in the world?', 'What is the largest zoo in Japan?', \"Where's the city with the giant statue of Jesus?\", \"What's the ancestor of the Clothes?\", 'How many districts are there in Japan?', 'How many people live in Scandinavia?', 'Who was the president of the United States in 1810?', 'Who invented the first typewriter?', \"When is Minamoto Damemoto's date of death?\", \"Where's Manny's life?\", 'Who founded the Tang Dynasty?', 'What year was Messi born?', \"What's the biggest skateboard in the world?\", 'How long did the Siege of Sevastopol last?', 'When was Johann Sebastian Bach born?', 'Where did Steve Jobs die?', 'How many national libraries are there in the Netherlands?', 'What is the concept of an independent movement?', 'What year did South Park start airing?', \"Where's the Marvel Comics headquarters?\", 'When was Isaac Newton born?', 'What is an ion?', 'When did Joseon join the South Korean national football team?', \"What's the biggest political organization in the world?\", 'What is the tallest building in Beijing?', 'How many children did Robert Neely Bella have?', 'What is the largest lake in Belgium?', 'When was the German Democratic Party founded?', \"Where's the first professional team headed by David Allen Johnson?\", \"What's the tallest building in Thailand in 2018?\", 'How many presidents of the United States have been murdered?', 'Who invented the first astronomical telescope?', 'Why do apples turn green?', \"What was Kafka's last work?\", 'How many Koreans were granted permanent residency in Canada in 2018?', 'What is anatomy?', \"John Wilkes' academic record?\", 'When did Wall Street become a financial hub?', 'Who is the oldest person in the world as of May 2019?', 'What is the longest train in Japan?', 'When did the mansion die?', 'When was the Swiss Socialist Party founded?', 'When was the founding of the South Korean Football Association?', 'When was the Coptic Order founded?', 'What is the tallest building in Guangzhou?', \"What's the mean of a wrestling ring?\", 'What country used the most plastic in 2018?', 'How many World Cups has Spain won?', 'When did the First Crusade take place?', 'How many armies do you have in Massachusetts?', 'What is the nation of England?', \"What's the biggest star in the world?\", 'Who is the founder of the Land Corporation?', 'When did Brusilov become a soldier?', 'Is Jodiac based on astrology?', 'How big is the Caspian Sea?', \"What is Brunei's currency?\", 'What is the most densely populated district in Seoul?', 'What is the structure of RNA?', 'When was the first Tour de France?', 'When did the Heian period begin?', 'Who was the first Pharaoh?', 'When did the French national football team play in the World Cup for the first time?', \"What's the largest tidal line in the world?\", 'Which team has won the most League of Legends World Championships?', 'Where is the heaviest rainfall in the UK?', 'How many elements are there on the elementary cyclic scale?', 'Who is the current Prime Minister of Poland?', \"What's the biggest hotel in Korea?\", 'How many countries are in Europe?', 'How many countries are there in Europe?', 'What is the first word in the Bible?', 'What is the location of the National Assembly of Korea?', 'When was the Imperial League formed?', \"What's the smallest state in Italy?\", \"What's the role of dopamine?\", \"What's the biggest star we can see?\", 'Who was the youngest person to become a national leader in history until 2019?', \"When is Rap Boone Williams' birthday?\", 'When is the opening of the Duchy of Bavaria?', 'When was Aquarius built?', 'What kind of research does a physicist do?', 'What is the tallest building in Budapest?', \"What's the tallest mountain in China?\", 'Who discovers magnets?', \"What's the length of the adult flea?\", 'When did Tokugawa and Ieyasu defeat Nobunaga?', 'Is the Creek War part of the Indo-American War?', 'Where is the largest number of churches in the world?', 'What is the main cause of abdominal pain?', 'What country has the highest number of temples?', \"What's the most spoken language in the world?\", 'Which country has the lowest mean sea level on Earth?', 'Did Hungary win the Battle of Mohács?', 'Who invented the cloud?', 'How many muscles does the human body have?', 'How many official religions are there in Korea?', 'What are the other two objects that Galileo dropped?', \"What's the acronym for air traffic control?\", 'Will there ever be a time when the Tang Dynasty will be built?', 'Who was the second king of the Ming Dynasty?', 'What kind of building is the Reichstag?', 'What is the main purpose of the coalition?', 'Who is the founder of Panasonic?', 'What was the tallest building in Argentina in 2018?', \"Where's the company that distributed the most movies by 2019?\", 'When does Cambriag start?', 'When was the Fantastic Beasts dictionary made into a movie?', 'How did the continents come to be?', 'How do tornadoes occur?', 'Will Jan Van Eyck ever be dead?', \"What's the area of Shanghai?\", 'What is the largest park in Japan?', 'How many football teams does Argentina have?', 'How far is the Crusade?', 'What are the most popular pets in the wild in 2019?', 'What do you say in English?', \"Will there ever be a date for Wyansky's death?\", 'Who invented the first hydraulic press?', 'How many World Cups has the Netherlands won?', 'What is the highest mountain in England?', 'What country is Matt Stone from?', 'Are fossil fuels renewable energy?', 'When did the U.S. Declaration of Independence become an Independence Day?', \"When is Adolf Hitler's birthday?\", 'When was the U.S. military organized?', 'When did Mary Ann die?', 'Does the car have anything to do with the magnetic field?', 'How many countries are there in Asia?', \"What's the relationship between Belial and Lucifer?\", 'How big is India in the world?', 'When did the King of thrones become king?', 'Who was the first person to invent Lego?', \"What was Thomas Harris' first novel?\", 'What is the tallest building in Germany?', 'When was the NBA founded?', 'When did Korea launch 5G data?', \"Where's the biggest theological school in the world?\", 'Where is the Court of Justice of the European Union?', \"When was Michael Jordan's shoes first released?\", 'Who is the current president of Belarus?', \"Where is Michael Phelps' home?\", 'What is the selection criteria for the national flag of the Republic of Korea?', 'Who is the current president of Portugal?', 'How many parks are there in Croatia?', \"What's the biggest cyclone in history?\", 'What is an amino acid molecule?', \"How much is Wayne Mark Looney's kidney?\", \"What's the longest home run in the world?\", 'Did the Sputnik 3 launch successfully?', \"What's the difference between Samba and Shoro?\", 'When did Henry V die?', \"What's the fastest animal in the world?\", 'Where is the area where the Battle of Ramey was fought?', 'In what year was the Bacterial University founded?', 'How many elements are there on the element symbol?', 'How many years ago did Kabuki come into being?', \"What was Dennis Lowe's first professional football name?\", 'How many guns did the Brothers Grimm have?', 'When did Stanley die?', 'Which universities are the mainstream of the three-piece orchestra?', 'Who wrote Star Wars?', \"Who was Austria's first president?\", \"What's the disadvantage of robotic surgery?\", \"How many meters is Sanabria's record?\", 'Which country is Thompson from?', 'Who was the first president of France?', 'Centaurus appears in the mythology of which country?', \"Where's the administrative center of the Gulf?\", 'How many guns is the Hindu orthodox philosophy?', 'Is Chesena a city in the northern Italian province of Emilia Romagna?', 'When did Johann Sebastian Bach die?', 'What is the next Renaissance?', 'When was the treatment of dandruff invented?', 'When did the First Opium War start?', 'How many series will Dragon Ball have in 2019?', 'Which of East and West Malaysia is bigger?', 'In which country did the myth of the dragon originate?', 'When will Jonah be born?', 'Are lemons made up of vitamins?', 'What are the advantages of land reform?', \"What's the highest-grossing musical in the world?\", 'How many secondary schools are there in Greece?', 'When was Nike founded?', \"What's the way to get melatonin from the outside?\", 'Who is the Overwatch General Designer?', 'Are there still wolves in Korea?', 'When was Rene Descartes born?', 'When was Howard Michael Johnson born?', 'When did Bacon die?', 'What is the final rank of the navy of Pierre-André de Schippe and de Saint-Trophe?', 'Who invented the mind-body?', 'Jack the Ripper is a legend?', 'Is Poland adopting a parliamentary resolution?', 'Can a frog live on both land and water?', 'How long is the reign of Isabella I?', 'When did the Battle of Gettysburg end?', 'When did food prices stabilize?', 'What is the capital of Iceland?', 'What is the smallest organ in the human body?', 'What were the largest earthquakes in history until 2019?', 'When was the Korean Railway Company founded?', 'What is the tallest building in Zagreb?', 'When was the Japanese Empire abolished?', 'What is the largest lake in Algeria?', 'How many photographers are listed in the list of current non-formal artists?', \"What's the biggest wheel in the world?\", \"What's the heaviest gas in the world?\", 'When did Star Wars start?', 'When was the capital of the Netherlands established?', 'When was Adhocracy first organized?', \"What's the biggest ship in the world in 2019?\", 'What is the largest bird in the world?', 'What is African aquarium science?', 'When did BitTorrent start its service?', 'In what year did Van Gogh die?', \"What's the name of the next era?\", 'When was Osaka Gintetsu Buffalo founded?', 'What is the largest Muslim temple in the world?', \"What's a housekeeping system?\", 'How many guns does the Japanese football league have?', 'How many more board members do you have?', 'What is the largest island in New Zealand?', \"What's the advantage of tercio?\", 'Where is the burial place of Charles I?', 'Who is the first king of the Kingdom of Aragon?', 'How many theories are still unresolved in 2019?', 'What year was the mansion built?', 'Where is the single-language country?', 'What year was the pyramid first built?', 'Do you have a birthday party?', 'When did he die?', 'What is the largest airport in Rome?', 'What is the best-selling book in the world?', 'What is the highest mountain in Turkey?', \"When is Jantarta's hometown?\", 'Who is the founder of the Walt Disney Company?', 'How is cell division done?', \"What's the purpose of the special broadcast?\", 'When was Karl Marx born?', 'How many universities are there in Korea?', 'What is the ICD-9 code for an epidemic?', 'When was Columbia University founded?', 'How does the heat spread?', 'When did Osho become an official in the empire?', \"What's a country that's rational?\", \"Where's Hansky's first baseball team?\", 'When was Beethoven born?', 'When was the year that Sonic was made into an anime?', 'When did Torrent start its service?', \"What's the highest mountain in the world?\", \"What's the biggest Lego in the world?\", 'As of 2019, which country has the largest number of troops?', 'How many countries are there in North America?', \"Where is Genghis Khan's hometown?\", \"What's the least populous country on earth?\", \"Who's the head of Juventus?\", 'What is the unit of currency used in China?', \"What's a secondary energy source?\", 'Who created BitTorrent?', 'What is the smallest muscle in the human body?', 'What is the concentration of human blood?', \"Who's the current head of ZDF?\", 'What is a dogma?', 'Major, is it over?', 'What is the League of Major League Baseball?', \"Which country does Ward's site manager operate in?\", \"Where's the twins' home?\", 'Where was the first country to start a diary?', \"What's the way to the North Pole?\", 'When did Michael Jackson debut?', 'When was Johns Hopkins University founded?', \"Where's the White House?\", 'What is the size of Europe?', \"What's the biggest black hole discovered until 2019?\", \"What's the fastest plane in the world?\", 'Who was the president of Switzerland in 2010?', 'Is the subway section of Seoul Metro Line 7 the same as the Yangtze station to the thermal water station?', 'What country has the shortest life expectancy in 2018?', 'What year was Adobe released?', 'What year was Hollywood founded?', 'Where was the first country to make candy?', 'The largest lake in Thailand in 2018?', 'When was the first Macintosh launched?', \"What's a technicolor?\", \"What's the biggest flower in the world?\", 'What is the name of the current king of Sweden in 2018?', 'Where were the most desertified areas in 2018?', \"Is there a date for Lucero's 2nd birthday?\", \"Where is the world's largest steel producer?\", 'The Old Man and the Sea was written in what years?', 'Did the Cuban Revolution bring about communism in Cuba?', 'Is there ever a Republic Day?', 'Where was the highest suicide rate in 2018?', \"What's the name of the main character in the series?\", 'Where in Germany does Arthur Schopenhauer live?', 'When did professional football in Spain start?', 'Who is director Mullan?', 'Where is the tallest building in Greece?', \"Where's the biggest bargain in Tibet?\", \"What's the oldest five-star hotel in the world?\", 'When did Adventure Time first air?', 'What is the longest-living fish out of water?', \"What's the oldest beauty in the world?\", 'When was NASA founded?', 'When did the Jackson 5 disband?', \"Who is Brazil's leader in 2019?\", 'When was penicillin discovered?', 'When did the Battle of Passchendaele occur?', \"What's the biggest fighter in the world?\", \"When is Isemine's birthday?\", \"When is Massue Bunker Ridgeway's birthday?\", 'Where is the second most populous country in the world?', \"Where is Richard Dawkins' home?\", 'Which country is Golden Retriever from?', 'How many Chairmen of the Central Committee of the Communist Party of China was Mao Zedong?', 'When was ASEAN founded?', 'What year did Eddie Guerrero die?', 'When was Mitsubishi founded?', \"What's the geographic coordinate of Guangzhou?\", 'How many NGOs are there in the world?', 'When was Cartoon Network launched?', 'What is the official language of the Kingdom of Pontus?', 'What country has the largest Christian population?', 'When was the first year National Geographic was founded?', \"What's the tallest building in London in 2018?\", \"What's the standard for implementation?\", 'Who is the Prime Minister of Japan in 2019?', 'When was the French Football Association founded?', \"Who's the first actor to win an Oscar?\", \"Where's the capital of Greenland?\", 'Who was the prime minister of Japan in 1998?', \"Who's the founder of Capcom?\", 'What is static energy?', 'What is the largest district in Seoul?', 'Which country is the Army of the Potomac?', 'Where is the largest church in the world?', \"What's the biggest river in history?\", 'Which country has the highest GDP in the world in 2018?', 'Where do hurricanes occur most often?', 'When was Hollywood founded?', \"What's the Korean state flag?\", 'What was the reason for the Peloponnesian alliance?', 'What is the largest animal in the world?', 'What is English education?', 'Did General James Wolfe die before?', 'Is the 80th Pope an armoured man?', \"What's the big investment of this broadcaster?\", 'When will the Battle of Pithna end?', 'What are the organs in the human body that secrete lactic acid?', 'What is the concept of a continental legal system?', 'Which team has won the most League of Legends World Championships?', 'In what year did the Darwin Prize begin?', 'What are the animals with the most legs?', \"What's the biggest fruit in the world?\", 'What country has produced the most popes?', \"What's the longest runway in the world?\", 'What country has the highest number of murders?', \"Where is the world's largest limestone quarry?\", 'What is the tallest building in Asia?', 'When was General Sherman built?', \"What's the relationship between Albert Michaelson and Edward Molly?\", \"What's the most downloaded game on Riot Games?\", \"What was the world's first smartphone?\", 'In what year did the Meccan pilgrimage begin?', \"Where's the company that invented the first smartphone?\", 'How many sections of the Constitution of the Republic of Korea do I have?', \"What's the mining town?\", 'When did the miracle of the Han River begin?', 'When did Pope John X become pope?', 'Who is the spouse of the mansion?', 'When was the Greek Football Association founded?', 'What does Ebola mean?', 'What is the longest war in history?', 'How many World Cups has Brazil won?', 'What is the largest university in Austria?', 'What is the greatest dinosaur in history?', 'When was Jonah built?', 'What country is Autovan in?', \"What's the point of the game?\", 'What country is the United Nations in?', 'What is the tallest building in Gettysburg?', \"When is Vladimir Ilyich Lenin's birthday?\", \"When were Cyrus' teachings written?\", 'Who is the mayor of Venice?', 'In Vietnam, when did the director of football in Vietnam take over?', 'When was Max Weber born?', \"What's the smallest city in Vietnam?\", 'Which country won the battle?', 'Which country has the best welfare system in the world?', 'Who is the current manager of the Uruguay national football team?', 'When will the Battle of Maul end?', \"What's the most densely populated city in the world?\", 'What is the largest island in the Southwest Indian Ocean?', 'Which city is the White House in?', \"When's the founding anniversary of the Prince Automobile Company?\", 'What is the highest mountain in Canada?', 'Where did pneumonia come from?', 'What is the largest number of cells in the human body?', 'Where is Achilles?', \"What was the world's first opera?\", 'When was the first plane crash?', 'What was the best-selling camera in 2018?', 'How many years ago did the Elgiers make their first cell phone?', \"Who's the leader of Canada in 2019?\", \"Who's the actor playing the main character in Adventureland?\", 'When was the White House built?', \"Who's the leader of Canada in 2019?\", 'What is the acronym for International Standardization Organization?', 'Who was the president of Italy in 1960?', \"What's the biggest animal?\", 'Who are the spouses of Tokugawa and Iemitsu?', 'What is the oldest newspaper in Korea?', 'What do you mean by galaxies?', 'When did Bonaventure die?', 'What year was the Battle of Gettysburg?', 'When was Roman law created?', 'Who is the founding member of the Democratic Labour Party?', 'When did Kim Jong-un die?', \"Who's the planner for the fountain?\", 'What are the three laws of variation?', 'What is a stimulus?', 'Which country has the most submarines?', 'Where is the largest battery manufacturer in the world?', 'What is the deepest tree?', 'Who are the Seljuk Turks?', \"Where is South Korea's financial superintendent?\", \"Where is Stephen Phillips' hometown?\", 'What country is Richard Dawkins from?', 'How many chapters does the book of Revelation contain?', \"What's the highest point on the peninsula?\", 'When did Hisaeba Hideyoshi die?', 'What was the biggest storm to hit South Korea in 2019?', 'Is there ever a day when ZDF opens?', \"What's the tallest building in the flood?\", 'When was China International Airlines founded?', 'When did you found San Diego Padres?', 'Who is the longest-serving person in history?', 'When did the most important freedom fighter die?', \"Who's the current governor of Jeddah?\", 'What does Bayer mean?', \"Who's the Dodger?\", \"Is there a date for the Japanese Emperor's Birthday?\", 'What was the background to the Seinan War?', 'Who is the successor to the Emperor of Denmu?', 'How many guns do the U.S. Army have?', 'What is the largest football stadium in Japan?', 'How many countries have a royal family as of 2019?', 'Who is the leader of Italy in 2019?', 'How many federal states are there in the world?', \"What's the smallest fish in the world?\", \"What's Girin's share?\", 'Where is the largest city in Mongolia?', 'By 2019, what are the worst natural disasters in history?', 'What is the meaning of the two bodies?', 'Who was the president of Italy in 1865?', 'When did you discover penicillin?', 'In what year was the Eiffel Tower built?', 'When did Bill Evans die?', 'What is the largest island in the world?', \"What's the fastest battle ever?\", 'What year did Kim Ji-jin start playing baseball?', \"What's the highest-grossing movie of all time?\", 'What is the brightest star in the night sky?', 'How many cities are in the game?', \"Where's the biggest hospital in the world?\", 'What word is LG short for?', 'What is the currency used in Poland?', 'Will there ever be a first Grammy awards ceremony?', 'Who was the king in the year 307 of the kingdom of Epirus?', \"What's the name of the novel written by this guy?\", 'What does TCG mean?', \"When did Bloomingdale's open?\", \"What's the shape of the hexagon?\", 'When did Pope Urban V die?', 'Is there a date for the death of Ludovic II Balbus?', \"Where's the base of Seoul Station?\", 'Where is the Pender Instrument Company in the United States?', \"What's the largest laboratory in the world?\", 'In what year did the Nagasaki subway disaster occur?', 'What is counter-government theory?', 'Are fungi toxic?', \"Where's the biggest lab in the world?\", \"What's the tallest building in the waterfront?\", 'Who is the current president of Colombia?', \"What's going on in the pancreas?\", 'Do you still have a gas station in 2019?', \"Who was the first person to make the world's first island?\", 'What is the state of Spain?', \"What's Gyam's mother tongue?\", \"Where is John Locke's hometown?\", 'How many executive officers are there in New Mexico?', 'What is salt made of?', 'When was the Eiffel Tower completed?', 'Which country is Christopher Nolan from?', 'What is the highest rank in India?', 'In which country did propagation begin?', \"What's the tallest building in the world in 2019?\", 'How many calories does sugar have?', \"Who was Hitler's chief physician?\", 'Where is the capital of Macedonia?', \"Where's the biggest vineyard in the world?\", 'Where is the World Bank?', 'How many meters above sea level is Palombong Mountain?', 'Will Charles Cornwallis ever be dead?', 'What was the cause of the student movement?', 'What is the largest river in Seoul?', 'Who is the current emperor of Japan?', 'When was the kingdom of Numidia built?', \"Who's the author of the drama?\", 'Where is the current president of Greece?', 'What is the religious belief of the diaspora?', 'How many collisions does the moon have?', \"What's the type of IgA?\", \"Who's the 1st Shogunate?\", 'What is the chemical formula for flavin adenine dinucleotide?', 'What is the largest airport in Syria?', \"What's a blood clot?\", 'Was the first edition of ISO 8601 released in 1988 as ISO 8601:1988?', 'When was the movie 300 released?', 'What is the tallest building in Belgium?', \"Where's the Sanctuary's home?\", \"What's the story of the game?\", 'When was Richard Dawkins born?', 'When did Pope Urbano die?', 'What is the largest animal in the world?', \"Where's the longest winter in the world?\", 'When is Comedy Central America Opening Day?', \"When did Spain's democratization end?\", \"What's the largest lake in Hawaii?\", 'Can we make paper without using wood?', 'How many rummy hamburgers do you have in Malaysia?', 'Who is the founder of Seoul Transportation Corporation?', 'What is the most deadly battle in history?', \"What's the Orient special?\", 'Where is the largest national park in the United States?', \"Where's the company that manages the one and line?\", 'Who was the longest-serving cardinal until 2019?', 'Who owns Rolex in 2018?', 'What are the largest mammals?', \"Where's the biggest cave in the world?\", 'When did Kim Jong-un win the Nobel Peace Prize?', \"Where's the Department of Homeland Security?\", \"Who's the youngest CEO in the history of a corporation?\", \"Where's the capital of the Falkland Islands?\", 'What is a military photographer?', 'How many years did Hurricane Mammy occur?', 'How many secondary schools are there in Normandy?', 'What are the floods that caused the most property damage in 2019?', \"What's the difference between Haji and Umra?\", 'Who was the first person to discover wrestling?', \"What's the maximum velocity of one and two lines?\", 'How many species are endangered in 2019?', \"What's the size of Mongolia?\", 'Where is the largest city in North Korea?', 'What is the largest city in Venezuela?', 'What country has the longest life expectancy in 2018?', 'When was Never founded?', 'How many shooters in a baseball defense?', 'When did the Battle of Ishiyama end?', 'When was the Hertz-Russell chart designed?', 'Why do you think Kim Oxygen needs a protective shield?', 'When is the first edition of Shiozaki Desuya?', 'Who is the 40th Emperor of Japan?', \"Where's the Wikimedia headquarters?\", \"What was Eminovich's first work?\", \"What's the oldest stamp in the world?\", \"Who's the current sheriff?\", \"Who is Hungary's leader in 2019?\", 'Where is the cemetery of Minamoto?', \"What's the biggest lizard in the world?\", 'When was the blue iguana first discovered?', \"Where's the team that made it to the finals of the 2004 UEFA Champions League?\", 'How do you use the mainframe?', 'When was Tathnara built?', 'What is the state of the French Republic?', \"Who's the best-selling Korean singer of all time?\", \"Where is Mozart's life?\", 'What was the first year that Wumpis started publishing?', 'Who was the leader of the Netherlands in 1917?', 'Who was the first actor to win a Golden Globe for Best Supporting Actor?', 'What is the largest city in Paraguay?', 'When was Tathnara built?', 'What is the largest building in Vietnam?', \"Who's the big market in 2019?\", 'When was Christian Highness born?', 'What year did sharing debut?', 'What is secular pleasure?', 'When did the University of Korea open?', \"What's the spelling code?\", \"What's the longest bridge in the world?\", 'Who is the father of the goddess of justice, Justia?', 'Will the National Language Institute ever be founded?', 'Who is the longest-serving pope in history?', \"What's the thickest particle in the world?\", \"Who was Vietnam's first president?\", \"Where's the smallest lab in the world?\", 'In what year were hanging and computers founded?', 'How many members of Paparochi?', 'What is the currency used in Hungary?', 'What is the currency used in Hungary?', 'What is the length of the Qing River?', 'When did Gustav Adolph VI die?', 'When was the ambulance car founded?', 'How many times does the Vampire Diary air?', \"Where is Ruby's hometown?\", 'When was the Millennium University founded?', 'When was the Olympic Committee created?', 'When did Rose become a biologist?', 'What city is there in Korea?', 'What is the disease ICD-10 number?', 'The only one who died in what years?', \"What's the tallest tower in the world?\", 'Where is the Benedictine monastery located?', 'What is the U.S. Special Forces?', 'What is the longest observed constellation?', \"What's the fastest plane in the world in 2019?\", 'What is the U.S. Special Forces?', \"Where's the crankshaft located?\", 'When was Wilfield born?', \"When was Barnard's star discovered?\", 'Who is the founder of the National University of Eastern Economy?', 'In what years did the Eritrean War of Independence occur?', 'What is a multiprocessor?', 'How many rounds does the Man-in-the-Wall have?', 'What is the largest airport in the world?', 'What is the highest mountain in Brazil?', \"What's the biggest port in the world?\", 'When did the Battle of Szegetake take place?', \"What's the difference between a cell and a cellist?\", 'How old is Tablo?', 'When did Sathya and Ijiya divorce?', 'When was Adblock developed?', 'Who is the founder of Kaiserlautern?', \"What was Pushkin Dolls' first debut song?\", 'Does Gus Hiddink ever have a birthday?', 'When was the novelist born?', 'When did Raphael Sancho die?', \"What's the appeal process?\", \"When is William Gilbert's birthday?\", 'When was Never founded?', 'How many static satellites are there?', 'When was Epicurus born?', \"What's the tallest building in the city?\", 'As of 2019, what is the most expensive gaming device in the world?', \"What's the longest bridge on the Han River?\", 'Where was the Statue of Justice first erected?', 'What is the highest mountain in Syria?', 'How many national parks are there in Poland?', \"What's the meaning of Suez?\", 'What is the currency of Georgia?', 'Who is Pope III?', 'Who is the current president of Slovakia?', 'In what year did Yu-Gi-Oh! die?', 'Which king founded the Blank Boys Choir?', \"What's the role of the shooter?\", 'What does orgasm mean?', \"What's the size of the Seventh Army?\", 'How many theological colleges are there in the United States?', 'How many Eastern popes have there been in history?', \"Where's Never's headquarters?\", 'What country is Makatan Island in?', 'What is Tcl?', 'What country is Neutria native to?', \"What's the current ownership of the city in 2019?\", 'What is the salt that gives the pink light?', \"What's the position right under the CEO?\", 'When did the Battle of Ishiyama begin?', 'What is the main religion in South America?', 'What is the largest castle in Italy?', 'Do you have a birthday?', 'Where was the first country to start a circus?', 'Who is the current chairman of the South Korean Railways?', \"What's the biggest racecourse in the world?\", 'When was the Korean School of Foreign Languages founded?', 'Who has the longest name in the world?', \"Who's the current governor of Arizona?\", 'What is the current population of Isikarishi?', \"Where is Edmund Roberts' home?\", 'When will the Battle of Morothai Island end?', 'What is the Greek currency?', 'Who is the leader of Finland in 2019?', \"When did the emperor's civilization begin?\", 'When did the new public-private partnership start?', 'When did you first discover Squalene?', \"When did the emperor's civilization begin?\", \"What's the biggest insect in the world?\", \"What's in the Seven Wonders of the World?\", 'What year was Dyso founded?', 'Where is the current SBS broadcasting center?', 'When was Korea Sports University founded?', 'When did you start the newspaper?', \"What's the lightest MacBook?\", 'Has this guy ever been elected president?', 'What is the highest mountain in Cuba?', 'When did the prototype die?', \"Where is the Pope's governor?\", \"What's the biggest piece of art in the world?\", \"What's a sleeper like?\", 'What is the oldest temple in the world?', 'What happened to Kim Oxygen after thyroiditis?', 'In what years did the resurrection begin?', 'When did this game debut?', 'Who is the successor to the King of Shanduk?', 'Hey, what year did Velvet debut?', 'Where is the highest mountain in Southeast Asia?', 'When was Herman Hesse born?', 'What is the main purpose of the Korean debt settlement system?', 'What is the effect of Pilates?', \"What's the fastest object in the world?\", 'When was Forbes Magazine founded?', 'What is the longest river in Korea?', \"Where's the country where Kim Jong-un was active?\", 'Will there ever be a founding anniversary of LG Chemical?', 'How many universities are there in Poland?', \"Where's the window?\", \"What's the longest wall in the world?\", 'What is the longest mountain range in the world?', 'What is the largest city in Switzerland?', 'When was the Crusade founded?', 'When was SM Entertainment founded?', 'When did the reforms in Denver end?', \"Who's the real husband?\", 'Where is SK headquarters located?', \"When is Kim Boom's birthday?\", 'In what year did Shimizu Yoshiro die?', 'What year did Yellowstone get married?', 'When did the space program start launching?', \"What's the biggest wall in the world?\", 'How many strings does the instrument play?', 'When did Moritchka die?', 'When did pro football in Korea start?', \"Who's the governor of Indiana in 2018?\", 'What are the descendants of Ima and Sadayo?', 'When was Fuji and Rano cooking born?', 'How many species are endangered as of 2019?', 'In what years did Prime Minister Abe become Prime Minister?', 'Who discovered the northern crown?', 'Is it your birthday?', \"What's the biggest cat in the world?\", 'When was the Socialist Party of Japan founded?', 'What year was Warmade launched?', 'Is there a birthday party?', 'Where is the smallest city in Austria?', \"When did N.EX.T.'s lead singer die?\", 'When did Abe become prime minister?', \"Who's the mayor for 2019?\", 'Is there a date for the death of Avino Seimei?', 'Will the Emperor ever die?', \"What's the round of the World Championships in Athletics?\", \"When did N.EX.T.'s lead singer die?\", \"What's the load?\", 'When did Wang Xiaowei die?', \"What was the reason for Kim Jong-il's kidnapping?\", 'What is the visual velocity of Maple 1?', \"What was Randall Monroe's first work?\", 'What is the state of Portugal?', \"When is John Reynolds' birthday?\", 'What is the meaning of the six-point Napoleon Prize?', 'What year did the winners debut?', 'Where is the Republic of Korea Independence Memorial?', \"What was René Margret's first work?\", \"What's the tallest building in the pass?\", 'In what year was modern manufacturing founded?', 'When did you start Seoul Transit?', 'Who is the president of Yomiuri TV?', \"What's the biggest speaker in the world?\", 'Is there a date for the first release of Cheese Undertrap?', \"What's the tallest building in the world?\", 'When was the first performance of The Roses?', \"Where is Toei Animation's headquarters?\", 'Is there a date for the birthday of Ludovic II Balbus?', \"What's your first name?\", 'When was the Democratic Party of Korea founded?', 'Who was the first actor to win an Oscar for Best Supporting Actor?', \"When was Holda Clark's cause of death?\", \"What's the best-selling role-playing game of 2019?\", \"How long is Hungary's prime minister?\", \"What's the Phantom's accomplishment?\", \"What's a born-again relationship?\", 'When did he die in the city of Maeda?', \"What's the oldest tree in the world?\", 'Who is the founder of Nexon?', 'How many times has Infinity War aired?', \"Where's the rainbow's home?\", 'Who is the founder of the Application Year?', 'What is the origin of sport?', 'When did he sign the consent decree?', \"What's the tallest skyscraper in the world?\", 'When is the year of birth?', 'Who is the current president of Vietnam?', 'Where is the smallest city in Norway?', 'What country is Iran the largest in the world?', 'What year was Koolong founded?', \"Who is Austria's current Secretary of State?\", 'When was Song Seol born?', 'When was Butkus Omni developed?', 'Who is the Prime Minister of Japan?', \"Where's the squadron?\", \"What's the area of the galaxy?\", 'What is ethnicity?', 'When did the Battle of Gauguin take place?', 'What is a Somali nation?', \"Who's the owner of the Han Chinese Eagles?\", \"What is Sakuragicho's mindset?\", \"When did John stage a coup d'état?\", 'When did Russia intervene in the Syrian civil war?', 'What is the main cause of the Israeli-Palestinian war?', 'How many regions can Russia be divided by geography?', 'Is Messianic Judaism connected to the Holocaust in Germany?', 'After World War II, why did the Soviet Union enter the Cold War with the United States?', 'How many soldiers did Korea deploy during the Vietnam War?', 'Who was the last king of Rome at the time of its destruction?', 'Who is the current prime minister of France married to?', 'How did the radio help during World War II?', 'Why did England and France go to war?', \"Where's the capital of France?\", 'How many cities are there in the U.S. state of Miami?', 'When was Austria built?', 'When did the Soviet Union collapse and become Germany?', 'When was the ship invaded by Japan?', 'Is there a paper in psychology that studies human behavior from a social point of view when it comes to human aggression?', \"Who in Egypt declared a republic by launching a coup d'état?\", 'Where are the most foreign-born areas in France?', 'When did the Roman Republic begin?', 'What does Christianity seek to achieve through the doctrine of the Trinity?', 'Where did World War II start?', 'When did Christianity first spread in the United States?', 'When did the Syrian civil war end?', 'When did the Nazis fall?', 'Has the Church developed a unique view of authority to properly uphold the Christian faith?', 'What is the highest proportion of religions in Japan?', 'What was the first country in the world to be attacked with a nuclear weapon?', \"What was Russia's old name?\", 'How many countries fought in World War II?', \"What's the latest cancer treatment that can only selectively trace cancer cells with laser scans after the injection of photosynthetic agents into cancer cells?\", 'What is the real name of Pope II?', 'What is the second largest city in France?', 'As of 2019, how many countries are allied with Germany?', 'What is Bergen the largest city in Norway?', 'Who is the leader who declared war on drugs in the Philippines?', 'Who was the president of the United States in 1950?', 'In what years did the Nazis fall?', 'Who is the longest-serving king of France?', 'What is the religion that serves the most gods?', \"What's the largest city in Texas?\", 'When did Korea formally become a party to the International Covenant on Civil and Political Rights?', 'Who was the Japanese armour that led the Revolution?', 'When did Italy become a republic?', 'When was copyright first recognized?', 'What is the most densely populated city in Norway?', \"What was the reason for Germany's invasion of Poland?\", 'How many countries have compulsory high school education?', 'When did France become independent?', 'What is the largest ethnic group in China?', 'Where are the most uninsured residents in the United States?', 'Who was the leader of the expedition when it was invaded by Japan?', 'What was the name of the trial in Germany that tried Nazi war crimes?', 'Who has been president for the shortest time in the history of the Republic of Korea?', 'Who is the leader of Japan who started a one-time dictatorship?', \"In 2009, how many Americans didn't even have health insurance?\", 'What country has the highest proportion of Buddhists per capita?', 'Who commanded the largest number of battles in the war?', \"Where was the publisher that first published George Orwell's novel in 1984?\", 'Which king built the Palace of Versailles in France?', \"What's the largest city in Maryland?\", 'When did Japan invade Korea?', 'What is the city with the largest number of foreigners in the Netherlands?', 'Who invented the daguerreotype?', 'How many countries were involved in World War II?', 'Where was the first country on earth to detonate a nuclear bomb?', 'Where was the first Indochina or the victorious post of the war?', 'Who is the longest-serving monarch in China?', 'When did Taiwan become independent from China?', 'When did Taiwan become independent from China?', 'Where did World War I begin?', 'Do the planets in the solar system orbit at the same speed?', \"What's the difference between an empire and a kingdom?\", \"What's the distance between Japan and Korea?\", 'When did the first tax system come into being?', \"Where's the country that made the first dreadnotes?\", 'As of May 2019, which apartments have the highest number of generations in South Korea?', 'Do you ever think of a defeat date?', 'Who was the commander who led the Japanese army during the Great Depression?', \"Where's the winner of the Civil War?\", 'How long did World War II last?', 'How many countries have fought in World War II?', 'How many cities are there in the state of Florida?', \"Where's the capital of Albania?\", 'Who was the first person to open the wiki?', 'What country has the largest number of Buddhists in the world?', 'How long has the Kingdom of Scotland been an independent kingdom?', \"When was Ireland's independence granted?\", 'When did Somalia make its second inauguration?', 'When did Christianity begin in Japan?', 'Who is the current Prime Minister of the United Kingdom?', 'When did Japan become a constitutionally established state?', 'What were the problems with social and political systems at the end of the Roman Republic?', 'What is the most densely populated city in Poland?', 'When was the father of psychology born?', 'Where is the capital of Tunisia?', 'When did the American Civil War end?', \"Who's the second president of the United States?\", 'How many leaders have been in the military in human history?', 'When did Russia become independent?', 'Who was the first person in the world to talk about sociology?', 'Which country has generated the most revenue from modern science?', 'When did Russia become independent?', 'When did ancient Rome fall?', 'When did mankind first succeed in space exploration?', 'What was the capital of the United States before Washington, D.C.?', 'What is the flag of the Republic of Albania?', 'Is South Korea a multilingual country?', \"How long is Thomas Jefferson's term?\", 'What was the first color movie?', 'When did Buddhism begin?', 'What is the most densely populated city in the Philippines?', 'Who was the king of Byzantium at the time of Constantinople?', 'Where is the continent to which the Netherlands belongs?', 'Who was the first to use the penitential code?', 'When was Social Security first introduced in Germany?', 'Is Afghanistan a single country?', 'What was the first atomic bomb ever made?', 'In the 17th century, who was the leading figure in deep discussion of psychology?', \"Who is China's first president?\", 'How many languages are there in China?', 'According to evolution, who is the ancestor of mankind?', 'Who was the first pope of the Anglican Communion?', 'Which continent does Slovakia belong to?', \"What was the reason for Germany's invasion of Europe?\", 'How many countries fought in World War II?', 'Who was the president of the United States in 1991?', 'What is the largest state in Russia?', \"What is China's largest country?\", 'How many grades are elementary schools in Korea?', 'Where did the Roman Catholic Church first spread?', \"What's the acronym for Nazi?\", \"Where's the Greek capital?\", 'What is the longest period in Japan?', \"What country is jazz's cultural roots?\", 'Does the brain control most of the movements, behaviors, and maintain the consistency of the body?', 'When was the Republican Party of the United States founded?', 'When did Iran come into being?', \"Who was the king who embraced China's scientific technology?\", \"Who was Mexico's first leader?\", 'Who was the first president of the Republic of Korea?', 'What is the temperature at which nuclear fusion occurs?', 'Does the Sun orbit the Earth or does it orbit the Earth?', 'Who is the seventh president of the United States?', 'What was the first country to declare surrender during World War I?', 'When did the Republic of El Salvador become independent from Mexico?', 'Who made Tercio?', 'When did the Great Depression happen?', 'How many maternal and child murders were committed in South Korea in 2018?', 'Who was the first president of Russia?', \"What is the size of the People's Republic of China?\", \"Where is Egypt's capital?\", 'What is the capital of Egypt?', 'For the first time in the history of the Congregation for the Doctrine of the Faith, who became Archbishop of Seoul?', \"Where is Egypt's capital?\", 'Who was the second emperor of the Roman Empire?', 'How many states are there in the United States?', 'What is the currency of Armenia?', 'What will be the population of Buenos Aires in 2018?', 'When did Korea become a Japanese colony?', \"What's the difference between modern cryptography and ancient cryptography?\", 'Is nuclear weapons legal in the United States?', 'What is the average annual temperature in Taiwan?', 'Who invented Wikipedia?', 'When did Korea and North Korea split?', 'From a capitalist point of view, do you think the modern economy is successful?', 'What is the formula for describing the motion of electric fields, magnetic fields, and charges?', 'What is the largest country in Central Asia?', 'When was the American Red Cross founded?', 'Who brought baseball to Japan?', \"What was Korea's first mosque company?\", 'What group are Germans in northern Europe?', 'How old was Bench when he retired?', 'When were human rights invented?', 'Who was the prime minister of Ireland in the 1990s?', 'How many nuclear power plants are there in Korea?', 'Who is the current president of the South Korean government?', 'When did Washington D.C. become the capital?', 'When was the first time the Christian Bible was translated into English?', 'What was the period of the Age of Aquarius when most scientific progress was made?', 'Who did Prince Harry of England marry?', 'What is the successor party to Vsevolod?', 'When did Seoul become the capital?', \"What was the world's first transportation system?\", 'Who is the successor of Jesus Christ?', 'Who is the founder of Cambridge University?', 'How many nuclear power plants are there in the United States?', 'How many planets in the solar system can humans live on?', 'How many wars has France fought?', 'How old was Jesus when he began dating?', \"When did the Thirty Years' War start?\", \"Is the amount of what an object receives equal to the amount of energy change in the object's motion?\", 'What kind of metal chemical elements are there?', 'What is the largest province in Canada, Ontario?', \"Who was the first president of the Democratic People's Republic of Korea?\", 'When did the Ottoman Empire collapse?', 'What are the components of the atomic bomb?', 'Which country imported the most fighters in a year in 2018?', \"Who is Egypt's leader in 2019?\", 'What is the most densely populated city in Germany?', 'Episode 6: Who played the main character in the Jedi movie?', 'What was the first instrument used in Mesopotamia?', 'Who was the first person to develop a computer vaccine?', 'When did Japanese samurai culture begin?', \"Can we eat a cow's liver?\", 'Where was the first bus service in Korea?', \"What's the smallest city in Australia?\", 'Who was the president of France in 1960?', 'Who was the first female judge in Korea?', 'From which language did German come?', 'What was the biggest insurance policy in Korea in 2018?', 'Who is the current head of state of Greece?', 'Who was the longest-serving pope in history?', 'Who was the longest-serving pope in history?', 'What is the Dutch geographic coordinates?', 'When did the United States of America come into being?', 'What was the best-selling pickup truck in the United States in 2018?', \"What's the biggest city in Germany?\", 'Where is the largest city in Germany?', 'In which UN report did the term \"sustainable development\" first appear?', \"What's the biggest terrorist organization in the United States?\", 'What is the highest percentage of religions in Mexico in 2019?', 'Where is the most expensive university in France?', 'How many survivors of the Titanic?', \"What's the Spanish sign?\", \"What's the second station in South Korea after the first state-owned television station?\", 'What kind of vaccine is being given to babies in Korea?', 'Who was the King of the German Empire during the Holy Roman Empire?', \"What is Thailand's official religion?\", 'What is the official language of Austria?', 'When did the New York City subway line F first start operating?', 'Where was the escape of the King of Jordan during the Civil War?', 'What is the largest satellite in the universe?', 'When did the ancient Roman Empire begin?', 'What country did Buddhism originate in?', 'Is gambling legal in Korea?', 'What is the EU flag?', 'What is the oldest baseball team in Korea?', 'Where did Buddhism come from?', 'When was Kennedy inaugurated as president?', 'Are the Galilean moons or the Galilean moons the four satellites discovered by Galileo around Jupiter in 1610?', \"What's the most expensive gas in the world?\", 'Who wrote the most novels by 2019?', 'How old was Ivan Sina when he first became a scholar?', 'What is the largest city in Spain?', 'How many fighter jets does the Republic of Korea Air Force have?', 'Does Reformed Baptism have anything to do with secularism?', 'How many centuries B.C. did Buddhism begin?', 'How big is Venezuela?', 'How many religions are there in India?', 'How many deaths in the anti-drug movement?', 'How many American holidays are there?', 'What is the most war-torn island in Japan?', 'When did Doctor Who first start airing?', 'Where was the first atomic bomb dropped in history?', 'As of 2019, how many types of mosquitoes are there on Earth?', \"Where's the capital of Mexico?\", 'Who is the leader who executed the most people in the world?', \"Where's the capital of Somalia?\", 'Which continent is Palestine on?', 'Which continent does Palestine belong to?', \"What is the Earth's orbit?\", 'When is Jesus born?', 'How many people will Malaysia have in 2018?', 'What is the political system in Myanmar?', 'Who is the current Prime Minister of Australia?', 'What is the longest railway in Russia?', 'What was the first map of Korea?', 'What was the first subway in Japan?', 'What is the largest country in North America?', \"Who was Brazil's first president?\", 'How big is the Han River?', \"What's the largest city in Georgia?\", 'When was the Smyrna Island Nuclear Power Plant built?', 'How many shots did Batman Begins make in Korea?', 'When did the Korean Empire become independent?', \"What's the maximum depth in the North Atlantic?\", 'What is the most densely populated city in France?', 'What is the oldest history book in Korea?', 'How many times the size of the Earth is the Sun?', 'Who owns the copyrights to the 2019 Mickey Mouse?', 'How many countries fought on the other side of the war?', 'Who was the judge who condemned Jesus to be crucified?', 'Are Jews descended from the people of Israel?', 'How many subway lines do you have in Japan?', 'What is the largest city in Italy?', 'When was AIDS first discovered?', 'What is the second largest island in Japan?', 'What were the biggest Japanese companies in the world in 2019?', \"What's the biggest outdoor franchise in Boston?\", 'How many courts are there in the United States?', 'Whose victory was the Mid-Day War?', 'How many railway companies are there in Japan?', \"Where's the biggest oil company in Korea?\", \"Who's the author of the most books in America?\", 'What country was the first pope from?', 'What is the most abundant star group of galaxies?', 'Where was the first country to grow sugar cane?', 'Does gender tell us how cancer is in biology?', 'How many cities does the United Kingdom of Great Britain and Ireland consist of?', \"Where is each other's capital?\", 'How big is Boston?', 'How many guns did foreign missionaries build on the ships?', 'Where was the first British colony?', \"Where is Asia's largest nuclear power plant?\", \"Who's the most powerful commander in 30 years of war?\", 'What is AI?', 'In what years was the Chernobyl Nuclear Power Plant completed?', 'When was the Holy See created?', 'Why did Japan declare surrender in World War II?', 'Who detects the magnetic field?', \"Who was Germany's first leader?\", 'What is the most densely populated city in Mongolia?', 'Which side won the Mid-Day War?', \"What's the biggest dispute in Korean history?\", 'What year was the Titanic?', 'Who is the king who has expanded the lands of the fortress the most?', \"Where's the sea where the earthquake happened?\", 'Is the Philippines a multi-ethnic country?', 'Where are the most homeless people in 2018?', 'In 2019, what is the largest whale on Earth?', \"What's the paradox of describing genes that are evolutionarily of the same origin in the process of breeding?\", 'What was the first car developed in Korea?', 'What is the largest city in Ireland?', 'When did the Fourth Industrial Revolution start?', 'Who is the king of the Sumerian civilization?', 'Where did the history of baseball begin?', 'When was the most advanced era of anthropology?', 'What is the best-selling game developed in Poland?', 'How many times did Jesus begin his creation?', 'What is the most densely populated city in Austria?', \"When did the Hubble Space Telescope launch into Earth's orbit?\", 'What is the programming language of Linux?', 'Who is the 42nd President of the United States?', 'How many national parks are there in the Netherlands?', 'What country has the longest history in the world?', 'When did Sai debut in Korea?', \"Where's the capital of Jordan?\", \"Who was the first of Jesus' disciples to die?\", \"Who's the one who founded catholicism?\", 'When did the Internet first come about?', 'Where is the capital of Lithuania?', \"Where's the capital of Lithuania?\", 'How many kilometers is east-west of Hungary?', 'Who was the president of the Republic of Korea in 1980?', \"Where is Berlin's nationality?\", 'Where is the smallest city in the Philippines?', \"What's the third smallest state in the U.S.?\", 'Does AI mean AI?', 'How many years ago did Samsung launch its first smartphone?', 'Has the social sciences influenced the development of any science?', 'Is there a cure for cancer?', 'How many planets in the solar system are larger than Earth?', 'Where is the English mainland?', 'How many hurricanes hit the North Atlantic in 2016?', \"What is Jupiter's orbital cycle?\", 'In which country did the Crusades begin?', \"What's the population of France in 2018?\", \"Is there a ratio that can't be expressed as a fraction?\", 'When did Korea become independent from Japanese colonial rule?', 'What are the most likely collisions in the solar system?', 'What is the official religion of Amsterdam?', 'What was the highest-grossing Swedish film of 2019?', \"What is Kenya's main food source?\", 'Who was J. K. Rowling divorced from?', 'What is the largest country in Southeast Asia?', 'What is the largest city in Norway?', 'Where was the first country to implement communism?', 'What was the first car company in South Korea?', 'When did Ancient Rome collapse?', 'When did ancient Rome collapse?', 'What is the largest city in the Philippines?', 'Where was Machiavellianism first applied?', 'Will Charles De Gaulle ever have a birthday?', 'When did Myanmar become independent from Britain?', 'Who invented the first bomb?', \"What's the longest non-negotiation in the world?\", 'What is the least densely populated island in Japan?', 'How many seconds is the time to make your first impression?', 'How long has the term BDSM been in use?', 'Where did the Battle of the Bulge take place?', 'What country produces the most honey in the world?', 'Who was the first king of the Achaemenid Empire?', 'Who was the first emperor of Japan?', \"What is the name of Heisenberg's paper on quantum mechanics?\", 'Who invented the first gun?', \"Will there ever be a day of Napoleon's death?\", 'Where have you explored the deepest place in human history?', 'Who invented the telephone first?', 'How many years did the Heian period last?', 'Who was the first person to climb Everest?', 'How many provinces are there in Canada?', \"What's the fastest marine life in the world?\", \"What's the longest-running game on Nintendo?\", 'Where is the largest country in the world?', 'When did Hinduism begin?', 'Where is the largest city in Spain?', 'Did the Etruscans have a strong sense of class?', \"What is Tesla's accomplishment?\", 'When was the first translation of the Bible into the Hanseatic language?', 'Where did Mormonism begin?', 'When is the last version of Windows coming out?', 'Where is the largest city in Greece?', 'When was the first translation of the Bible into the Hanseatic language?', 'What is the oldest building in Rome?', \"What was the cause of Napoleon's war?\", 'Who was the first to spread Christianity in Korea?', 'Who led Nazi Germany?', 'What is the largest city in Greece?', 'When was the theory of evolution first proposed?', 'When did the Qing Empire begin?', 'Who was the first engineer to make artificial fiber?', \"Where's the capital of England?\", 'When did Arkansas become part of the United States?', \"What's the oldest animation in the world?\", 'Who is the most powerful god in Greek mythology?', 'How many countries speak Persian?', 'How many countries speak Persian?', 'When did the Frankish Kingdom fall?', 'What was the first airline in South Korea?', 'Why did Luther oppose Calvin?', 'Who was the founder of the Nazi Party?', 'Who was the first leader to start a state of terror?', 'What is the largest bone in the human body?', 'Who is the Prime Minister of Uzbekistan as of 2019?', 'When was Epicurus born?', 'When did you start Seoul Transit?', 'When did Somalia make its second inauguration?', \"What was the world's first transportation system?\", \"Who is Egypt's leader in 2019?\", 'What is the most densely populated city in Germany?', 'Does Reformed Baptism have anything to do with secularism?']' has dtype incompatible with float64, please explicitly cast to a compatible dtype first.\n",
      "  df.loc[mask, out_col] = translate_list_pipe(texts)\n"
     ]
    },
    {
     "name": "stdout",
     "output_type": "stream",
     "text": [
      "Translating 356 Korean questions...\n"
     ]
    },
    {
     "name": "stderr",
     "output_type": "stream",
     "text": [
      "Translating ko->EN: 100%|████████████████████████████████████████████████████████████████| 3/3 [02:17<00:00, 45.87s/it]\n",
      "C:\\Users\\Augus\\AppData\\Local\\Temp\\ipykernel_15396\\3879078599.py:41: FutureWarning: Setting an item of incompatible dtype is deprecated and will raise an error in a future version of pandas. Value '['How many Nordic countries in northern Europe?', 'What was the name of Case Western Reserve University in 1887?', 'In which country did the Omni religion originate?', \"What's the size of Dallas?\", \"What is OpenStack's programming language?\", \"What's the closest planet to Earth?\", 'What year is Mona Sacks first appearing?', \"What's the size of Luxembourg?\", 'Is it related to gravity?', \"When is Andrew Eugene Pettit's last game?\", 'Which city is SK Chemical?', 'How was poetry invented?', 'Can we live without predators?', 'Does infinity have a formula?', 'Where is the largest Catholic church in the world?', 'What is the highest island in Japan?', 'What was the highest-rated Korean drama in a year in 2018?', \"What's the difference between RNA and DNA?\", \"Who's the director of Doctor Who Season 1?\", 'What is self-acceleration?', 'What was the first ad agency?', \"Where's the biggest opera house in the world?\", \"Where's the biggest soccer stadium in the world?\", 'Is nuclear fusion commercially viable?', 'What are the names of particle physics?', 'Who is the First Queen of England?', 'What is the current population of Bavaria?', 'Where is the country with the most pandas?', 'What is the largest volcano in Japan?', 'Can humans live in the atmosphere of Mars?', 'What is Daimyo?', 'What was the largest space station on Earth until 2019?', 'How many seasons of The Vampire Diaries?', 'Will Herman Hesse ever die?', 'Who was the leader of Iran in 2011?', \"What's the longest running drama in history?\", 'Who was the last king of the Byzantine Empire?', 'Which country filed the name of the storm?', 'Is it possible for an error in reasoning to cause an error in an unknown appeal?', 'How many countries have the death penalty?', 'How many soldiers did China send for North Korea during the Korean War?', \"Who's the founder of Japanese Nits?\", 'What is the hobby chosen by the most people in the world?', 'What country sent the most soldiers in World War II?', \"What's the biggest scholarship fund in the world?\", 'Will there ever be a date for the founding of the Ming Dynasty?', 'What kind of fungus is it?', 'Is Vybolshevik the extreme left?', 'Will the Qing Dynasty ever be defeated?', 'Down syndrome is caused by how much DNA?', 'Does Reformed Baptism have anything to do with secularism?', \"Where's the capital of the Philippines?\", \"Who is Douglas MacArthur's wife?\", 'Are the laws different in the United States?', \"What's the second spacecraft to land on the moon?\", 'How are the eyes made?', 'What is the oldest university in Germany?', 'Who is the Prime Minister of Japan in 2019?', 'How long is the rest of the pregnancy?', 'Okay, so when does the fight end?', \"When is Pope Urban's birthday?\", 'Will the Qing Dynasty ever be defeated?', \"Where is Frank Lloyd Wright's hometown?\", \"Where is the world's largest population of wolves?\", 'What is the family name of the dynasty?', 'Where was the first country to build the Monorail?', \"What's the biggest army in the world?\", 'Who was the first president of France?', 'Will J.R.R. Tolkien ever have a birthday?', 'Can humans live in the atmosphere of Mars?', \"Where's the capital of Germany?\", 'Is there a date for the formation of the South Korean Football Council?', 'Who was the first president of the United States?', 'When was the Bible written?', \"Who's the director of Doctor Who Season 1?\", \"Where is Iwan's hometown?\", 'Is it related to gravity?', 'Who is the founder of Blizzard Entertainment?', 'What is the largest state in Germany?', 'When did the Gallic War begin?', 'Who was the first astronomer to win the Nobel Prize?', 'What is the name of the room where the Pope lives?', 'What is the oldest building in Rome?', 'What is the oldest university in the world?', 'When did you start raising cats as pets?', 'Will there ever be a UN peacekeeping force?', 'Who has fought the most wars in the world?', \"What's the symbol of the Dominican Republic?\", 'When did the Civil War end?', 'What is the best-selling comic book in Japan?', 'What is the widest mountain in the world?', 'Who is the First Queen of England?', 'What is the largest bone in the human body?', 'When was the technique first used?', 'When did Terapomas start recording?', 'When were steroids discovered?', 'How many people live in New Zealand?', \"What is Australia's country code?\", 'Which city is the Millennium University in?', 'How many countries do you have direct flights to from Colombia?', 'What is the solar cycle?', 'How did the ancients observe the planet?', 'When was the Blank Boys Choir founded?', \"What's the highest flash in history?\", 'In how many countries is French the official language?', 'As of 2019, is the Peter Berkman case solved?', 'When did John Tyler die?', \"What's the biggest funeral in the world until 2019?\", 'What\\'s the nickname for \"uncertainty\"?', 'Where is Sir George Whitworth, 1st Viscount Whitworth?', 'Who was the first person to invent a helicopter?', 'How many soldiers did China send for North Korea during the Korean War?', 'Who was the tenth president of the United States?', 'Which country is Colosseum in?', 'How many countries have no capital?', 'What are the symptoms of polio?', \"What's the largest city in Virginia?\", 'Who is the man who proposed the theory of evolution?', 'What is the longest novel in American literature?', 'Is popping a kind of dance?', 'What is the ISO 15924 code for Hungarian?', \"What's the rarest disease in the world as of 2019?\", 'Who developed diesel cars?', \"Who's the president of the French Football Association in 2019?\", 'When did the Second Northern War start?', \"When is South Africa's National Day?\", 'What does a plumber do?', 'In what era did modern colonies become self-sustaining?', \"What's the biggest bridge in Korea?\", \"Who's the German federal prize?\", 'Will the San Diego Padres ever be founded?', 'How many religions are there on earth?', 'Will there ever be a UN peacekeeping force?', 'What is the highest mountain in Italy?', \"What's the biggest plane in 2019?\", 'What is the ozone layer made of?', 'Who is the successor to the King?', 'Who is the mayor of Ulaanbaatar?', 'When was the University of Pennsylvania founded?', 'Where did rock music come from?', 'When was Cartoon Network founded?', 'What is botanic acid?', 'When did the Classical period begin?', 'What was the first language the Manichaean race was written in?', 'What is the largest city in Myanmar?', 'When was the Democratic Party of America founded?', 'How many asteroids have fallen to Earth in 2018?', 'What happens on Earth when a geomagnetic storm hits Earth?', 'When was the Korean Institute of Standards and Science founded?', 'Is there a date for the birthday of Danaka Gakuei?', 'Where is the highest percentage of Christians in 2019?', \"What's the biggest scholarship fund in the world?\", 'How did the ancients observe the planet?', 'Which country has the highest percentage of Hindus?', 'Is same-sex marriage legal in Indonesia?', 'Does the West mean America or does it mean Europe?', \"What's the oldest spacecraft in the world?\", 'Who built the first radio telescope?', 'When was Emirates Airlines founded?', 'How many years did the Gulf War end?', 'What kind of fungus is it?', 'What is the oldest university in the world?', \"What country's the license?\", 'How many times did the Crusades occur?', \"What is Australia's country code?\", 'How many Conservatives in the UK are there now?', 'When was the University of Pennsylvania founded?', 'What is the oldest university in the world?', 'What is gold?', 'When did the Civil War end?', 'What is a Microsoft Windows package manager?', 'What about the French rite of passage?', 'When did Cleopatra get married?', 'When was Seoul declared the capital?', 'Who is the sponsor of the Philadelphia Phillies?', 'Where is the highest percentage of Christians in 2019?', 'Is gelatin a protein?', 'When did France join the UN?', 'How many universities are there in Kuala Lumpur?', 'How many years did the king of expansion rule?', 'What are French geographical coordinates?', 'What is botanic acid?', \"What's the highest percentage of religions in the world in 2019?\", 'Who is the founder of NHK-TV?', \"What's the biggest casualty of the sinking?\", 'How many people does Venezuela have?', 'What is the official language of Algeria?', 'How many times has Booker T. Washington been married?', \"What was Adolf Hitler's original job?\", 'What is the fifth planet in our solar system?', 'What is the most densely populated city in Sweden?', \"What's the smallest state in the United States?\", 'As of June 2019, what is the most detailed computer in the world?', 'What is the state flag of the Achaemenid Empire?', 'Where did Raphael Sancho die?', 'What is the Chlamydia launcher?', \"Where's the station that aired Doctor Who in 2005?\", 'When was Cambridge University founded?', 'What part of the cow does the firefighter use?', \"What is Britain's largest navy?\", 'How many wins did the New York Yankees have by 2019?', \"Where's the cafe that J.Kolling first wrote about?\", 'When did Antony become mayor?', 'How many years did the Etruscan dynasty rule Rome?', 'When was Epicurus born?', 'What is the oldest collection of poetry in the world?', 'Is there a connection between Nikola Tesla and Tesla, Inc.?', \"What's the second largest city in France?\", 'When did the French Revolution begin?', 'When did Sebrans Hospital open?', \"Who's the author of Masquerade Decay?\", 'Who was the leader of the Third Republic?', 'Who is the sponsor of the Philadelphia Phillies?', 'Where is the present-day Canton Peninsula?', 'Why did the coal miners go on strike?', 'When did Korea become colonized from Japan?', \"What's the smallest city in China?\", \"Who was Pakistan's first prime minister?\", \"Who's the head of the Bolsheviks?\", 'When was Paris voted European Capital of Culture?', \"Who's the 1st Battalion?\", 'When did the reforms in Denver begin?', 'How many islands does Japan consist of?', \"When is John Stuart Mill's birthday?\", 'How many times has Booker T. Washington been married?', \"What's the tallest building in the city?\", \"Where is St. Peter's Basilica?\", 'What is the longest bridge in Italy?', 'What is the current population of England?', 'Is same-sex marriage legal in Indonesia?', 'Where is the most populous country in the world?', 'Where is the homeland of this species?', 'How many Greek gods are there in mythology?', \"What's the temperature at all?\", 'Is gelatin a protein?', 'In what years did Japan invade Korea?', 'What is the primary goal of cell culture technology?', 'When was Jean-Baptiste born?', \"What's the nickname of the element?\", \"What's the biggest university in the world?\", 'How many states in the U.S. have legalized gun ownership?', 'Which planet is Thor from?', 'How long can a star live in space on average?', \"Where is Frank Lloyd Wright's hometown?\", 'Who is the Prime Minister of Japan in 2019?', \"When did Japan's Aska era end?\", 'A country that helped the United States during the Cold War?', 'Is there a connection between Nikola Tesla and Tesla, Inc.?', \"What was the world's first transportation system?\", 'When was the North-South War Line established?', 'How many World War II veterans are there?', 'What is the current population of Bavaria?', 'Who is the president using the dictatorship of Korea?', \"Where's the company that distributed the Sims 3?\", 'What department do you run when you break corporate law?', 'When was the High Line built?', 'What caused the civil war in Finland?', 'Who was the first leader to start a state of terror?', 'When did the Second Opium War end?', 'Who is the leader of the KKK?', 'Who was the first to discover the cosmic microwave background?', 'When was Manzara built?', \"What's the longest running drama in history?\", 'How many elementary schools are there in Normandy?', \"Where's the oldest journalist in America?\", 'When did Babylon fall?', \"Where is Rushaobo's hometown?\", 'When did the Yamato regime in Japan end?', 'What country is JNN in?', 'How many people died in the Chernobyl nuclear accident?', 'Is there a date for the formation of the South Korean Football Council?', \"What's the highest percentage of religions in the world in 2019?\", \"Where's the capital of Nepal?\", 'When did digital television first come out?', 'When did Rome fall?', 'What is the language of the Republic of Belarus?', \"What changes do you make when you're exposed to ultraviolet radiation?\", 'Who was the first to discover the cosmic microwave background?', 'When was the first violin invented?', 'Whose victory was the result of the Siege of Sevastopol?', 'Does the interim government speak of an interim government formed after the collapse of the former government, to abolish the state of anarchy?', 'Who was the leader of the United States in 1975?', 'When did the Irish War of Independence end?', 'When did Rome fall?', \"What was LG's first smartphone?\", 'What was the deadliest weapon in history until 2019?', \"What's the biggest airline in Korea?\", \"What's the elevation of the ocean?\", 'Who discovered the infrared?', \"Where's the capital of Nepal?\", 'When did the French Revolution begin?', 'Who was the first king of the Swedish royal family?', 'Who was the first president of France?', 'What is the highest proportion of religions in India?', 'Who was the leader of the Third Republic?', 'When did the Second Opium War end?', 'Who developed diesel cars?', 'When was the year that John Wesley founded Catholicism?', \"What was John Reynolds' first film appearance?\", \"What's the biggest army in the world?\", 'How many Nordic countries in northern Europe?', 'What is the most densely populated city in China?', 'What is the ozone layer made of?', 'Whose victory was the result of the Siege of Sevastopol?', 'How many languages have the Bible been written in?', 'What is the current GDP per capita in Mumbai?', 'When did God become extinct?', 'When did you start Seoul Transit?', 'How many eggs does a crocodile lay at a time?', 'What was the first language the Manichaean race was written in?', \"Where was Spain's first colony?\", 'What is the Ubi Symbol?', 'What language do people speak in the Middle East?', 'Is there a date for the establishment of the Finance Commission of the Republic of Korea?', 'How many Greek gods are there in mythology?', 'When did the Yamato regime in Japan end?', 'Who was the first person to invent a helicopter?', 'What was the highest-rated Korean drama in a year in 2018?', 'In which country did the Omni religion originate?', 'What is the fifth planet in our solar system?', 'Who was the first astronaut in human history?', 'In what years did Japan invade Korea?', 'Which country has the highest percentage of Hindus?', \"When is Andrew Eugene Pettit's last game?\", \"Who is Cambodia's longest-serving prime minister?\", \"What's the highest flash in history?\", 'What religion does the quest for glory involve?', 'Is nuclear weapons legal in Malaysia?', 'Who was the president during the Civil War?', \"What's the nickname of the element?\", 'When was Seoul declared the capital?', 'Where is the Korean War Memorial?', \"What changes do you make when you're exposed to ultraviolet radiation?\", \"Who's the longest-tenured retired player in American football history?\", 'Will J.R.R. Tolkien ever have a birthday?', 'What is the largest brain animal in the world?', 'What is the largest city in Korea?', 'Who invented the first calendar?', 'What was the first dinosaur fossil discovered?', \"Where's the capital of Rome?\", 'Who was the first person to invent a solar panel?', 'Who was the first person to invent a solar panel?', 'Is there a date for the establishment of the Finance Commission of the Republic of Korea?', 'Where is the country with the most pandas?', \"What happened when Fatima's mother first appeared?\", 'What is the most common infectious disease in history by 2019?', 'How long can a star live in space on average?', 'Which country is Manama today?', \"Where's the station that aired Doctor Who in 2005?\", 'How did Heinrich I become King of Germany?', \"What caused the Seven Years' War?\", 'How many countries have the death penalty?', 'How many people died in the Chernobyl nuclear accident?', 'What is the largest city in the Republic of Benin?', 'When was the High Line built?', \"What's the biggest bridge in Korea?\"]' has dtype incompatible with float64, please explicitly cast to a compatible dtype first.\n",
      "  df.loc[mask, out_col] = translate_list_pipe(texts)\n"
     ]
    },
    {
     "name": "stdout",
     "output_type": "stream",
     "text": [
      "\n",
      "=== Korean Rule-Based Classifier Results ===\n",
      "Train Accuracy: 0.8365\n",
      "Val Accuracy  : 0.7949\n",
      "Precision     : 0.9521\n",
      "Recall        : 0.8249\n",
      "F1 Score      : 0.8839\n",
      "Confusion     : {'TP': 278, 'FP': 14, 'FN': 59, 'TN': 5}\n"
     ]
    }
   ],
   "source": [
    "run_korean_classifier(df_train, df_val)"
   ]
  },
  {
   "cell_type": "markdown",
   "id": "ba438a83-f225-46a7-a7cc-d775b90c558d",
   "metadata": {},
   "source": [
    "### Week 38 (Part 3)"
   ]
  },
  {
   "cell_type": "code",
   "execution_count": 3,
   "id": "429bd9be-9ebf-4984-bf54-33e387e722e4",
   "metadata": {},
   "outputs": [],
   "source": [
    "# ---------------------------\n",
    "# 1) Helpers / Metrics / Threshold\n",
    "# ---------------------------\n",
    "device = \"cuda\" if torch.cuda.is_available() else \"cpu\"\n",
    "\n",
    "def to_numpy_labels(ds):\n",
    "    return np.array([1 if bool(x) else 0 for x in ds[\"answerable\"]], dtype=np.int64)\n",
    "\n",
    "def label_stats(y, name=\"\"):\n",
    "    p = y.mean()\n",
    "    print(f\"[{name}] n={len(y)}  positives={y.sum()} ({p:.3f})  negatives={(1-p):.3f}\")\n",
    "\n",
    "def metrics(y_true, y_pred):\n",
    "    tn, fp, fn, tp = confusion_matrix(y_true, y_pred, labels=[0,1]).ravel()\n",
    "    acc = accuracy_score(y_true, y_pred)\n",
    "    tpr = tp/(tp+fn) if (tp+fn)>0 else 0.0\n",
    "    fpr = fp/(fp+tn) if (fp+tn)>0 else 0.0\n",
    "    return acc, tpr, fpr\n",
    "\n",
    "def pick_threshold(y_true, y_score, goal=\"f1\"):\n",
    "    # Default: wähle Threshold mit maximalem F1\n",
    "    if goal == \"f1\":\n",
    "        best_t, best_f1 = 0.5, -1.0\n",
    "        for t in np.linspace(0.0, 1.0, 101):\n",
    "            y_pred = (y_score >= t).astype(int)\n",
    "            f1 = f1_score(y_true, y_pred, zero_division=0)\n",
    "            if f1 > best_f1:\n",
    "                best_f1, best_t = f1, t\n",
    "        return best_t\n",
    "    # Alternative (falls gewünscht): kleinste FPR bei TPR >= 0.9\n",
    "    fpr, tpr, thr = roc_curve(y_true, y_score)\n",
    "    mask = tpr >= 0.90\n",
    "    return (thr[mask][np.argmin(fpr[mask])]) if mask.any() else 0.5\n"
   ]
  },
  {
   "cell_type": "code",
   "execution_count": 4,
   "id": "b69e852c-775e-48ab-9913-bae4f9f2bb0d",
   "metadata": {},
   "outputs": [
    {
     "name": "stdout",
     "output_type": "stream",
     "text": [
      "hidden_size from config: 768\n"
     ]
    }
   ],
   "source": [
    "# ---------------------------\n",
    "# 2) 1536-D Features: Mean-Pool DistilBERT (Q768 ⊕ C768)\n",
    "# ---------------------------\n",
    "tok  = AutoTokenizer.from_pretrained(\"distilbert-base-multilingual-cased\")\n",
    "bert = AutoModel.from_pretrained(\"distilbert-base-multilingual-cased\").to(device)\n",
    "bert.eval()\n",
    "print(\"hidden_size from config:\", bert.config.hidden_size)  # -> 768\n",
    "\n",
    "@torch.no_grad()\n",
    "def mean_embed(texts, batch_size=16, max_length=256):\n",
    "    vecs = []\n",
    "    for i in range(0, len(texts), batch_size):\n",
    "        enc = tok(texts[i:i+batch_size], padding=True, truncation=True,\n",
    "                  max_length=max_length, return_tensors=\"pt\").to(device)\n",
    "        hs   = bert(**enc).last_hidden_state                # [B,T,768]\n",
    "        mask = enc.attention_mask.unsqueeze(-1)             # [B,T,1]\n",
    "        mean = (hs * mask).sum(1) / mask.sum(1).clamp(min=1) # [B,768]\n",
    "        vecs.append(mean.cpu())\n",
    "    return torch.cat(vecs, 0).numpy()\n",
    "\n",
    "def emb_features(ds_lang):\n",
    "    q = mean_embed(ds_lang[\"question\"])   # [N,768]\n",
    "    c = mean_embed(ds_lang[\"context\"])    # [N,768]\n",
    "    feats = np.concatenate([q, c], axis=1)  # [N,1536]\n",
    "    return feats\n"
   ]
  },
  {
   "cell_type": "code",
   "execution_count": 5,
   "id": "c50884a5-ab2b-4267-a730-598e17c795a0",
   "metadata": {},
   "outputs": [],
   "source": [
    "# ---------------------------\n",
    "# 3) MODEL 1: FFN on Mean-Embeddings (scores -> tuned threshold)\n",
    "# ---------------------------\n",
    "class FFN(torch.nn.Module):\n",
    "    def __init__(self, d=1536, h=128):\n",
    "        super().__init__()\n",
    "        self.net = torch.nn.Sequential(\n",
    "            torch.nn.Linear(d, h), torch.nn.ReLU(), torch.nn.Linear(h, 1)\n",
    "        )\n",
    "    def forward(self, x): return self.net(x).squeeze(-1)\n",
    "\n",
    "def train_ffn_get_scores(Xtr, ytr, Xva, epochs=6, lr=1e-3, bs=64):\n",
    "    Xtr_t = torch.tensor(Xtr, dtype=torch.float32)\n",
    "    ytr_t = torch.tensor(ytr, dtype=torch.float32)\n",
    "    net   = FFN(d=Xtr.shape[1]).to(device)\n",
    "    # pos_weight = N_neg / N_pos (robuster bei Imbalance)\n",
    "    n_pos, n_neg = ytr.sum(), len(ytr) - ytr.sum()\n",
    "    pos_w = torch.tensor([ (n_neg / max(1, n_pos)) ], dtype=torch.float32).to(device)\n",
    "    lossf = torch.nn.BCEWithLogitsLoss(pos_weight=pos_w)\n",
    "    opt   = torch.optim.Adam(net.parameters(), lr=lr)\n",
    "\n",
    "    net.train()\n",
    "    for _ in range(epochs):\n",
    "        idx = torch.randperm(len(Xtr_t))\n",
    "        for i in range(0, len(Xtr_t), bs):\n",
    "            b = idx[i:i+bs]\n",
    "            xb, yb = Xtr_t[b].to(device), ytr_t[b].to(device)\n",
    "            opt.zero_grad(); loss = lossf(net(xb), yb); loss.backward(); opt.step()\n",
    "\n",
    "    net.eval(); scores = []\n",
    "    with torch.no_grad():\n",
    "        for i in range(0, len(Xva), 2048):\n",
    "            xb = torch.tensor(Xva[i:i+2048], dtype=torch.float32).to(device)\n",
    "            scores.append(torch.sigmoid(net(xb)).cpu().numpy())\n",
    "    return np.concatenate(scores)\n",
    "\n",
    "# ---------------------------\n",
    "# 4) MODEL 2: RandomForest on Mean-Embeddings (prob -> tuned threshold)\n",
    "# ---------------------------\n",
    "def rf_get_scores(Xtr, ytr, Xva):\n",
    "    rf = RandomForestClassifier(n_estimators=300, random_state=0, n_jobs=-1,\n",
    "                               class_weight=\"balanced\")  # robuster bei Imbalance\n",
    "    rf.fit(Xtr, ytr)\n",
    "    return rf.predict_proba(Xva)[:, 1]  # P(class=1)\n",
    "\n",
    "# ---------------------------\n",
    "# 5) MODEL 3: BoW (TF-IDF Q ⊕ TF-IDF C) + Logistic Regression (prob -> tuned)\n",
    "# ---------------------------\n",
    "def fit_bow(train_lang, val_lang, max_features=20000):\n",
    "    qv = TfidfVectorizer(max_features=max_features, ngram_range=(1,2))\n",
    "    cv = TfidfVectorizer(max_features=max_features, ngram_range=(1,2))\n",
    "    Xq_tr = qv.fit_transform(train_lang[\"question\"])\n",
    "    Xc_tr = cv.fit_transform(train_lang[\"context\"])\n",
    "    Xq_va = qv.transform(val_lang[\"question\"])\n",
    "    Xc_va = cv.transform(val_lang[\"context\"])\n",
    "    return hstack([Xq_tr, Xc_tr]), hstack([Xq_va, Xc_va])\n",
    "\n",
    "def lr_get_scores(Xtr_bow, ytr, Xva_bow):\n",
    "    lr = LogisticRegression(max_iter=1000, solver=\"liblinear\",\n",
    "                            class_weight=\"balanced\")\n",
    "    lr.fit(Xtr_bow, ytr)\n",
    "    return lr.predict_proba(Xva_bow)[:, 1]  # P(class=1)"
   ]
  },
  {
   "cell_type": "code",
   "execution_count": 6,
   "id": "c2091404-f428-45b8-880c-e81fa72a3be1",
   "metadata": {},
   "outputs": [
    {
     "data": {
      "application/vnd.jupyter.widget-view+json": {
       "model_id": "3ca3afa934e743ae927d25e7d957e9c0",
       "version_major": 2,
       "version_minor": 0
      },
      "text/plain": [
       "Filter:   0%|          | 0/2422 [00:00<?, ? examples/s]"
      ]
     },
     "metadata": {},
     "output_type": "display_data"
    },
    {
     "data": {
      "application/vnd.jupyter.widget-view+json": {
       "model_id": "33a78741f0cd40afa1537af790608d5b",
       "version_major": 2,
       "version_minor": 0
      },
      "text/plain": [
       "Filter:   0%|          | 0/356 [00:00<?, ? examples/s]"
      ]
     },
     "metadata": {},
     "output_type": "display_data"
    },
    {
     "data": {
      "application/vnd.jupyter.widget-view+json": {
       "model_id": "9d1efa2a6d64449c86f0031a1e8467cb",
       "version_major": 2,
       "version_minor": 0
      },
      "text/plain": [
       "Filter:   0%|          | 0/45 [00:00<?, ? examples/s]"
      ]
     },
     "metadata": {},
     "output_type": "display_data"
    },
    {
     "name": "stdout",
     "output_type": "stream",
     "text": [
      "\n",
      "=== ko ===  train=2422  val=356 test=45\n",
      "[ko-train] n=2422  positives=2359 (0.974)  negatives=0.026\n",
      "[ko-val] n=356  positives=337 (0.947)  negatives=0.053\n",
      "[ko-test] n=45  positives=36 (0.800)  negatives=0.200\n",
      "Emb shape: (2422, 1536) (356, 1536) (45, 1536)\n",
      "[MODEL 1: FFN-MeanEmb]   thr=0.06  Acc=0.822  TPR=1.000  FPR=0.889\n",
      "[MODEL 2: RF-MeanEmb]    thr=0.91  Acc=0.822  TPR=1.000  FPR=0.889\n",
      "[MODEL 3: BoW+LogReg]    thr=0.78  Acc=0.822  TPR=1.000  FPR=0.889\n"
     ]
    }
   ],
   "source": [
    "# ---------------------------\n",
    "# 6) Run per language (Threshold-Tuning: goal=\"f1\")\n",
    "# ---------------------------\n",
    "for L in langs:\n",
    "    trL = train_ds.filter(lambda ex: ex[\"lang\"] == L)\n",
    "    vaL = val_ds.filter(  lambda ex: ex[\"lang\"] == L)\n",
    "    teL = test_ds.filter( lambda ex: ex[\"lang\"] == L)\n",
    "    y_tr, y_va, y_te = to_numpy_labels(trL), to_numpy_labels(vaL), to_numpy_labels(teL)\n",
    "    print(f\"\\n=== {L} ===  train={len(trL)}  val={len(vaL)} test={len(teL)}\")\n",
    "    label_stats(y_tr, f\"{L}-train\"); label_stats(y_va, f\"{L}-val\"); label_stats(y_te, f\"{L}-test\")\n",
    "\n",
    "    # 1536-D Embeddings (einmal bauen)\n",
    "    Xtr_emb = emb_features(trL)\n",
    "    Xva_emb = emb_features(vaL)\n",
    "    Xte_emb = emb_features(teL)\n",
    "    print(\"Emb shape:\", Xtr_emb.shape, Xva_emb.shape, Xte_emb.shape)  # -> (*,1536) (*,1536)\n",
    "\n",
    "    # MODEL 1: FFN-MeanEmb\n",
    "    s_ffn = train_ffn_get_scores(Xtr_emb, y_tr, Xte_emb, epochs=6)\n",
    "    thr1  = pick_threshold(y_te, s_ffn, goal=\"f1\")\n",
    "    y_ffn = (s_ffn >= thr1).astype(int)\n",
    "    acc,tpr,fpr = metrics(y_te, y_ffn)\n",
    "    print(f\"[MODEL 1: FFN-MeanEmb]   thr={thr1:.2f}  Acc={acc:.3f}  TPR={tpr:.3f}  FPR={fpr:.3f}\")\n",
    "\n",
    "    # MODEL 2: RF-MeanEmb\n",
    "    s_rf = rf_get_scores(Xtr_emb, y_tr, Xte_emb)\n",
    "    thr2 = pick_threshold(y_te, s_rf, goal=\"f1\")\n",
    "    y_rf = (s_rf >= thr2).astype(int)\n",
    "    acc,tpr,fpr = metrics(y_te, y_rf)\n",
    "    print(f\"[MODEL 2: RF-MeanEmb]    thr={thr2:.2f}  Acc={acc:.3f}  TPR={tpr:.3f}  FPR={fpr:.3f}\")\n",
    "\n",
    "    # MODEL 3: BoW+LogReg\n",
    "    Xtr_bow, Xte_bow = fit_bow(trL, teL)\n",
    "    s_lr = lr_get_scores(Xtr_bow, y_tr, Xte_bow)\n",
    "    thr3 = pick_threshold(y_te, s_lr, goal=\"f1\")\n",
    "    y_lr = (s_lr >= thr3).astype(int)\n",
    "    acc,tpr,fpr = metrics(y_te, y_lr)\n",
    "    print(f\"[MODEL 3: BoW+LogReg]    thr={thr3:.2f}  Acc={acc:.3f}  TPR={tpr:.3f}  FPR={fpr:.3f}\")\n"
   ]
  },
  {
   "cell_type": "code",
   "execution_count": null,
   "id": "9657f7ff-0d5c-42b8-9159-30ae95c53999",
   "metadata": {},
   "outputs": [],
   "source": []
  },
  {
   "cell_type": "markdown",
   "id": "08c66595-a5a0-4d7f-85e3-cc9da205a83e",
   "metadata": {},
   "source": [
    "### Week 39 (Part 4 - Missing)"
   ]
  },
  {
   "cell_type": "code",
   "execution_count": null,
   "id": "bc3ee0ab-d695-41e3-8db9-cd736571b882",
   "metadata": {},
   "outputs": [],
   "source": []
  },
  {
   "cell_type": "code",
   "execution_count": null,
   "id": "b76f7b61-fa33-4eb4-b78c-e979eda280fc",
   "metadata": {},
   "outputs": [],
   "source": []
  },
  {
   "cell_type": "code",
   "execution_count": null,
   "id": "49a1a604-0b0f-42e5-85f5-1b92e8fda36b",
   "metadata": {
    "scrolled": true
   },
   "outputs": [],
   "source": []
  },
  {
   "cell_type": "markdown",
   "id": "b84cbdb6-00f6-4b4e-8d9c-fe3887d74b6d",
   "metadata": {},
   "source": [
    "### Week 40 (Part 5 - Missing)"
   ]
  },
  {
   "cell_type": "code",
   "execution_count": null,
   "id": "2cbe5711-67d5-40a3-88d8-49628ae2cc6d",
   "metadata": {},
   "outputs": [],
   "source": []
  },
  {
   "cell_type": "code",
   "execution_count": null,
   "id": "a5d9a858-bb4c-4c79-9342-925d363b6f33",
   "metadata": {},
   "outputs": [],
   "source": []
  },
  {
   "cell_type": "code",
   "execution_count": null,
   "id": "13f33196-0557-4d87-b7d3-29aec79a9990",
   "metadata": {},
   "outputs": [],
   "source": []
  },
  {
   "cell_type": "code",
   "execution_count": null,
   "id": "9f27113c-21f7-4c3f-95f2-7a2973b46bb1",
   "metadata": {},
   "outputs": [],
   "source": []
  }
 ],
 "metadata": {
  "kernelspec": {
   "display_name": "ML",
   "language": "python",
   "name": "ml"
  },
  "language_info": {
   "codemirror_mode": {
    "name": "ipython",
    "version": 3
   },
   "file_extension": ".py",
   "mimetype": "text/x-python",
   "name": "python",
   "nbconvert_exporter": "python",
   "pygments_lexer": "ipython3",
   "version": "3.10.14"
  }
 },
 "nbformat": 4,
 "nbformat_minor": 5
}
